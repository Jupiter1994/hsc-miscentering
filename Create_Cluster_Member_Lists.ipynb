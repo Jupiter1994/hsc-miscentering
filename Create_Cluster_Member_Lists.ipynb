{
 "cells": [
  {
   "cell_type": "markdown",
   "id": "37f8346a",
   "metadata": {},
   "source": [
    "# Creating cluster member lists"
   ]
  },
  {
   "cell_type": "markdown",
   "id": "760204c6",
   "metadata": {},
   "source": [
    "Given a cluster ID, save its member list (i.e., the coordinates of each galaxy in the cluster) as a csv file."
   ]
  },
  {
   "cell_type": "code",
   "execution_count": 1,
   "id": "b8d5f269",
   "metadata": {},
   "outputs": [],
   "source": [
    "import numpy as np\n",
    "\n",
    "# path to cluster catalog\n",
    "cluster_cat_path = \"camira_s19a_wide_sm_v1.txt\"\n",
    "# path to cluster members catalog\n",
    "full_member_cat_path = \"camira_mem_s19a_wide_sm_v1.dat\""
   ]
  },
  {
   "cell_type": "code",
   "execution_count": 2,
   "id": "518fb6f6",
   "metadata": {},
   "outputs": [],
   "source": [
    "HSC_cl_cat = np.loadtxt(cluster_cat_path, usecols=(0,1,2,3,4,5)) \n",
    "HSC_cl_cat_IDs = np.loadtxt(cluster_cat_path, dtype='str', usecols=(6)) \n",
    "\n",
    "full_member_cat = np.loadtxt(full_member_cat_path)"
   ]
  },
  {
   "cell_type": "markdown",
   "id": "ae5068ec",
   "metadata": {},
   "source": [
    "## Dictionary of cluster properties to cluster ID\n",
    "\n",
    "Key: a 3-value tuple containing the cluster's RA, declination, and redshift (rounded to 3 decimal places) \n",
    "\n",
    "Value: the cluster's ID as a string (eg 'C19a1sW02869')"
   ]
  },
  {
   "cell_type": "code",
   "execution_count": 3,
   "id": "e7c1967b",
   "metadata": {},
   "outputs": [],
   "source": [
    "list_props_ID = []\n",
    "\n",
    "for i in range(len(HSC_cl_cat)):\n",
    "    RA = HSC_cl_cat[i, 0]\n",
    "    dec = HSC_cl_cat[i, 1]\n",
    "    # z in the full member list is rounded to 3 decimal places\n",
    "    z = np.round(HSC_cl_cat[i, 2], 3)\n",
    "    ID = HSC_cl_cat_IDs[i]\n",
    "    props = (RA, dec, z)\n",
    "    \n",
    "    list_props_ID.append((props, ID))\n",
    "    \n",
    "dict_props_ID = dict(list_props_ID)"
   ]
  },
  {
   "cell_type": "markdown",
   "id": "3620f60d",
   "metadata": {},
   "source": [
    "## Dictionary of cluster ID to slice in full member list\n",
    "\n",
    "Key: the cluster's ID as a string (eg 'C19a1sW02869')\n",
    "\n",
    "Value: slice(a,b); a is the first place in the full member list where the cluster RA appears, \n",
    "and b-1 is the last\n",
    "\n",
    "This dictionary is created as follows: We look for every slice in the full member list with the same (RA, dec, z) tuple. Then, we get the ID via `dict_props_ID`, and we pair the ID with the slice."
   ]
  },
  {
   "cell_type": "code",
   "execution_count": 4,
   "id": "02a19c9a",
   "metadata": {
    "code_folding": [
     0
    ]
   },
   "outputs": [],
   "source": [
    "## creation of dict_ID_slice\n",
    "list_ID_slice = []\n",
    "low_ind = 0 # a\n",
    "high_ind = 0 # b\n",
    "\n",
    "num_of_cls = 0\n",
    "\n",
    "for i in range(len(full_member_cat)):\n",
    "    cluster_RA = full_member_cat[i, 0]\n",
    "    cluster_dec = full_member_cat[i, 1]\n",
    "    cluster_z = full_member_cat[i, 3]\n",
    "    props = (cluster_RA, cluster_dec, cluster_z)\n",
    "    \n",
    "    if (i < (len(full_member_cat) - 1)): \n",
    "        if (cluster_RA == full_member_cat[i+1, 0]) and (cluster_z == full_member_cat[i+1, 3]): \n",
    "            continue\n",
    "\n",
    "    # if we've reached this point, it means we've reached the last galaxy \n",
    "    # in this cluster\n",
    "    try:\n",
    "        ID = dict_props_ID[props]\n",
    "    except: # account for rounding variation in z\n",
    "        try:\n",
    "            props = (cluster_RA, cluster_dec, np.round(cluster_z+0.001,3))\n",
    "            ID = dict_props_ID[props]\n",
    "        except:\n",
    "            props = (cluster_RA, cluster_dec, np.round(cluster_z-0.001,3))\n",
    "            ID = dict_props_ID[props]\n",
    "    \n",
    "    high_ind = i + 1\n",
    "    list_ID_slice.append((ID, slice(low_ind, high_ind)))\n",
    "    low_ind = high_ind\n",
    "    \n",
    "dict_ID_slice = dict(list_ID_slice)"
   ]
  },
  {
   "cell_type": "code",
   "execution_count": 5,
   "id": "3dc57cd3",
   "metadata": {
    "code_folding": [],
    "scrolled": true
   },
   "outputs": [
    {
     "name": "stdout",
     "output_type": "stream",
     "text": [
      "number of clusters: 16589\n",
      "size of dict: 16589\n"
     ]
    }
   ],
   "source": [
    "## check we have the right number of entries in each dict\n",
    "print(f'number of clusters: {len(dict_props_ID)}')\n",
    "print(f'size of dict: {len(dict_ID_slice)}')"
   ]
  },
  {
   "cell_type": "code",
   "execution_count": 6,
   "id": "acf3aa18",
   "metadata": {},
   "outputs": [],
   "source": [
    "def save_mem_list(ID):\n",
    "    '''\n",
    "    \n",
    "    Given a cluster ID, save its member list as a csv.\n",
    "    \n",
    "    '''\n",
    "    prob_min = 0.1\n",
    "    prob_max = 1\n",
    "    path = 'Miscentered_Clusters_blank/' + ID + '/' + \\\n",
    "            ID + '_P=' + str(prob_min) + 'to' + str(prob_max) + '.csv'\n",
    "    member_slice = dict_ID_slice[ID]\n",
    "    mem_list_no_cut = full_member_cat[member_slice]\n",
    "\n",
    "    in_prob_range = (mem_list_no_cut[:,7] > prob_min) & (mem_list_no_cut[:,7] <= prob_max)\n",
    "\n",
    "    mem_list = mem_list_no_cut[in_prob_range][:, 4:6] # columns 4,5 have the gal coords\n",
    "\n",
    "    np.savetxt(fname=path, X=mem_list, delimiter=',', header='ra, dec')\n",
    "    \n",
    "#     print('ID: ' + ID)\n",
    "#     print(f'Number of galaxies in mem_list: {len(mem_list)}')"
   ]
  },
  {
   "cell_type": "code",
   "execution_count": 7,
   "id": "227270fc",
   "metadata": {},
   "outputs": [],
   "source": [
    "# list of miscentered HSC clusters\n",
    "misc_IDs = ['C19a1sW00048','C19a1sW00191','C19a1sW00577','C19a1sW00825','C19a1sW00866','C19a1sW00955','C19a1sW01237','C19a1sW01272','C19a1sW01400','C19a1sW01596','C19a1sW01711','C19a1sW02098','C19a1sW02209','C19a1sW02334','C19a1sW02498','C19a1sW02659','C19a1sW02852','C19a1sW02863','C19a1sW03332','C19a1sW03508','C19a1sW04184','C19a1sW04937','C19a1sW05441','C19a1sW05554','C19a1sW06808','C19a1sW06984','C19a1sW07320','C19a1sW07325','C19a1sW08037','C19a1sW08159','C19a1sW08325','C19a1sW08377','C19a1sW09451','C19a1sW10081','C19a1sW10241','C19a1sW10675','C19a1sW10803','C19a1sW10814','C19a1sW11430','C19a1sW11629','C19a1sW13410','C19a1sW15645','C19a1sW15696','C19a1sW15945','C19a1sW15996','C19a1sW16502']"
   ]
  },
  {
   "cell_type": "code",
   "execution_count": 9,
   "id": "078f26c5",
   "metadata": {
    "scrolled": false
   },
   "outputs": [],
   "source": [
    "for ID in misc_IDs:\n",
    "    save_mem_list(ID)"
   ]
  },
  {
   "cell_type": "code",
   "execution_count": null,
   "id": "c03ede3a",
   "metadata": {},
   "outputs": [],
   "source": []
  }
 ],
 "metadata": {
  "kernelspec": {
   "display_name": "Python 3",
   "language": "python",
   "name": "python3"
  },
  "language_info": {
   "codemirror_mode": {
    "name": "ipython",
    "version": 3
   },
   "file_extension": ".py",
   "mimetype": "text/x-python",
   "name": "python",
   "nbconvert_exporter": "python",
   "pygments_lexer": "ipython3",
   "version": "3.9.5"
  }
 },
 "nbformat": 4,
 "nbformat_minor": 5
}
