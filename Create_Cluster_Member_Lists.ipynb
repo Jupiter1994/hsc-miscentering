{
 "cells": [
  {
   "cell_type": "markdown",
   "id": "0d4d8edf",
   "metadata": {},
   "source": [
    "# Creating cluster member lists"
   ]
  },
  {
   "cell_type": "code",
   "execution_count": 47,
   "id": "80fbca54",
   "metadata": {},
   "outputs": [],
   "source": [
    "import numpy as np\n",
    "\n",
    "# path to cluster catalog\n",
    "cluster_cat_path = \"camira_s19a_wide_sm_v1.txt\"\n",
    "# path to cluster members catalog\n",
    "cluster_mem_path = \"camira_mem_s19a_wide_sm_v1.dat\""
   ]
  },
  {
   "cell_type": "code",
   "execution_count": 60,
   "id": "c32cf91e",
   "metadata": {},
   "outputs": [],
   "source": [
    "HSC_cl_cat = np.loadtxt(cluster_cat_path, usecols=(0,1,2,3,4,5)) \n",
    "HSC_cl_cat_IDs = np.loadtxt(cluster_cat_path, dtype='str', usecols=(6)) \n",
    "\n",
    "cluster_mems = np.loadtxt(cluster_mem_path)"
   ]
  },
  {
   "cell_type": "markdown",
   "id": "a4c1552e",
   "metadata": {},
   "source": [
    "## Increasing efficiency\n",
    "\n",
    "Idea: I could create a dictionary that pairs a cluster RA with the pair (a, b), where a is the RA's lowest index in the list and b is the highest"
   ]
  },
  {
   "cell_type": "code",
   "execution_count": 49,
   "id": "517ae57e",
   "metadata": {},
   "outputs": [],
   "source": [
    "# cluster_mem_path_test ='members_cat_test.txt'\n",
    "# cluster_mems = np.loadtxt(cluster_mem_path_test) # test file "
   ]
  },
  {
   "cell_type": "markdown",
   "id": "6f2861f4",
   "metadata": {},
   "source": [
    "## Dictionary of cluster props to cluster ID"
   ]
  },
  {
   "cell_type": "code",
   "execution_count": 73,
   "id": "bddb4fd1",
   "metadata": {},
   "outputs": [],
   "source": [
    "list_props_ID = []\n",
    "\n",
    "for i in range(len(HSC_cl_cat)):\n",
    "    RA = HSC_cl_cat[i, 0]\n",
    "    dec = HSC_cl_cat[i, 1]\n",
    "    # z in the full member list is rounded to 3 decimal places\n",
    "    z = np.round(HSC_cl_cat[i, 2], 3)\n",
    "    ID = HSC_cl_cat_IDs[i]\n",
    "    props = (RA, dec, z)\n",
    "    \n",
    "    list_props_ID.append((props, ID))\n",
    "    \n",
    "dict_props_ID = dict(list_props_ID)"
   ]
  },
  {
   "cell_type": "code",
   "execution_count": 77,
   "id": "a0363665",
   "metadata": {
    "code_folding": []
   },
   "outputs": [
    {
     "ename": "KeyError",
     "evalue": "(31.542414, -6.095341, 1.159)",
     "output_type": "error",
     "traceback": [
      "\u001b[0;31m------------------------------------------------------------\u001b[0m",
      "\u001b[0;31mKeyError\u001b[0m                   Traceback (most recent call last)",
      "\u001b[0;32m<ipython-input-77-2d6453579fa4>\u001b[0m in \u001b[0;36m<module>\u001b[0;34m\u001b[0m\n\u001b[1;32m     22\u001b[0m \u001b[0;34m\u001b[0m\u001b[0m\n\u001b[1;32m     23\u001b[0m     \u001b[0mprops\u001b[0m \u001b[0;34m=\u001b[0m \u001b[0;34m(\u001b[0m\u001b[0mcluster_RA\u001b[0m\u001b[0;34m,\u001b[0m \u001b[0mcluster_dec\u001b[0m\u001b[0;34m,\u001b[0m \u001b[0mcluster_z\u001b[0m\u001b[0;34m)\u001b[0m\u001b[0;34m\u001b[0m\u001b[0;34m\u001b[0m\u001b[0m\n\u001b[0;32m---> 24\u001b[0;31m     \u001b[0mID\u001b[0m \u001b[0;34m=\u001b[0m \u001b[0mdict_props_ID\u001b[0m\u001b[0;34m[\u001b[0m\u001b[0mprops\u001b[0m\u001b[0;34m]\u001b[0m\u001b[0;34m\u001b[0m\u001b[0;34m\u001b[0m\u001b[0m\n\u001b[0m\u001b[1;32m     25\u001b[0m \u001b[0;34m\u001b[0m\u001b[0m\n\u001b[1;32m     26\u001b[0m     \u001b[0mhigh_ind\u001b[0m \u001b[0;34m=\u001b[0m \u001b[0mi\u001b[0m \u001b[0;34m+\u001b[0m \u001b[0;36m1\u001b[0m\u001b[0;34m\u001b[0m\u001b[0;34m\u001b[0m\u001b[0m\n",
      "\u001b[0;31mKeyError\u001b[0m: (31.542414, -6.095341, 1.159)"
     ]
    }
   ],
   "source": [
    "# this dictionary stores the key-value pair of (cluster ID)-slice(a, b), where: \n",
    "# 1. cluster ID is found via dict_props_ID\n",
    "# 2. a is the first place in the full member list where the cluster RA appears \n",
    "# and b-1 is the last\n",
    "list_ID_slice = []\n",
    "low_ind = 0 # a\n",
    "high_ind = 0 # b\n",
    "\n",
    "num_of_cls = 0\n",
    "\n",
    "for i in range(len(cluster_mems)):\n",
    "    cluster_RA = cluster_mems[i, 0]\n",
    "    cluster_dec = cluster_mems[i, 1]\n",
    "    cluster_z = cluster_mems[i, 3]\n",
    "    \n",
    "    if (i < (len(cluster_mems) - 1)): \n",
    "        if (cluster_RA == cluster_mems[i+1, 0]): continue\n",
    "\n",
    "    num_of_cls += 1\n",
    "    # if we've reached this point, it means we've reached the last galaxy \n",
    "    # in this cluster\n",
    "    \n",
    "    props = (cluster_RA, cluster_dec, cluster_z)\n",
    "    ID = dict_props_ID[props]\n",
    "    \n",
    "    high_ind = i + 1\n",
    "    list_ID_slice.append((ID, slice(low_ind, high_ind)))\n",
    "    low_ind = high_ind\n",
    "    \n",
    "dict_ID_slice = dict(list_ID_slice)"
   ]
  },
  {
   "cell_type": "code",
   "execution_count": 81,
   "id": "e2e8bc89",
   "metadata": {},
   "outputs": [
    {
     "data": {
      "text/plain": [
       "59"
      ]
     },
     "execution_count": 81,
     "metadata": {},
     "output_type": "execute_result"
    }
   ],
   "source": [
    "num_of_cls"
   ]
  },
  {
   "cell_type": "code",
   "execution_count": 82,
   "id": "dd3b5284",
   "metadata": {},
   "outputs": [],
   "source": [
    "# set_of_RAs = set(cluster_mems[:,0])\n",
    "# for i in range(len(HSC_cl_cat)):\n",
    "# #     cl_RA = HSC_cl_cat[i, 0]\n",
    "# #     if cl_RA not in set_of_RAs:\n",
    "# #         print(cl_RA)\n",
    "#     if (i == len(HSC_cl_cat) - 1): continue\n",
    "#     if HSC_cl_cat[i, 0] == HSC_cl_cat[i+1, 0]:\n",
    "#         print(f'Index: {i}')\n",
    "#         print(f'Repeated RA: {HSC_cl_cat[i, 0]}')"
   ]
  },
  {
   "cell_type": "code",
   "execution_count": 39,
   "id": "7474d5e6",
   "metadata": {},
   "outputs": [
    {
     "data": {
      "text/plain": [
       "16581"
      ]
     },
     "execution_count": 39,
     "metadata": {},
     "output_type": "execute_result"
    }
   ],
   "source": [
    "set_of_RAs2 = set(HSC_cl_cat[:, 0])\n",
    "len(set_of_RAs2)"
   ]
  },
  {
   "cell_type": "code",
   "execution_count": 14,
   "id": "e55bd510",
   "metadata": {
    "code_folding": []
   },
   "outputs": [],
   "source": [
    "# main method\n",
    "def get_members(ra, dec, z, prob_cutoff=0, print_info=False):\n",
    "    '''\n",
    "    Given an HSC cluster's RA, declination, and z, save a list containing\n",
    "    all of its members.\n",
    "    \n",
    "    ARGUMENTS\n",
    "    ----------\n",
    "    ra: right ascension (degrees) of cluster\n",
    "    \n",
    "    dec: declination (degrees) of cluster\n",
    "    \n",
    "    prob_cutoff: exclude members with a probability membership smaller \n",
    "    than prob_cutoff; default is 0 (i.e. no members excluded)\n",
    "    \n",
    "    print_info: print information about the cluster and its member \n",
    "    list; default is False. Useful for debugging.\n",
    "    \n",
    "    '''\n",
    "    \n",
    "    # TODO: load the members catalog into a numpy array\n",
    "    cluster_mems = np.readtxt(cluster_mem_path)\n",
    "    \n",
    "    # TODO: identify members who match the given cluster RA/dec\n",
    "    # (do I get the indices in cluster_mem_path?)\n",
    "    \n",
    "    # TODO: omit clusters whose membership probabilities are too low\n",
    "    # membership_probs = cluster_mems[:,7]\n",
    "    \n",
    "    \n",
    "    # TODO: create the members list\n",
    "    # (do I write to a new file? or can I slice into the full member list?)\n",
    "\n",
    "    \n",
    "    # TODO: save members as a new file\n",
    "    member_list_path = \"Member_Lists/memlist_ra=\" + str(np.round(ra, 3)) + \\\n",
    "        \"_dec=\" + str(np.round(dec, 3))\n",
    "    #...\n",
    "    \n",
    "    if print_info:\n",
    "        print('Cluster members saved.')"
   ]
  },
  {
   "cell_type": "code",
   "execution_count": null,
   "id": "31effd17",
   "metadata": {},
   "outputs": [],
   "source": []
  }
 ],
 "metadata": {
  "kernelspec": {
   "display_name": "Python 3",
   "language": "python",
   "name": "python3"
  },
  "language_info": {
   "codemirror_mode": {
    "name": "ipython",
    "version": 3
   },
   "file_extension": ".py",
   "mimetype": "text/x-python",
   "name": "python",
   "nbconvert_exporter": "python",
   "pygments_lexer": "ipython3",
   "version": "3.9.5"
  }
 },
 "nbformat": 4,
 "nbformat_minor": 5
}
