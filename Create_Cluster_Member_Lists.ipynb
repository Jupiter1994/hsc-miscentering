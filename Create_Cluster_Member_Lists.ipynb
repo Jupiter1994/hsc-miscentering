{
 "cells": [
  {
   "cell_type": "markdown",
   "id": "a6ee4e24",
   "metadata": {},
   "source": [
    "# Creating cluster member lists"
   ]
  },
  {
   "cell_type": "markdown",
   "id": "7b6bf5fa",
   "metadata": {},
   "source": [
    "Given a cluster ID, save its member list as a txt file."
   ]
  },
  {
   "cell_type": "code",
   "execution_count": 47,
   "id": "bd76387d",
   "metadata": {},
   "outputs": [],
   "source": [
    "import numpy as np\n",
    "\n",
    "# path to cluster catalog\n",
    "cluster_cat_path = \"camira_s19a_wide_sm_v1.txt\"\n",
    "# path to cluster members catalog\n",
    "cluster_mem_path = \"camira_mem_s19a_wide_sm_v1.dat\""
   ]
  },
  {
   "cell_type": "code",
   "execution_count": 60,
   "id": "d1657fda",
   "metadata": {},
   "outputs": [],
   "source": [
    "HSC_cl_cat = np.loadtxt(cluster_cat_path, usecols=(0,1,2,3,4,5)) \n",
    "HSC_cl_cat_IDs = np.loadtxt(cluster_cat_path, dtype='str', usecols=(6)) \n",
    "\n",
    "cluster_mems = np.loadtxt(cluster_mem_path)"
   ]
  },
  {
   "cell_type": "markdown",
   "id": "ed426c45",
   "metadata": {},
   "source": [
    "## Dictionary of cluster coords to cluster ID"
   ]
  },
  {
   "cell_type": "code",
   "execution_count": 73,
   "id": "551726e5",
   "metadata": {},
   "outputs": [],
   "source": [
    "list_props_ID = []\n",
    "\n",
    "for i in range(len(HSC_cl_cat)):\n",
    "    RA = HSC_cl_cat[i, 0]\n",
    "    dec = HSC_cl_cat[i, 1]\n",
    "    # z in the full member list is rounded to 3 decimal places\n",
    "    z = np.round(HSC_cl_cat[i, 2], 3)\n",
    "    ID = HSC_cl_cat_IDs[i]\n",
    "    props = (RA, dec, z)\n",
    "    \n",
    "    list_props_ID.append((props, ID))\n",
    "    \n",
    "dict_props_ID = dict(list_props_ID)"
   ]
  },
  {
   "cell_type": "code",
   "execution_count": 111,
   "id": "856de459",
   "metadata": {
    "code_folding": []
   },
   "outputs": [],
   "source": [
    "# this dictionary stores the key-value pair of (cluster ID)-slice(a, b), where: \n",
    "# 1. cluster ID is found via dict_props_ID\n",
    "# 2. a is the first place in the full member list where the cluster RA appears \n",
    "# and b-1 is the last\n",
    "list_ID_slice = []\n",
    "low_ind = 0 # a\n",
    "high_ind = 0 # b\n",
    "\n",
    "num_of_cls = 0\n",
    "\n",
    "for i in range(len(cluster_mems)):\n",
    "    cluster_RA = cluster_mems[i, 0]\n",
    "    cluster_dec = cluster_mems[i, 1]\n",
    "    cluster_z = cluster_mems[i, 3]\n",
    "    props = (cluster_RA, cluster_dec, cluster_z)\n",
    "    \n",
    "    if (i < (len(cluster_mems) - 1)): \n",
    "        if (cluster_RA == cluster_mems[i+1, 0]) and (cluster_z == cluster_mems[i+1, 3]): \n",
    "            continue\n",
    "\n",
    "    # if we've reached this point, it means we've reached the last galaxy \n",
    "    # in this cluster\n",
    "    try:\n",
    "        ID = dict_props_ID[props]\n",
    "    except: # account for rounding variation in z\n",
    "        try:\n",
    "            props = (cluster_RA, cluster_dec, np.round(cluster_z+0.001,3))\n",
    "            ID = dict_props_ID[props]\n",
    "        except:\n",
    "            props = (cluster_RA, cluster_dec, np.round(cluster_z-0.001,3))\n",
    "            ID = dict_props_ID[props]\n",
    "    \n",
    "    high_ind = i + 1\n",
    "    list_ID_slice.append((ID, slice(low_ind, high_ind)))\n",
    "    low_ind = high_ind\n",
    "    \n",
    "dict_ID_slice = dict(list_ID_slice)"
   ]
  },
  {
   "cell_type": "code",
   "execution_count": 112,
   "id": "47edfec8",
   "metadata": {
    "scrolled": true
   },
   "outputs": [
    {
     "name": "stdout",
     "output_type": "stream",
     "text": [
      "number of clusters: 16589\n",
      "size of dict: 16589\n"
     ]
    }
   ],
   "source": [
    "print(f'number of clusters: {len(dict_props_ID)}')\n",
    "print(f'size of dict: {len(dict_ID_slice)}')"
   ]
  },
  {
   "cell_type": "code",
   "execution_count": 123,
   "id": "91e57afb",
   "metadata": {},
   "outputs": [],
   "source": [
    "ID = 'C19a1sW02869'\n",
    "prob_cutoff = 0.\n",
    "path = 'Member_Lists/memlist_' + ID + '_aboveP=_' + str(prob_cutoff)\n",
    "member_slice = dict_ID_slice[ID]\n",
    "\n",
    "mem_list_no_cut = cluster_mems[member_slice]\n",
    "above_prob_cutoff = members[:,7] > prob_cutoff\n",
    "mem_list = mem_list_no_cut[above_prob_cutoff]\n",
    "\n",
    "np.savetxt(fname=path, X=mem_list)"
   ]
  },
  {
   "cell_type": "code",
   "execution_count": null,
   "id": "fc851f39",
   "metadata": {},
   "outputs": [],
   "source": []
  }
 ],
 "metadata": {
  "kernelspec": {
   "display_name": "Python 3",
   "language": "python",
   "name": "python3"
  },
  "language_info": {
   "codemirror_mode": {
    "name": "ipython",
    "version": 3
   },
   "file_extension": ".py",
   "mimetype": "text/x-python",
   "name": "python",
   "nbconvert_exporter": "python",
   "pygments_lexer": "ipython3",
   "version": "3.9.5"
  }
 },
 "nbformat": 4,
 "nbformat_minor": 5
}
