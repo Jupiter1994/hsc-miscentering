{
 "cells": [
  {
   "cell_type": "code",
   "execution_count": 1,
   "id": "c6628bfd",
   "metadata": {},
   "outputs": [],
   "source": [
    "import hscmap"
   ]
  },
  {
   "cell_type": "code",
   "execution_count": 4,
   "id": "d9e3442f",
   "metadata": {
    "scrolled": true
   },
   "outputs": [],
   "source": [
    "w = hscmap.Window(title='My Window')\n",
    "w.jump_to(10.651, 41.242, 0.5)"
   ]
  },
  {
   "cell_type": "code",
   "execution_count": null,
   "id": "305cdd31",
   "metadata": {},
   "outputs": [],
   "source": []
  }
 ],
 "metadata": {
  "kernelspec": {
   "display_name": "Python 3",
   "language": "python",
   "name": "python3"
  },
  "language_info": {
   "codemirror_mode": {
    "name": "ipython",
    "version": 3
   },
   "file_extension": ".py",
   "mimetype": "text/x-python",
   "name": "python",
   "nbconvert_exporter": "python",
   "pygments_lexer": "ipython3",
   "version": "3.9.5"
  }
 },
 "nbformat": 4,
 "nbformat_minor": 5
}
