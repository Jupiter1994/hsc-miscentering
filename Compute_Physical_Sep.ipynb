{
 "cells": [
  {
   "cell_type": "markdown",
   "id": "618135ba",
   "metadata": {},
   "source": [
    "# Compute Physical Separations"
   ]
  },
  {
   "cell_type": "markdown",
   "id": "e3113709",
   "metadata": {},
   "source": [
    "Given an angular separation and a redshift, compute the corresponding (projected) physical separation."
   ]
  },
  {
   "cell_type": "code",
   "execution_count": 1,
   "id": "8f68f042",
   "metadata": {},
   "outputs": [],
   "source": [
    "import numpy as np\n",
    "\n",
    "from astropy import units as u\n",
    "from astropy.cosmology import LambdaCDM"
   ]
  },
  {
   "cell_type": "code",
   "execution_count": 2,
   "id": "6326b8e5",
   "metadata": {
    "code_folding": [
     1
    ]
   },
   "outputs": [],
   "source": [
    "# returns physical separation at a given (theta, z)\n",
    "def get_physical_sep(cosmo, theta, z):\n",
    "    '''\n",
    "    \n",
    "    For two objects at the same redshift, calculate their physical separation \n",
    "    R as R = theta * d_A, where theta is angular separation (in radians) and \n",
    "    d_A is angular distance.\n",
    "    \n",
    "    ARGUMENTS\n",
    "    ----------\n",
    "    cosmo: model for cosmology; e.g. astropy.cosmology.LambdaCDM(...)\n",
    "    theta: angular separation; should be a Quantity \n",
    "    z: redshift\n",
    "    \n",
    "    '''\n",
    "    \n",
    "    theta = theta.to(u.rad) / u.rad\n",
    "    return theta * cosmo.angular_diameter_distance(z)\n",
    "\n",
    "# returns line-of-sight physical separation between two redshifts\n",
    "def LOS_distance_diff(cosmo, z1, z2):\n",
    "    '''\n",
    "\n",
    "    Given two objects at redshifts z1 and z2, compute the difference between their\n",
    "    proper distances at z1. Assumes z2 > z1.\n",
    "    \n",
    "    '''\n",
    "    \n",
    "    d2 = cosmo.comoving_distance(z2) / (1 + z1)\n",
    "    d1 = cosmo.comoving_distance(z1) / (1 + z1)\n",
    "    \n",
    "    return np.round(d2 - d1)"
   ]
  },
  {
   "cell_type": "code",
   "execution_count": 10,
   "id": "d4acceb3",
   "metadata": {
    "code_folding": []
   },
   "outputs": [
    {
     "name": "stdout",
     "output_type": "stream",
     "text": [
      "Physical sep:\n",
      "0.144 Mpc\n"
     ]
    }
   ],
   "source": [
    "## Testing get_physical_sep + cosmo.comoving_distance\n",
    "\n",
    "h = 0.7\n",
    "temp_cosmo = LambdaCDM(H0=100*h, Om0=0.3, Ode0=0.7)\n",
    "temp_angle = .2846 * u.arcmin\n",
    "temp_z = 1.4\n",
    "print('Physical sep:')\n",
    "print(np.round(get_physical_sep(temp_cosmo, temp_angle, temp_z),4))\n",
    "\n",
    "\n",
    "# print('LOS difference:')\n",
    "# print(LOS_distance_diff(temp_cosmo, .30, .32))"
   ]
  },
  {
   "cell_type": "markdown",
   "id": "1c0cfbd5",
   "metadata": {},
   "source": [
    "We estimate $\\sigma_1$ using Figure 5 in Hilton et al. 2021; at $\\text{SNR}_{2.4} = 4$, the scale parameter is $\\sim0.35$'. Using $z=0.7$, this angular scale corresponds to $\\sim0.15$ Mpc."
   ]
  },
  {
   "cell_type": "markdown",
   "id": "590de17d",
   "metadata": {},
   "source": [
    "## Physical offset as function of $\\theta$ ($z$ fixed)"
   ]
  },
  {
   "cell_type": "code",
   "execution_count": null,
   "id": "2ff4b7d8",
   "metadata": {},
   "outputs": [],
   "source": [
    "# theta_grid = np.linspace(0, 6, 50) * u.arcmin\n",
    "# temp_offsets = get_physical_sep(temp_cosmo, theta_grid, z=0.3)\n",
    "\n",
    "# fig = plt.figure(figsize=(10,7))\n",
    "# plt.plot(theta_grid, temp_offsets, label='fixed z')\n",
    "# plt.plot(theta_grid, np.ones(50) / h, label='offset=1 Mpc/h')\n",
    "# plt.xlabel('Angle (arcminutes)')\n",
    "\n",
    "# plt.legend()\n",
    "# plt.show()"
   ]
  },
  {
   "cell_type": "markdown",
   "id": "3bcb61b2",
   "metadata": {},
   "source": [
    "## Physical offset as a function of $(\\theta, z)$"
   ]
  },
  {
   "cell_type": "code",
   "execution_count": null,
   "id": "da69f428",
   "metadata": {},
   "outputs": [],
   "source": [
    "## Plot physical offset as a function of (theta, z)\n",
    "\n",
    "# theta_grid = np.linspace(0., 5, 50)\n",
    "# z_grid = np.linspace(0, 1.4, 50)\n",
    "# theta_grid,z_grid = np.meshgrid(theta_grid, z_grid)\n",
    "# theta_grid *= u.arcmin\n",
    "\n",
    "# temp_offsets = get_physical_sep(temp_cosmo, theta_grid.ravel(), z_grid.ravel())\n",
    "# temp_offsets = temp_offsets.reshape(theta_grid.shape)\n",
    "\n",
    "# from mpl_toolkits.mplot3d import Axes3D\n",
    "\n",
    "# fig = plt.figure(figsize=(10,10))\n",
    "# ax = fig.add_subplot(111, projection='3d')\n",
    "\n",
    "# ax.plot_surface(X=theta_grid, Y=z_grid, Z=temp_offsets, label=\"Offsets\")\n",
    "# ax.plot_surface(X=theta_grid, Y=z_grid, Z=np.ones(temp_offsets.shape) / h, \\\n",
    "#                 label=\"Offset = 1 Mpc / h\")\n",
    "# ax.set_xlabel('theta (arcmin)')\n",
    "# ax.set_ylabel('redshift')\n",
    "# ax.set_zlabel('physical offset (Mpc)')\n",
    "\n",
    "# plt.show()"
   ]
  }
 ],
 "metadata": {
  "kernelspec": {
   "display_name": "Python 3",
   "language": "python",
   "name": "python3"
  },
  "language_info": {
   "codemirror_mode": {
    "name": "ipython",
    "version": 3
   },
   "file_extension": ".py",
   "mimetype": "text/x-python",
   "name": "python",
   "nbconvert_exporter": "python",
   "pygments_lexer": "ipython3",
   "version": "3.9.5"
  }
 },
 "nbformat": 4,
 "nbformat_minor": 5
}
