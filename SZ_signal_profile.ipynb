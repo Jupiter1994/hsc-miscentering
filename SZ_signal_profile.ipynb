{
 "cells": [
  {
   "cell_type": "markdown",
   "id": "2eafdac6",
   "metadata": {},
   "source": [
    "# Plotting an SZ signal profile"
   ]
  },
  {
   "cell_type": "markdown",
   "id": "e5797c5d",
   "metadata": {},
   "source": [
    "The goal of this notebook is to plot equation 15 in [Arnaud et al. (2010)](https://ui.adsabs.harvard.edu/abs/2010A%26A...517A..92A/abstract) (A10). A10 defines the universal pressure profile (UPP) used in the ACT catalog."
   ]
  },
  {
   "cell_type": "code",
   "execution_count": 15,
   "id": "2b56da4a",
   "metadata": {
    "code_folding": []
   },
   "outputs": [],
   "source": [
    "## Import packages\n",
    "import numpy as np\n",
    "from scipy import integrate\n",
    "\n",
    "from astropy import constants as const\n",
    "from astropy.cosmology import LambdaCDM\n",
    "from astropy import units as u\n",
    "\n",
    "import matplotlib.pyplot as plt"
   ]
  },
  {
   "cell_type": "markdown",
   "id": "370f2942",
   "metadata": {},
   "source": [
    "## Universal pressure profile"
   ]
  },
  {
   "cell_type": "markdown",
   "id": "a30851c9",
   "metadata": {},
   "source": [
    "### Define parameters + cosmology"
   ]
  },
  {
   "cell_type": "code",
   "execution_count": 17,
   "id": "b34c9e9d",
   "metadata": {
    "code_folding": []
   },
   "outputs": [],
   "source": [
    "## Various profile parameters\n",
    "h_70 = 1.\n",
    "std_cosmo = LambdaCDM(H0=70*h_70, Om0=0.3, Ode0=0.7)\n",
    "\n",
    "# From Eq. (7)\n",
    "alpha_P = 1/0.561 - 5/3\n",
    "\n",
    "# From Eq. (12)\n",
    "P_0, c_500, gamma, alpha, beta = 8.403 * h_70**(-3/2), 1.177, 0.3081, 1.0510, 5.4905"
   ]
  },
  {
   "cell_type": "markdown",
   "id": "7c4d7aac",
   "metadata": {},
   "source": [
    "### Define formulas"
   ]
  },
  {
   "cell_type": "code",
   "execution_count": 66,
   "id": "978e92de",
   "metadata": {
    "code_folding": [
     0,
     27,
     46,
     65
    ]
   },
   "outputs": [],
   "source": [
    "def compute_R_500(M_500, z, cosmo):\n",
    "    '''\n",
    "    \n",
    "    Compute the radius corresponding to a density contrast of 500 (R_500). \n",
    "    The returned value is a Quantity object.\n",
    "    \n",
    "    We use the following formula:\n",
    "    \n",
    "    3 * M_500 / (4 * pi * R_500^3) = 500 * rho_crit(z)\n",
    "    \n",
    "    where rho_crit(z) is a function of redshift.\n",
    "    \n",
    "    ARGUMENTS\n",
    "    ---------\n",
    "    M_500: mass for density contrast of 500; an astropy Quantity object\n",
    "    z: redshift; unitless\n",
    "    cosmo: model for cosmology; e.g. astropy.cosmology.LambdaCDM(...)\n",
    "    \n",
    "    '''\n",
    "    \n",
    "    if (type(M_500) != u.quantity.Quantity):\n",
    "        raise TypeError('M_500 should be a Quantity object')\n",
    "\n",
    "    rho_crit = cosmo.critical_density(z)\n",
    "    \n",
    "    return np.cbrt(3 * M_500 / (4 * np.pi) / (500 * rho_crit)).to(u.Mpc)\n",
    "\n",
    "def alpha_P_prime(x):\n",
    "    '''\n",
    "    \n",
    "    The function alpha_P'(x), as defined in Eq. (8). \n",
    "    \n",
    "    The expression alpha(x) = alpha_P + alpha_P'(x) characterizes how\n",
    "    the scaled pressure profile p(x) varies with mass. For more details,\n",
    "    see subsection 3.4.\n",
    "    \n",
    "    ARGUMENTS\n",
    "    ---------\n",
    "    x: r / R_500. See Eq. (4).\n",
    "    \n",
    "    '''\n",
    "    \n",
    "    x_expression = (x/0.5)**3 / (1. + (x/0.5)**3)\n",
    "    \n",
    "    return 0.10 - (alpha_P + 0.10) * x_expression\n",
    "\n",
    "def dimless_profile(x):\n",
    "    '''\n",
    "    \n",
    "    Dimensionless pressure profile 𝕡(x), as defined in Eq. (11). \n",
    "    \n",
    "    Warning: This is *different* from the scaled profile p(x) in Eq. (4). \n",
    "    The dimensionless profile is denoted with 'p' in the blackboard bold font.\n",
    "    \n",
    "    ARGUMENTS\n",
    "    ---------\n",
    "    x: r / R_500. See Eq. (4).\n",
    "    \n",
    "    '''\n",
    "    \n",
    "    denominator = (c_500*x)**gamma * \\\n",
    "                    (1 + (c_500*x)**alpha)**((beta-gamma)/alpha)\n",
    "    \n",
    "    return P_0 / denominator\n",
    "    \n",
    "def physical_profile(r, M_500, z):\n",
    "    '''\n",
    "    \n",
    "    Physical pressure profile, as defined in Eq. (13). \n",
    "    Has units of keV/cm^3.\n",
    "    \n",
    "    ARGUMENTS\n",
    "    ---------\n",
    "    r: physical distance from cluster center\n",
    "    M_500: M_500: mass for density contrast of 500; a Quantity object\n",
    "    z: redshift; unitless\n",
    "    \n",
    "    '''\n",
    "    \n",
    "    if (type(M_500) != u.quantity.Quantity):\n",
    "        raise TypeError('M_500 should be a Quantity object')\n",
    "    \n",
    "    # if r has no units, assume that it's in units of Mpc\n",
    "    if (type(r) != u.quantity.Quantity):\n",
    "        r *= u.Mpc \n",
    "    \n",
    "    R_500 = compute_R_500(M_500, z, std_cosmo)\n",
    "    x = r / R_500\n",
    "    \n",
    "    h_z = std_cosmo.H(z) / (100 * u.km / u.s / u.Mpc)\n",
    "    mass_expression = (M_500 / 3e14 / const.M_sun * h_70)**(2/3 + alpha_P + alpha_P_prime(x))\n",
    "    \n",
    "    return 1.65e-3 * h_z**(8/3) * mass_expression * dimless_profile(x) * h_70**2 \\\n",
    "            * u.keV * u.cm**(-3)"
   ]
  },
  {
   "cell_type": "markdown",
   "id": "efa5140c",
   "metadata": {},
   "source": [
    "### Debugging"
   ]
  },
  {
   "cell_type": "code",
   "execution_count": 56,
   "id": "edf27915",
   "metadata": {
    "code_folding": [
     0
    ]
   },
   "outputs": [
    {
     "name": "stdout",
     "output_type": "stream",
     "text": [
      "R_500 for M_500=1.0*10^14 M_sun and z=1.2:\n",
      "0.448 Mpc\n"
     ]
    }
   ],
   "source": [
    "## testing above functions\n",
    "M_500 = 1e14 * const.M_sun\n",
    "z = 1.2\n",
    "\n",
    "R_500 = compute_R_500(M_500, z, std_cosmo)\n",
    "print(f'R_500 for M_500={np.round(M_500 / const.M_sun / 1e14,1)}*10^14 M_sun and z={z}:')\n",
    "print(np.round(R_500,3))\n",
    "\n",
    "## plot dimensionless profile\n",
    "# xs = np.linspace(0.01, 1, num=50)\n",
    "# plt.plot(xs, dimless_profile(xs))\n",
    "# plt.show()\n",
    "\n",
    "## plot physical profile\n",
    "# rs = np.linspace(0.01, 1, num=50) * u.Mpc\n",
    "# plt.plot(rs, physical_profile(rs, M_500, z))\n",
    "# plt.xlabel('Distance (Mpc)')\n",
    "# plt.ylabel('Pressure (keV/cm^3)')\n",
    "# plt.show()"
   ]
  },
  {
   "cell_type": "markdown",
   "id": "e1f74ba5",
   "metadata": {},
   "source": [
    "## SZ signal formula"
   ]
  },
  {
   "cell_type": "markdown",
   "id": "538d0e93",
   "metadata": {},
   "source": [
    "Note: scipy's `integrate` function doesn't accept Quantity objects as its integrand or its limits, so the proper units are tracked separately."
   ]
  },
  {
   "cell_type": "markdown",
   "id": "1e22404f",
   "metadata": {},
   "source": [
    "We can write the Y_cyl 'density' (signal strength at a given radius $r$) as:\n",
    "\n",
    "$$Y_\\text{cyl, dens}(r) = \\frac{\\sigma_T}{m_e c^2} \\int_r^{R_b} \\frac{2 P(r')r' dr'}{\\sqrt{r'^2 - r^2}} $$"
   ]
  },
  {
   "cell_type": "code",
   "execution_count": 142,
   "id": "014af103",
   "metadata": {
    "code_folding": [
     17
    ]
   },
   "outputs": [],
   "source": [
    "def Y_cyl_inner_integrand(y, x, M_500, z):\n",
    "    '''\n",
    "    \n",
    "    Inner integrand used in compute_Y_cyl. Result has units of keV/cm^3.\n",
    "    \n",
    "    ARGUMENTS\n",
    "    ---------\n",
    "    y: r' in Eq. (15); should be given in Mpc\n",
    "    x: r in Eq. (15); should be given in Mpc\n",
    "    M_500: M_500: mass for density contrast of 500; a Quantity object\n",
    "    z: redshift; unitless\n",
    "    \n",
    "    '''\n",
    "    \n",
    "    result = 2*physical_profile(y, M_500, z)*y / np.sqrt(y**2 - x**2)\n",
    "    return result.value\n",
    "\n",
    "def Y_cyl_integrand(y, x, M_500, z):\n",
    "    '''\n",
    "    \n",
    "    Integrand used in compute_Y_cyl. Result has units of Mpc * keV/cm^3.\n",
    "    \n",
    "    ARGUMENTS\n",
    "    ---------\n",
    "    y: r' in Eq. (15); should be given in Mpc\n",
    "    x: r in Eq. (15); should be given in Mpc\n",
    "    M_500: M_500: mass for density contrast of 500; a Quantity object\n",
    "    z: redshift; unitless\n",
    "    \n",
    "    '''\n",
    "    \n",
    "    result = 2*np.pi*x * Y_cyl_inner_integrand(y, x, M_500, z)\n",
    "    return result.value\n",
    "\n",
    "def compute_Y_cyl(R, M_500, z):\n",
    "    '''\n",
    "    \n",
    "    Compute the volume-integrated Compton parameter Y within a radius R for\n",
    "    a cylindrical volume of integration. See Eq. (15).\n",
    "    \n",
    "    NOTE: integrate doesn't accept Quantity objects, so the units of the\n",
    "    integrand and the dummy variables (dy and dx) are multiplied back\n",
    "    at the end.\n",
    "    \n",
    "    ARGUMENTS\n",
    "    ---------\n",
    "    R: physical distance from cluster center; should be given in Mpc\n",
    "    M_500: M_500: mass for density contrast of 500; a Quantity object\n",
    "    z: redshift; unitless\n",
    "    \n",
    "    '''\n",
    "    \n",
    "    if (type(R) == u.quantity.Quantity):\n",
    "        raise TypeError('R should not be a Quantity') \n",
    "    \n",
    "    R_500 = compute_R_500(M_500, z, std_cosmo)\n",
    "    \n",
    "\n",
    "    \n",
    "    integral, abserror = integrate.dblquad(func=Y_cyl_integrand*x, a=0, b=R, \\\n",
    "                        gfun=(lambda x: x), hfun=(lambda x: 5*R_500/u.Mpc), args=(M_500, z))\n",
    "    \n",
    "    factor = const.sigma_T / (const.m_e*const.c**2)\n",
    "#     print(f'integral: {integral}')\n",
    "#     print(f'abserror: {abserror}')\n",
    "    \n",
    "    return (factor * integral * (u.Mpc * u.keV * u.cm**-3)).to(u.dimensionless_unscaled) \\\n",
    "                * u.Mpc**2\n",
    "\n",
    "def compute_Y_cyl_dens(r, M_500, z):\n",
    "    '''\n",
    "    \n",
    "    Compute the signal strength/'density' of Y_cyl at a given radius r. \n",
    "    This is the inner integral in Eq. (15). Result is unitless.\n",
    "    \n",
    "    NOTE: integrate doesn't accept Quantity objects, so the units of the\n",
    "    integrand and the dummy variable are multiplied back at the end.\n",
    "    \n",
    "    ARGUMENTS\n",
    "    ---------\n",
    "    r: physical distance from cluster center; should be given in Mpc\n",
    "    M_500: M_500: mass for density contrast of 500; a Quantity object\n",
    "    z: redshift; unitless\n",
    "    \n",
    "    '''\n",
    "    \n",
    "    if (type(r) == u.quantity.Quantity):\n",
    "        raise TypeError('r should not be a Quantity') \n",
    "    \n",
    "    R_500 = compute_R_500(M_500, z, std_cosmo)\n",
    "    integral, abserror = integrate.quad(func=Y_cyl_inner_integrand, a=r, b=5*R_500/u.Mpc, \\\n",
    "                        args=(r, M_500, z))\n",
    "    factor = const.sigma_T / (const.m_e*const.c**2)\n",
    "    \n",
    "    return (factor * integral * (u.Mpc * u.keV * u.cm**-3)).to(u.dimensionless_unscaled)"
   ]
  },
  {
   "cell_type": "code",
   "execution_count": 143,
   "id": "043e6815",
   "metadata": {
    "code_folding": [],
    "scrolled": false
   },
   "outputs": [
    {
     "data": {
      "text/latex": [
       "$2.0106982 \\times 10^{-5} \\; \\mathrm{}$"
      ],
      "text/plain": [
       "<Quantity 2.01069821e-05>"
      ]
     },
     "execution_count": 143,
     "metadata": {},
     "output_type": "execute_result"
    }
   ],
   "source": [
    "## debugging integration\n",
    "# print(Y_cyl_integrand(1, 0.5, M_500, z))\n",
    "\n",
    "# print(integrate.quad(Y_cyl_integrand, 1, 2, args=(0.5, M_500, z)))\n",
    "\n",
    "compute_Y_cyl_dens(1e-10, M_500, z)"
   ]
  },
  {
   "cell_type": "markdown",
   "id": "6afb1feb",
   "metadata": {},
   "source": [
    "## Plotting the profile"
   ]
  },
  {
   "cell_type": "markdown",
   "id": "77c7659d",
   "metadata": {},
   "source": [
    "Below, we define $x = r/R_{500}$."
   ]
  },
  {
   "cell_type": "code",
   "execution_count": 183,
   "id": "12813147",
   "metadata": {},
   "outputs": [],
   "source": [
    "plt.axvline?"
   ]
  },
  {
   "cell_type": "code",
   "execution_count": 186,
   "id": "a6e023fd",
   "metadata": {},
   "outputs": [
    {
     "data": {
      "image/png": "[encoded data removed]",
      "text/plain": [
       "<Figure size 720x432 with 1 Axes>"
      ]
     },
     "metadata": {
      "needs_background": "light"
     },
     "output_type": "display_data"
    }
   ],
   "source": [
    "fig = plt.figure(figsize=(10, 6))\n",
    "\n",
    "M_500 = 1e14 * const.M_sun\n",
    "z = 1.2\n",
    "\n",
    "num_points = 20\n",
    "# x_vals = np.linspace(1e-10, 2, num=num_points)\n",
    "# r_vals = (x_vals * R_500).value\n",
    "# y_vals = [compute_Y_cyl_dens(r, M_500, z) for r in r_vals]\n",
    "\n",
    "plt.plot(x_vals, y_vals, label='Signal strength')\n",
    "plt.axvline(x=1/c_500, label=\"A10's scale size (r_s)\", color='black')\n",
    "plt.xlabel('x = r/R_500')\n",
    "plt.ylabel('Signal strength (dimensionless)')\n",
    "\n",
    "plt.title('SZ signal strength vs. radius')\n",
    "plt.legend()\n",
    "plt.show()"
   ]
  },
  {
   "cell_type": "code",
   "execution_count": null,
   "id": "617948e2",
   "metadata": {},
   "outputs": [],
   "source": []
  }
 ],
 "metadata": {
  "kernelspec": {
   "display_name": "Python 3",
   "language": "python",
   "name": "python3"
  },
  "language_info": {
   "codemirror_mode": {
    "name": "ipython",
    "version": 3
   },
   "file_extension": ".py",
   "mimetype": "text/x-python",
   "name": "python",
   "nbconvert_exporter": "python",
   "pygments_lexer": "ipython3",
   "version": "3.9.5"
  }
 },
 "nbformat": 4,
 "nbformat_minor": 5
}
