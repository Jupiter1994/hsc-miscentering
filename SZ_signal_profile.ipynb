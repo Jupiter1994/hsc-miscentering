{
 "cells": [
  {
   "cell_type": "markdown",
   "id": "2eafdac6",
   "metadata": {},
   "source": [
    "# Plotting an SZ signal profile"
   ]
  },
  {
   "cell_type": "markdown",
   "id": "e5797c5d",
   "metadata": {},
   "source": [
    "We plot equation 15 in [Arnaud et al. (2010)](https://ui.adsabs.harvard.edu/abs/2010A%26A...517A..92A/abstract). This paper defines the universal pressure profile (UPP) used in the ACT catalog."
   ]
  },
  {
   "cell_type": "code",
   "execution_count": null,
   "id": "2b56da4a",
   "metadata": {
    "code_folding": [
     0
    ]
   },
   "outputs": [],
   "source": [
    "## Import packages\n",
    "import numpy as np\n",
    "from scipy import integrate\n",
    "\n",
    "import matplotlib.pyplot as plt"
   ]
  },
  {
   "cell_type": "markdown",
   "id": "370f2942",
   "metadata": {},
   "source": [
    "## Universal pressure profile"
   ]
  },
  {
   "cell_type": "code",
   "execution_count": null,
   "id": "978e92de",
   "metadata": {},
   "outputs": [],
   "source": []
  },
  {
   "cell_type": "markdown",
   "id": "e1f74ba5",
   "metadata": {},
   "source": [
    "## SZ signal formula"
   ]
  },
  {
   "cell_type": "code",
   "execution_count": null,
   "id": "014af103",
   "metadata": {},
   "outputs": [],
   "source": []
  },
  {
   "cell_type": "markdown",
   "id": "6afb1feb",
   "metadata": {},
   "source": [
    "## Plotting the profile"
   ]
  },
  {
   "cell_type": "code",
   "execution_count": null,
   "id": "c843bcba",
   "metadata": {},
   "outputs": [],
   "source": []
  }
 ],
 "metadata": {
  "kernelspec": {
   "display_name": "Python 3",
   "language": "python",
   "name": "python3"
  },
  "language_info": {
   "codemirror_mode": {
    "name": "ipython",
    "version": 3
   },
   "file_extension": ".py",
   "mimetype": "text/x-python",
   "name": "python",
   "nbconvert_exporter": "python",
   "pygments_lexer": "ipython3",
   "version": "3.9.5"
  }
 },
 "nbformat": 4,
 "nbformat_minor": 5
}
