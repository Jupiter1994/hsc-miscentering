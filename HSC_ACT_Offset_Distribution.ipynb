{
 "cells": [
  {
   "cell_type": "code",
   "execution_count": 1,
   "id": "521a71de",
   "metadata": {
    "code_folding": [],
    "jupyter": {
     "source_hidden": true
    },
    "tags": []
   },
   "outputs": [],
   "source": [
    "## Import packages\n",
    "import numpy as np\n",
    "from scipy.optimize import minimize\n",
    "from scipy import integrate\n",
    "\n",
    "from astropy import units as u\n",
    "from astropy.coordinates import SkyCoord\n",
    "from astropy import constants as const\n",
    "from astropy.cosmology import LambdaCDM\n",
    "from astropy.io import fits\n",
    "from astropy.table import Table\n",
    "from astropy.visualization import quantity_support\n",
    "quantity_support()\n",
    "\n",
    "import matplotlib.pyplot as plt"
   ]
  },
  {
   "cell_type": "markdown",
   "id": "207a6f1f",
   "metadata": {},
   "source": [
    "# Load in cluster catalogs"
   ]
  },
  {
   "cell_type": "markdown",
   "id": "0661316f",
   "metadata": {},
   "source": [
    "## ACT catalog"
   ]
  },
  {
   "cell_type": "markdown",
   "id": "efb3c1e0",
   "metadata": {},
   "source": [
    "(Opening the catalog as a table; see: https://docs.astropy.org/en/stable/io/unified.html#fits)"
   ]
  },
  {
   "cell_type": "code",
   "execution_count": 2,
   "id": "cd8b4bc0",
   "metadata": {},
   "outputs": [
    {
     "name": "stdout",
     "output_type": "stream",
     "text": [
      "There are 4195 ACT clusters.\n"
     ]
    }
   ],
   "source": [
    "ACT_cat = Table.read('DR5_cluster-catalog_v1.1.fits', hdu = 1)\n",
    "\n",
    "column = np.asarray(ACT_cat['decDeg'])\n",
    "print(f'There are {len(column)} ACT clusters.')"
   ]
  },
  {
   "cell_type": "markdown",
   "id": "ea6bd0fc",
   "metadata": {},
   "source": [
    "## HSC catalog\n",
    "Each row has 6 values: RA (degrees), Dec (degrees), z_cl, N_mem, logMs, and z_bcg; in that order. z_bcg = -1.0 indicates that the cluster has no identified BCG.\n",
    "\n",
    "HSC_cat omits the last column of the data file, which lists the ID of a cluster."
   ]
  },
  {
   "cell_type": "code",
   "execution_count": 3,
   "id": "ce847339",
   "metadata": {
    "code_folding": []
   },
   "outputs": [
    {
     "name": "stdout",
     "output_type": "stream",
     "text": [
      "There are 16589 HSC clusters.\n"
     ]
    }
   ],
   "source": [
    "## filter out low-richness clusters\n",
    "use_starmask = True\n",
    "use_richness_cut = False\n",
    "\n",
    "if use_starmask:\n",
    "    HSC_cat_orig = np.loadtxt('camira_s19a_wide_sm_v1.txt', usecols=(0,1,2,3,4,5)) \n",
    "else:\n",
    "    HSC_cat_orig = np.loadtxt('camira_s19a_wide_v1.txt', usecols=(0,1,2,3,4,5)) \n",
    "\n",
    "if use_richness_cut:\n",
    "    good_richness = HSC_cat_orig[:,3] > 15\n",
    "    HSC_cat = HSC_cat_orig[good_richness]\n",
    "else:\n",
    "    HSC_cat = HSC_cat_orig\n",
    "\n",
    "print(f'There are {HSC_cat.shape[0]} HSC clusters.')"
   ]
  },
  {
   "cell_type": "markdown",
   "id": "6d8720ac",
   "metadata": {},
   "source": [
    "## Create SkyCoords"
   ]
  },
  {
   "cell_type": "code",
   "execution_count": 4,
   "id": "2ab647b3",
   "metadata": {
    "code_folding": [
     0
    ]
   },
   "outputs": [],
   "source": [
    "## SkyCoord objects for ACT and HSC\n",
    "ACT_coords = SkyCoord(ra=ACT_cat['RADeg'] * u.degree, \n",
    "                      dec=ACT_cat['decDeg'] * u.degree, \n",
    "                      frame='icrs')\n",
    "HSC_coords = SkyCoord(ra=HSC_cat[:,0] * u.degree, \n",
    "                      dec=HSC_cat[:,1] * u.degree, \n",
    "                      frame='icrs')\n",
    "\n",
    "# convert coords to (-pi, pi) radians\n",
    "act_ra = ACT_coords.ra.wrap_at(180 * u.deg).radian\n",
    "act_dec = ACT_coords.dec.radian\n",
    "hsc_ra = HSC_coords.ra.wrap_at(180 * u.deg).radian\n",
    "hsc_dec = HSC_coords.dec.radian"
   ]
  },
  {
   "cell_type": "markdown",
   "id": "6ed7e024",
   "metadata": {},
   "source": [
    "## Define some boolean masks and print catalog counts"
   ]
  },
  {
   "cell_type": "code",
   "execution_count": 5,
   "id": "77eaeff5",
   "metadata": {
    "code_folding": [
     0
    ],
    "jupyter": {
     "outputs_hidden": true,
     "source_hidden": true
    },
    "scrolled": false,
    "tags": []
   },
   "outputs": [
    {
     "name": "stdout",
     "output_type": "stream",
     "text": [
      "Number of ACT clusters in HSC footprint: 185\n",
      "Number of ACT clusters cross-matched with CAMIRA: 212\n",
      "Number of ACT clusters in HSC footprint (but not flagged as having an HSC counterpart): 17\n",
      "Number of ACT clusters with positions from CAMIRA: 61\n",
      "\n",
      "Number of ACT clusters in SDSS footprint: N/A\n",
      "Number of ACT clusters cross-matched with RM (SDSS): 992\n",
      "Number of ACT clusters with positions from RM (SDSS): 482\n",
      "\n",
      "Number of ACT clusters in DES footprint: 1845\n",
      "Number of ACT clusters cross-matched with RM (DES): 1689\n",
      "Number of ACT clusters with positions from RM (DES): 1206\n"
     ]
    }
   ],
   "source": [
    "## Some ACT catalog counts\n",
    "\n",
    "in_hsc_footprint = ACT_cat['footprint_HSCs19a']\n",
    "print('Number of ACT clusters in HSC footprint: ' + \n",
    "      str(np.sum(in_hsc_footprint)))\n",
    "\n",
    "has_hsc_counterpart = ACT_cat['CAMIRA']\n",
    "print('Number of ACT clusters cross-matched with CAMIRA: ' + \n",
    "      str(np.sum(has_hsc_counterpart)))\n",
    "\n",
    "print('Number of ACT clusters in HSC footprint (but not flagged as having an HSC counterpart): ' + \n",
    "      str(np.sum(in_hsc_footprint & ~has_hsc_counterpart)))\n",
    "\n",
    "position_from_cam = (ACT_cat['opt_positionSource'] == 'CAMIRA')\n",
    "print('Number of ACT clusters with positions from CAMIRA: ' + \n",
    "      str(np.sum(position_from_cam)))\n",
    "\n",
    "print()\n",
    "\n",
    "print('Number of ACT clusters in SDSS footprint: ' + \n",
    "      'N/A')\n",
    "\n",
    "has_sdss_counterpart = ACT_cat['RM'] \n",
    "print('Number of ACT clusters cross-matched with RM (SDSS): ' + \n",
    "      str(np.sum(has_sdss_counterpart)))\n",
    "\n",
    "position_from_sdss = (ACT_cat['opt_positionSource'] == 'RM')\n",
    "print('Number of ACT clusters with positions from RM (SDSS): ' + \n",
    "      str(np.sum(position_from_sdss)))\n",
    "\n",
    "print() \n",
    "\n",
    "in_des_footprint = ACT_cat['footprint_DESY3']\n",
    "print('Number of ACT clusters in DES footprint: ' + \n",
    "      str(np.sum(in_des_footprint)))\n",
    "\n",
    "has_des_counterpart = ACT_cat['RMDESY3']\n",
    "print('Number of ACT clusters cross-matched with RM (DES): ' + \n",
    "      str(np.sum(has_des_counterpart)))\n",
    "\n",
    "position_from_des = (ACT_cat['opt_positionSource'] == 'RMDESY3') | \\\n",
    "                    (ACT_cat['opt_positionSource'] == 'RMDESY3ACT')\n",
    "print('Number of ACT clusters with positions from RM (DES): ' + \n",
    "      str(np.sum(position_from_des)))"
   ]
  },
  {
   "cell_type": "markdown",
   "id": "c19578f2",
   "metadata": {},
   "source": [
    "Look at the ACT clusters that are in the HSC footprint, but aren't flagged as having an HSC counterpart."
   ]
  },
  {
   "cell_type": "code",
   "execution_count": 6,
   "id": "6c1491b7",
   "metadata": {},
   "outputs": [],
   "source": [
    "# in_footprint_no_counterpart = \\\n",
    "#     ACT_cat[in_hsc_footprint & ~has_hsc_counterpart]['name']\n",
    "\n",
    "# print(\"ACT clusters that are in the HSC footprint,\\nbut aren't flagged as having an HSC counterpart:\")\n",
    "# print(in_footprint_no_counterpart)"
   ]
  },
  {
   "cell_type": "markdown",
   "id": "a137009d",
   "metadata": {},
   "source": [
    "# Centering offsets (ACT-HSC)"
   ]
  },
  {
   "cell_type": "markdown",
   "id": "93b44e49-7c75-4e72-9296-3130e2ba3455",
   "metadata": {},
   "source": [
    "Below, `get_physical_sep` calculates the physical separation between two objects at the same redshift."
   ]
  },
  {
   "cell_type": "code",
   "execution_count": 7,
   "id": "1bbb64f1",
   "metadata": {
    "code_folding": [
     0
    ],
    "jupyter": {
     "source_hidden": true
    },
    "tags": []
   },
   "outputs": [],
   "source": [
    "def get_physical_sep(cosmo, theta, z):\n",
    "    '''\n",
    "    \n",
    "    For two objects at the same redshift, calculate their physical separation \n",
    "    R as R = theta * d_A, where theta is angular separation (in radians) and \n",
    "    d_A is angular distance.\n",
    "    \n",
    "    ARGUMENTS\n",
    "    ----------\n",
    "    cosmo: model for cosmology; e.g. astropy.cosmology.LambdaCDM(...)\n",
    "    theta: angular separation; should be a Quantity \n",
    "    z: redshift\n",
    "    \n",
    "    '''\n",
    "    \n",
    "    theta = theta.to(u.rad) / u.rad\n",
    "    return theta * cosmo.angular_diameter_distance(z)"
   ]
  },
  {
   "cell_type": "markdown",
   "id": "0e10faec",
   "metadata": {},
   "source": [
    "Note: Let $d_p$ be proper distance. Since $d_p \\propto c/H_0$, $d_p$ as a function of $h$ (using $h \\equiv \\frac{H_0}{100 \\text{ km/s/Mpc}}$) is $d_p(h) = h^{-1} d_p(h=1)$."
   ]
  },
  {
   "cell_type": "code",
   "execution_count": 8,
   "id": "6d7316b6",
   "metadata": {
    "code_folding": [
     0
    ],
    "jupyter": {
     "source_hidden": true
    },
    "tags": []
   },
   "outputs": [],
   "source": [
    "## Testing get_physical_sep\n",
    "\n",
    "# h = 0.7\n",
    "# temp_cosmo = LambdaCDM(H0=100*h, Om0=0.3, Ode0=0.7)\n",
    "# # temp_angle = 3 * u.arcmin\n",
    "# # temp_z = 1\n",
    "# # get_physical_sep(temp_cosmo, temp_angle, temp_z)\n",
    "\n",
    "# theta_grid = np.linspace(0, 6, 50) * u.arcmin\n",
    "# temp_offsets = get_physical_sep(temp_cosmo, theta_grid, z=0.3)\n",
    "\n",
    "# fig = plt.figure(figsize=(10,7))\n",
    "# plt.plot(theta_grid, temp_offsets, label='fixed z')\n",
    "# plt.plot(theta_grid, np.ones(50) / h, label='offset=1 Mpc/h')\n",
    "# plt.xlabel('Angle (arcminutes)')\n",
    "\n",
    "# plt.legend()\n",
    "# plt.show()"
   ]
  },
  {
   "cell_type": "code",
   "execution_count": 9,
   "id": "b3c024cf",
   "metadata": {
    "code_folding": [
     0
    ],
    "jupyter": {
     "source_hidden": true
    },
    "tags": []
   },
   "outputs": [],
   "source": [
    "## Plot physical offset as a function of (theta, z)\n",
    "\n",
    "# theta_grid = np.linspace(0., 5, 50)\n",
    "# z_grid = np.linspace(0, 1.4, 50)\n",
    "# theta_grid,z_grid = np.meshgrid(theta_grid, z_grid)\n",
    "# theta_grid *= u.arcmin\n",
    "\n",
    "# temp_offsets = get_physical_sep(temp_cosmo, theta_grid.ravel(), z_grid.ravel())\n",
    "# temp_offsets = temp_offsets.reshape(theta_grid.shape)\n",
    "\n",
    "# from mpl_toolkits.mplot3d import Axes3D\n",
    "\n",
    "# fig = plt.figure(figsize=(10,10))\n",
    "# ax = fig.add_subplot(111, projection='3d')\n",
    "\n",
    "# ax.plot_surface(X=theta_grid, Y=z_grid, Z=temp_offsets, label=\"Offsets\")\n",
    "# ax.plot_surface(X=theta_grid, Y=z_grid, Z=np.ones(temp_offsets.shape) / h, \\\n",
    "#                 label=\"Offset = 1 Mpc / h\")\n",
    "# ax.set_xlabel('theta (arcmin)')\n",
    "# ax.set_ylabel('redshift')\n",
    "# ax.set_zlabel('physical offset (Mpc)')\n",
    "\n",
    "# plt.show()"
   ]
  },
  {
   "cell_type": "markdown",
   "id": "f066d3ea",
   "metadata": {},
   "source": [
    "# Compute SZ positional uncertainty"
   ]
  },
  {
   "cell_type": "markdown",
   "id": "59c3540f",
   "metadata": {},
   "source": [
    "**NOTE:** This version of `compute_ang_scale_size` is incorrect. It's based on the quantity $r_s$, but this is different from the FWHM of the SZ signal."
   ]
  },
  {
   "cell_type": "code",
   "execution_count": 90,
   "id": "d5e926e5",
   "metadata": {
    "code_folding": [
     0,
     27,
     52
    ]
   },
   "outputs": [],
   "source": [
    "def compute_R_500(M_500, z, cosmo):\n",
    "    '''\n",
    "    \n",
    "    Compute the radius corresponding to a density contrast of 500 (R_500). \n",
    "    The returned value is a Quantity object.\n",
    "    \n",
    "    We use the following formula:\n",
    "    \n",
    "    3 * M_500 / (4 * pi * R_500^3) = 500 * rho_crit(z)\n",
    "    \n",
    "    where rho_crit(z) is a function of redshift.\n",
    "    \n",
    "    ARGUMENTS\n",
    "    ---------\n",
    "    M_500: mass for density contrast of 500; an astropy Quantity object\n",
    "    z: redshift; unitless\n",
    "    cosmo: model for cosmology; e.g. astropy.cosmology.LambdaCDM(...)\n",
    "    \n",
    "    '''\n",
    "    \n",
    "    if (type(M_500) != u.quantity.Quantity):\n",
    "        raise TypeError('M_500 should be a Quantity object')\n",
    "\n",
    "    rho_crit = cosmo.critical_density(z)\n",
    "    \n",
    "    return np.cbrt(3 * M_500 / (4 * np.pi) / (500 * rho_crit)).to(u.Mpc)\n",
    "    \n",
    "def compute_ang_scale_size(template_name, cosmo):\n",
    "    '''\n",
    "    \n",
    "    Given the name of the matched filter template from the ACT catalog, \n",
    "    compute the angular scale size of the matched filter.\n",
    "    \n",
    "    ARGUMENTS\n",
    "    ---------\n",
    "    template_name: name of the matched filter template (e.g. 'Arnaud_M1e14_z0p2');\n",
    "    this comes from the 'template' column in the ACT catalog\n",
    "    cosmo: model for cosmology; e.g. astropy.cosmology.LambdaCDM(...)\n",
    "    \n",
    "    '''\n",
    "    \n",
    "    M_500 = float(template_name[8:12]) * const.M_sun\n",
    "    z = float(template_name[14] + '.' + template_name[16])\n",
    "    \n",
    "    R_500 = compute_R_500(M_500, z, cosmo)\n",
    "    c_500 = 1.177 # see Arnaud 2010\n",
    "    r_s = R_500 / c_500\n",
    "    d_A = cosmo.angular_diameter_distance(z)\n",
    "    theta_c = (r_s / d_A).to(u.dimensionless_unscaled) * u.rad\n",
    "    \n",
    "    return theta_c.to(u.arcmin)\n",
    "\n",
    "def compute_SZ_pos_uncertainty(theta_beam, theta_c, SNR):\n",
    "    '''\n",
    "    \n",
    "    Compute the positional uncertainty of an SZ signal. We use\n",
    "    the following formula:\n",
    "    \n",
    "    uncertainty = sqrt(theta_beam^2 + theta_c^2) / SNR\n",
    "    \n",
    "    ARGUMENTS\n",
    "    ---------\n",
    "    theta_beam: beam size; should be given in arcmin\n",
    "    theta_c: angular core radius/scale size; should be given in arcmin\n",
    "    SNR: signal-to-noise\n",
    "    \n",
    "    '''\n",
    "    \n",
    "    return np.sqrt(theta_beam * theta_beam + theta_c * theta_c) / SNR"
   ]
  },
  {
   "cell_type": "markdown",
   "id": "22a407cc",
   "metadata": {},
   "source": [
    "## Test the uncertainty function"
   ]
  },
  {
   "cell_type": "markdown",
   "id": "6dc8f7a8",
   "metadata": {},
   "source": [
    "Note: the scale size should increase with mass and decrease with distance."
   ]
  },
  {
   "cell_type": "code",
   "execution_count": 91,
   "id": "b191d2f7",
   "metadata": {
    "code_folding": [
     0
    ]
   },
   "outputs": [
    {
     "name": "stdout",
     "output_type": "stream",
     "text": [
      "Positional uncertainties (arcmin):\n",
      "[0.71762385 0.54593627 0.48224953 0.46588117 0.8389072  0.59949841\n",
      " 0.50542306 0.48043422 1.00171698 0.67586128 0.54017096 0.50267123\n",
      " 1.21619733 0.78191154 0.59115011 0.53607934]\n"
     ]
    }
   ],
   "source": [
    "## compute uncertainty\n",
    "h = 0.7\n",
    "cosmo = LambdaCDM(H0=100*h, Om0=0.3, Ode0=0.7)\n",
    "\n",
    "templates = np.unique(ACT_cat['template'], return_index=False)\n",
    "theta_cs = [compute_ang_scale_size(template, cosmo).value for template in templates]\n",
    "theta_cs = np.asarray(theta_cs)\n",
    "\n",
    "theta_beams = np.repeat(2.2, 16)\n",
    "SNRs = np.repeat(5, 16)\n",
    "\n",
    "print('Positional uncertainties (arcmin):')\n",
    "print(compute_SZ_pos_uncertainty(theta_beams, theta_cs, SNRs))\n",
    "\n",
    "# for template in templates:\n",
    "#     theta_c = compute_ang_scale_size(template, cosmo)\n",
    "#     print('Angular scale size for ' + template + f': {np.round(theta_c,2)}')"
   ]
  },
  {
   "cell_type": "markdown",
   "id": "a96655ca",
   "metadata": {},
   "source": [
    "# Modeling the offset distribution"
   ]
  },
  {
   "cell_type": "markdown",
   "id": "53bfa35a",
   "metadata": {},
   "source": [
    "See CAMIRA paper, equation 9. Below, `offset_model` models the probability distribution of offsets, and `objective_fn` is the likelihood function."
   ]
  },
  {
   "cell_type": "code",
   "execution_count": 10,
   "id": "d611e21c",
   "metadata": {},
   "outputs": [],
   "source": [
    "h = 0.7"
   ]
  },
  {
   "cell_type": "code",
   "execution_count": 11,
   "id": "cb11e50f",
   "metadata": {
    "code_folding": [
     0,
     15,
     30,
     44,
     69
    ],
    "tags": []
   },
   "outputs": [],
   "source": [
    "def normal_pdf(x, mu=0, sigma=1):\n",
    "    '''\n",
    "    The probability density function of a normal/Gaussian distribution.\n",
    "    \n",
    "    ARGUMENTS\n",
    "    ---------\n",
    "    x: input\n",
    "    mu: mean\n",
    "    sigma: standard deviation\n",
    "    \n",
    "    '''\n",
    "    \n",
    "    scaling = 1 / sigma / np.sqrt(2 * np.pi)\n",
    "    return scaling * np.exp(-0.5 * ((x - mu) / sigma)**2)\n",
    "\n",
    "def prob_dens_well_centered(x, sigma1):\n",
    "    '''\n",
    "    A model for the offset distribution for well-centered clusters. See\n",
    "    the documentation for offset_model for a description.\n",
    "    \n",
    "    \n",
    "    ARGUMENTS\n",
    "    ---------\n",
    "    x: physical offset\n",
    "    sigma1: characteristic offset for well-centered clusters\n",
    "    \n",
    "    '''\n",
    "    \n",
    "    return (x / sigma1**2) * normal_pdf(x, mu=0, sigma=sigma1)\n",
    "\n",
    "def prob_dens_mis_centered(x, sigma2):\n",
    "    '''\n",
    "    A model for the offset distribution for miscentered clusters. See\n",
    "    the documentation for offset_model for a description.\n",
    "    \n",
    "    ARGUMENTS\n",
    "    ---------\n",
    "    x: physical offset\n",
    "    sigma2: characteristic offset for miscentered clusters\n",
    "    \n",
    "    '''\n",
    "    \n",
    "    return (x / sigma2**2) * normal_pdf(x, mu=0, sigma=sigma2)\n",
    "\n",
    "def offset_model(x, f_cen, sigma1, sigma2):\n",
    "    '''\n",
    "    \n",
    "    A two-component model for the centering offset distribution. Returns \n",
    "    the probability density at a given offset. (offset, sigma1, and sigma2 \n",
    "    have units of Mpc.)\n",
    "    \n",
    "    This is equation 9 in the CAMIRA catalog paper (Oguri et al. 2018).\n",
    "    Both the well-centered population and the miscentered population are\n",
    "    modeled with a Gaussian.\n",
    "\n",
    "    ARGUMENTS\n",
    "    ---------\n",
    "    x: physical offset\n",
    "    f_cen: fraction of well-centered clusters\n",
    "    sigma1: characteristic offset for well-centered clusters\n",
    "    sigma2: characteristic offset for miscentered clusters\n",
    "    \n",
    "    '''\n",
    "\n",
    "    prob_dens_well = prob_dens_well_centered(x, sigma1)\n",
    "    prob_dens_mis = prob_dens_mis_centered(x, sigma2)\n",
    "    \n",
    "    return f_cen * prob_dens_well + (1 - f_cen) * prob_dens_mis\n",
    "\n",
    "def objective_fn(params, offsets):\n",
    "    '''\n",
    "    \n",
    "    Given the model parameters and the set of offsets, compute\n",
    "    the objective as a log likelihood.\n",
    "    \n",
    "    ARGUMENTS\n",
    "    ----------\n",
    "    params: tunable parameters in offset_model\n",
    "    offsets: set of physical offsets (Mpc; same as offset_model)\n",
    "    \n",
    "    '''\n",
    "    \n",
    "    f_cen, sig1, sig2 = params\n",
    "    probs = offset_model(offsets, f_cen, sig1, sig2)\n",
    "    obj = -np.sum(np.log(probs)) # maximize log likelihood\n",
    "    \n",
    "    return obj"
   ]
  },
  {
   "cell_type": "markdown",
   "id": "d60a7440",
   "metadata": {
    "tags": []
   },
   "source": [
    "# Cross-matching HSC and ACT clusters"
   ]
  },
  {
   "cell_type": "markdown",
   "id": "95125053",
   "metadata": {},
   "source": [
    "Below, we perform a cross-match between the two catalogs."
   ]
  },
  {
   "cell_type": "markdown",
   "id": "4e5ba6c4",
   "metadata": {},
   "source": [
    "## ACT's cross-matching (nemo)"
   ]
  },
  {
   "cell_type": "code",
   "execution_count": 28,
   "id": "225291a6",
   "metadata": {
    "code_folding": [
     0
    ]
   },
   "outputs": [],
   "source": [
    "def _posRecFitFunc(snr, snrFold, pedestal, norm):\n",
    "    \"\"\"Fitting function used for position recovery offset (') in terms of fixed_SNR - see\n",
    "    positionRecovery/positionRecoveryTestDriver.py.\n",
    "    \n",
    "    NOTE: Don't use this directly - call checkCrossMatch instead.\n",
    "    \n",
    "    \"\"\"\n",
    "    return norm*np.exp(-snr/snrFold)+pedestal\n",
    "    \n",
    "def checkCrossMatch(distArcmin, fixedSNR, z = None, addRMpc = 0.5, fitSNRFold = 1.164, fitPedestal = 0.685,\n",
    "                    fitNorm = 38.097):\n",
    "    \"\"\"Checks the cross match offset between a cluster detection and an external catalog using a model derived\n",
    "    from source injection sims (see :func:`nemo.maps.positionRecoveryAnalysis`). The position recovery test\n",
    "    itself only accounts for the effect of noise fluctuations in the maps on the recovered SZ cluster\n",
    "    positions.\n",
    "    \n",
    "    Args:\n",
    "        distArcmin (:obj:`bool`): Distance of the potential cross match from the ACT position in arcmin.\n",
    "        fixed_SNR (:obj:`float`): Signal-to-noise at reference filter scale (fixed_SNR) in ACT catalog.\n",
    "        z (:obj:`float`, optional): If given, addRMpc will be converted to arcmin at this redshift, and then added\n",
    "            in quadrature to the cross matching radius from the position recovery model.\n",
    "        addRMpc (:obj:`float`, optional): Accounts for additional positional uncertainty (probably unknown) \n",
    "            in the external cross match catalog. This will be added in quadrature.\n",
    "        fitSNRFold (:obj:`float`, optional): Model fit parameter - e-folding \n",
    "            (see :func:`nemo.maps.positionRecoveryAnalysis`).\n",
    "        fitPedestal (:obj:`float`, optional): Model fit parameter - pedestal level\n",
    "            (see :func:`nemo.maps.positionRecoveryAnalysis`).\n",
    "        fitNorm (:obj:`float`, optional): Model fit parameter - normalization\n",
    "            (see :func:`nemo.maps.positionRecoveryAnalysis`).\n",
    "    \n",
    "    Returns:\n",
    "        True if distArcmin < model offset (+ optional addRMpc in arcmin at z), False if not.\n",
    "    Note:\n",
    "        The default values for the fit parameters are from a run on the f090, f150 ACT DR5 co-added maps\n",
    "        (as used in the `ACT DR5 cluster catalog paper <https://ui.adsabs.harvard.edu/abs/2020arXiv200911043H/abstract>`_),\n",
    "        and describe a function that recovers 99.7% of the inserted model clusters in \n",
    "        source injection simulations.\n",
    "        \n",
    "    \"\"\"\n",
    "    \n",
    "    maxRadiusArcmin=_posRecFitFunc(fixedSNR, fitSNRFold, fitPedestal, fitNorm)\n",
    "    addArcmin=0.0\n",
    "    if z is not None and z > 0:\n",
    "        cosmo = LambdaCDM(H0=70, Om0=0.3, Ode0=0.7)\n",
    "        d_A = cosmo.angular_diameter_distance(z).value # angular distance in Mpc\n",
    "        addArcmin=np.degrees(addRMpc/d_A)*60.0\n",
    "    maxRadiusArcmin=np.sqrt(maxRadiusArcmin**2 + addArcmin**2)\n",
    "    if distArcmin < maxRadiusArcmin:\n",
    "        return True\n",
    "    else:\n",
    "        return False"
   ]
  },
  {
   "cell_type": "code",
   "execution_count": null,
   "id": "8b8214c0",
   "metadata": {},
   "outputs": [],
   "source": [
    "\n",
    "\n",
    "\n",
    "# TODO: get arcmin offsets (from the astropy cross-match), get SNRs at the fixed filter"
   ]
  },
  {
   "cell_type": "markdown",
   "id": "33934786",
   "metadata": {},
   "source": [
    "## Create the sample"
   ]
  },
  {
   "cell_type": "code",
   "execution_count": 12,
   "id": "05bca0e4",
   "metadata": {},
   "outputs": [],
   "source": [
    "# preliminary upper cutoff; corresponds to ~3 Mpc physical separation for z = 1.4\n",
    "prelim_cutoff = 6 * u.arcmin"
   ]
  },
  {
   "cell_type": "code",
   "execution_count": 18,
   "id": "bf4c7a82",
   "metadata": {
    "code_folding": [],
    "jupyter": {
     "source_hidden": true
    },
    "tags": []
   },
   "outputs": [],
   "source": [
    "def remove_duplicates(idx, d2d, d3d):\n",
    "    '''\n",
    "    This function aims to remove duplicates from the results of an \n",
    "    asymmetric cross-match.\n",
    "    \n",
    "    Given idx, d2d, and d3d from astropy's match_to_catalog_sky function,\n",
    "    return the 'good' indices in idx as a boolean array. (Here, bad means\n",
    "    that an index in idx is matched to an object that already has a better \n",
    "    match in idx.)\n",
    "    \n",
    "    For example: if idx = (8, 8, 8) and d2d = (0.1, 0.3, 0.04), then we \n",
    "    accept the third element in idx and reject the two others. This \n",
    "    function then returns (False, False, True). \n",
    "    \n",
    "    ARGUMENTS\n",
    "    ---------\n",
    "    idx, d2d, d3d: returns of astropy's match_to_catalog_sky function\n",
    "    \n",
    "    '''\n",
    "    \n",
    "    unique_idx, counts = np.unique(idx, return_counts=True)\n",
    "    repeated_idxs = unique_idx[np.where(counts > 1)] # idxs appearing in idx multiple times\n",
    "    not_duplicate = np.ones(idx.shape)\n",
    "        \n",
    "    for rep_idx in repeated_idxs:\n",
    "        locs = np.where(idx == rep_idx)[0] # rep_idx's locations in idx (n=4195)\n",
    "        locs = locs[d2d[locs] < prelim_cutoff]\n",
    "        if len(locs) < 2: continue\n",
    "        best_loc = locs[0]\n",
    "        \n",
    "        for loc in locs:\n",
    "            if d2d[loc] < d2d[best_loc]: best_loc = loc\n",
    "        for loc in locs:        \n",
    "            if loc != best_loc: not_duplicate[loc] = 0\n",
    "            \n",
    "            if (d2d[loc] < prelim_cutoff):\n",
    "                print(f'Cluster matched with HSC idx {rep_idx} (d2d = {np.round(d2d[loc],3)}):')\n",
    "                print(ACT_cat[loc]['name'])\n",
    "                print(f'ACT index (ie loc in idx): {loc}')\n",
    "        if (d2d[best_loc] < prelim_cutoff):\n",
    "            print()\n",
    "    \n",
    "    return not_duplicate == 1"
   ]
  },
  {
   "cell_type": "code",
   "execution_count": 19,
   "id": "ac858af3",
   "metadata": {
    "code_folding": [],
    "scrolled": true
   },
   "outputs": [
    {
     "name": "stdout",
     "output_type": "stream",
     "text": [
      "Cluster matched with HSC idx 4183 (d2d = 0.084 deg):\n",
      "ACT-CL J0935.0+0053\n",
      "ACT index (ie loc in idx): 2090\n",
      "Cluster matched with HSC idx 4183 (d2d = 0.026 deg):\n",
      "ACT-CL J0935.2+0048\n",
      "ACT index (ie loc in idx): 2092\n",
      "\n",
      "Cluster matched with HSC idx 15792 (d2d = 0.012 deg):\n",
      "ACT-CL J2319.7+0030\n",
      "ACT index (ie loc in idx): 3960\n",
      "Cluster matched with HSC idx 15792 (d2d = 0.067 deg):\n",
      "ACT-CL J2320.0+0033\n",
      "ACT index (ie loc in idx): 3967\n",
      "\n",
      "Cluster matched with HSC idx 16205 (d2d = 0.036 deg):\n",
      "ACT-CL J2343.7+0016\n",
      "ACT index (ie loc in idx): 4098\n",
      "Cluster matched with HSC idx 16205 (d2d = 0.01 deg):\n",
      "ACT-CL J2343.7+0018\n",
      "ACT index (ie loc in idx): 4099\n",
      "\n",
      "Number of ACT clusters within the preliminary matching radius: 213\n",
      "Number of ACT clusters in preliminary sample: 200\n",
      "Size of final sample: 196\n"
     ]
    }
   ],
   "source": [
    "# Note: idx indexes into HSC_coords\n",
    "idx, d2d, d3d = ACT_coords.match_to_catalog_sky(HSC_coords)\n",
    "\n",
    "within_radius = (d2d < prelim_cutoff)\n",
    "not_duplicate = remove_duplicates(idx, d2d, d3d)\n",
    "has_cam_richness = (ACT_cat['CAMIRA_N_mem'] != -99)\n",
    "good_inds = within_radius & not_duplicate & has_cam_richness\n",
    "\n",
    "## Calculate physical offsets\n",
    "h = 0.7\n",
    "cosmo = LambdaCDM(H0=100*h, Om0=0.3, Ode0=0.7)\n",
    "\n",
    "angular_sep = ACT_coords.separation(\\\n",
    "                        HSC_coords[idx])\n",
    "redshifts = ACT_cat['redshift']\n",
    "physical_sep = get_physical_sep(cosmo, angular_sep, redshifts)\n",
    "\n",
    "# impose upper limit on offsets\n",
    "limit = 1 * u.Mpc / h\n",
    "below_offset_limit = good_inds & (physical_sep < limit)\n",
    "offsets_Mpc = physical_sep[below_offset_limit]\n",
    "\n",
    "print(f'Number of ACT clusters within the preliminary matching radius: {np.sum(within_radius)}')\n",
    "print(f'Number of ACT clusters in preliminary sample: {np.sum(good_inds)}')\n",
    "print(f'Size of final sample: {len(offsets_Mpc)}')"
   ]
  },
  {
   "cell_type": "code",
   "execution_count": 16,
   "id": "a6d13056",
   "metadata": {
    "code_folding": [],
    "scrolled": false
   },
   "outputs": [
    {
     "name": "stdout",
     "output_type": "stream",
     "text": [
      "Number of ACT clusters in HSC footprint (but excluded from the cross-match): 29\n"
     ]
    }
   ],
   "source": [
    "in_footprint_no_crossmatch = ACT_cat[in_hsc_footprint & ~good_inds]['name']\n",
    "\n",
    "print('Number of ACT clusters in HSC footprint (but excluded from the cross-match): ' + \n",
    "      str(len(in_footprint_no_crossmatch)))\n",
    "# print('Names of those ACT clusters:')\n",
    "# print(in_footprint_no_crossmatch)"
   ]
  },
  {
   "cell_type": "markdown",
   "id": "ae963331",
   "metadata": {},
   "source": [
    "## Plotting duplicates"
   ]
  },
  {
   "cell_type": "code",
   "execution_count": 26,
   "id": "354fe364",
   "metadata": {
    "code_folding": [],
    "scrolled": false
   },
   "outputs": [
    {
     "data": {
      "image/png": "[encoded data removed]",
      "text/plain": [
       "<Figure size 720x432 with 1 Axes>"
      ]
     },
     "metadata": {
      "needs_background": "light"
     },
     "output_type": "display_data"
    }
   ],
   "source": [
    "## Plot duplicates in the (no starmask, using a richness cut) sample\n",
    "fig = plt.figure(figsize=(10,6))\n",
    "\n",
    "# ax = plt.subplot(111, projection=\"aitoff\")\n",
    "# plt.grid(True)\n",
    "\n",
    "# pair1_inds = [2090, 2092]\n",
    "# pair1_ind = 4183 \n",
    "# plt.plot(act_ra[pair1_inds[0]], act_dec[pair1_inds[0]], \n",
    "#         marker='.', markersize=20, linestyle='None', \\\n",
    "#         label=ACT_cat[pair1_inds[0]]['name'] + ' (rejected)', c='r')\n",
    "# plt.plot(act_ra[pair1_inds[1]], act_dec[pair1_inds[1]], \n",
    "#         marker='.', markersize=20, linestyle='None', \\\n",
    "#         label=ACT_cat[pair1_inds[1]]['name'] + ' (accepted)', c='g')\n",
    "# plt.plot(hsc_ra[pair1_ind], hsc_dec[pair1_ind], marker='x', markersize=20, \\\n",
    "#         linestyle='None', label=\"Match in HSC (C19a1sW04184)\", c='b')\n",
    "# plt.xlabel('RA (rad)')\n",
    "# plt.ylabel('Dec (rad)')\n",
    "# plt.title('Pair #1 of ACT clusters matched to the same HSC cluster', pad=25)\n",
    "\n",
    "pair2_inds = [4098, 4099]\n",
    "pair2_ind = 16205\n",
    "plt.plot(act_ra[pair2_inds[0]], act_dec[pair2_inds[0]], \n",
    "        marker='.', markersize=20, linestyle='None', \\\n",
    "        label=ACT_cat[pair2_inds[0]]['name'] + ' (rejected)', c='r')\n",
    "plt.plot(act_ra[pair2_inds[1]], act_dec[pair2_inds[1]], \n",
    "        marker='.', markersize=20, linestyle='None', \\\n",
    "        label=ACT_cat[pair2_inds[1]]['name'] + ' (accepted)', c='g')\n",
    "plt.plot(hsc_ra[pair2_ind], hsc_dec[pair2_ind], marker='x', markersize=20, \\\n",
    "        linestyle='None', label=\"Match in HSC (C19a1sW16206)\", c='b')\n",
    "plt.xlabel('RA (rad)')\n",
    "plt.ylabel('Dec (rad)')\n",
    "plt.title('Pair #2 of ACT clusters matched to the same HSC cluster', pad=25)\n",
    "\n",
    "plt.legend()\n",
    "plt.show()"
   ]
  },
  {
   "cell_type": "markdown",
   "id": "7c298609",
   "metadata": {},
   "source": [
    "## Inconsistency in N_mem?"
   ]
  },
  {
   "cell_type": "markdown",
   "id": "7684ae97",
   "metadata": {},
   "source": [
    "Within this cross-matched sample, compare the distributions of the HSC catalog's N_mem values and the ACT catalog's N_mem values."
   ]
  },
  {
   "cell_type": "code",
   "execution_count": 65,
   "id": "18dd4239",
   "metadata": {},
   "outputs": [
    {
     "data": {
      "text/plain": [
       "196"
      ]
     },
     "execution_count": 65,
     "metadata": {},
     "output_type": "execute_result"
    }
   ],
   "source": [
    "len(N_mem_diffs)"
   ]
  },
  {
   "cell_type": "code",
   "execution_count": 104,
   "id": "84afa196",
   "metadata": {
    "scrolled": true
   },
   "outputs": [
    {
     "data": {
      "text/html": [
       "&lt;Column name=&apos;CAMIRA_N_mem&apos; dtype=&apos;float64&apos; length=10&gt;\n",
       "<table>\n",
       "<tr><td>0.10099999999999909</td></tr>\n",
       "<tr><td>4.6419999999999995</td></tr>\n",
       "<tr><td>-9.220999999999997</td></tr>\n",
       "<tr><td>2.75</td></tr>\n",
       "<tr><td>13.3</td></tr>\n",
       "<tr><td>-11.645000000000001</td></tr>\n",
       "<tr><td>-0.6229999999999976</td></tr>\n",
       "<tr><td>-0.30600000000000094</td></tr>\n",
       "<tr><td>-17.529999999999998</td></tr>\n",
       "<tr><td>-16.977</td></tr>\n",
       "</table>"
      ],
      "text/plain": [
       "<Column name='CAMIRA_N_mem' dtype='float64' length=10>\n",
       " 0.10099999999999909\n",
       "  4.6419999999999995\n",
       "  -9.220999999999997\n",
       "                2.75\n",
       "                13.3\n",
       " -11.645000000000001\n",
       " -0.6229999999999976\n",
       "-0.30600000000000094\n",
       " -17.529999999999998\n",
       "             -16.977"
      ]
     },
     "execution_count": 104,
     "metadata": {},
     "output_type": "execute_result"
    }
   ],
   "source": [
    "N_mem_diffs[np.where(N_mem_diffs != 0)]"
   ]
  },
  {
   "cell_type": "code",
   "execution_count": 103,
   "id": "87416a47",
   "metadata": {
    "code_folding": [],
    "scrolled": true
   },
   "outputs": [
    {
     "data": {
      "image/png": "[encoded data removed]",
      "text/plain": [
       "<Figure size 720x360 with 1 Axes>"
      ]
     },
     "metadata": {
      "needs_background": "light"
     },
     "output_type": "display_data"
    }
   ],
   "source": [
    "## (just a test) investigate differences in richnesses\n",
    "N_mem_from_HSC = HSC_cat[idx[below_offset_limit],3]\n",
    "N_mem_from_ACT = ACT_cat[below_offset_limit]['CAMIRA_N_mem']\n",
    "N_mem_diffs = N_mem_from_HSC - N_mem_from_ACT\n",
    "\n",
    "## histograms of N_mem for HSC vs. ACT\n",
    "plt.figure(figsize=(10,5))\n",
    "plt.title(f\"Distribution of HSC-ACT N_mem difference\")\n",
    "\n",
    "num_bins = 10\n",
    "bins = np.linspace(min(N_mem_diffs), max(N_mem_diffs), num=num_bins)\n",
    "plt.hist(N_mem_diffs, bins=bins, \\\n",
    "                 alpha=0.5, label='Difference (HSC minus ACT)')\n",
    "plt.xlabel('Difference in N_mem')\n",
    "plt.ylabel('Number')\n",
    "\n",
    "plt.legend()\n",
    "plt.show()"
   ]
  },
  {
   "cell_type": "markdown",
   "id": "f0489bae-4285-48ad-b589-c8e1656ed01b",
   "metadata": {},
   "source": [
    "## Compute offsets and model the distribution"
   ]
  },
  {
   "cell_type": "code",
   "execution_count": 61,
   "id": "d4d1a5af",
   "metadata": {
    "code_folding": [],
    "scrolled": true,
    "tags": []
   },
   "outputs": [
    {
     "name": "stdout",
     "output_type": "stream",
     "text": [
      "Size of final sample: 196\n",
      "      fun: -266.9369168004687\n",
      " hess_inv: <3x3 LbfgsInvHessProduct with dtype=float64>\n",
      "      jac: array([0.00000000e+00, 6.82121027e-05, 5.68434189e-06])\n",
      "  message: 'CONVERGENCE: REL_REDUCTION_OF_F_<=_FACTR*EPSMCH'\n",
      "     nfev: 60\n",
      "      nit: 12\n",
      "     njev: 15\n",
      "   status: 0\n",
      "  success: True\n",
      "        x: array([0.60009888, 0.08818524, 0.27573672])\n"
     ]
    }
   ],
   "source": [
    "## optimization + tests for injecting/removing offsets\n",
    "\n",
    "# (a test on how f_cen varies; needs to be updated for richnesses) \n",
    "# remove the x largest offsets\n",
    "remove_offsets = False\n",
    "if remove_offsets:\n",
    "    offsets_Mpc.sort()\n",
    "    print(f'Largest offsets: {offsets_Mpc[-3:]}')\n",
    "\n",
    "    f_excluded = 1 - len(offsets_Mpc) / len(physical_sep)\n",
    "    print(f'Percent of offsets excluded: {np.round(f_excluded * 100, 2)}%')\n",
    "\n",
    "## Fit the model\n",
    "physical_offsets = offsets_Mpc.value # \"offsets\" is unitless\n",
    "\n",
    "# (a test on how f_cen varies; needs to be updated for richnesses) \n",
    "# inject large offsets into the distribution\n",
    "inject_offsets = False\n",
    "if inject_offsets:\n",
    "    fake_offsets = np.linspace(0.5, 1.2, num=0)\n",
    "    scaled_offsets = np.concatenate((offsets, fake_offsets))\n",
    "    print(f'len(offsets): {len(offsets)}')\n",
    "\n",
    "initial_guess = (0.75, 0.03, 0.17)\n",
    "best_guess = minimize(fun=objective_fn, x0=initial_guess, args=(physical_offsets), \\\n",
    "                     method='L-BFGS-B', bounds=((0., 1), (1e-4, 0.3), (0.1, 1.)))\n",
    "\n",
    "init_obj = objective_fn(initial_guess, physical_offsets)\n",
    "#print(f'Initial obj: {init_obj}\\n')\n",
    "\n",
    "f_best, sig_best, tau_best = best_guess.x\n",
    "print(best_guess)"
   ]
  },
  {
   "cell_type": "code",
   "execution_count": 62,
   "id": "fb40510f",
   "metadata": {
    "code_folding": [],
    "scrolled": false
   },
   "outputs": [
    {
     "ename": "NameError",
     "evalue": "name 'max_offset' is not defined",
     "output_type": "error",
     "traceback": [
      "\u001b[0;31m---------------------------------------------------------------------\u001b[0m",
      "\u001b[0;31mNameError\u001b[0m                           Traceback (most recent call last)",
      "\u001b[0;32m<ipython-input-62-f56a63a6d4e8>\u001b[0m in \u001b[0;36m<module>\u001b[0;34m\u001b[0m\n\u001b[1;32m     15\u001b[0m \u001b[0;31m# plot full model\u001b[0m\u001b[0;34m\u001b[0m\u001b[0;34m\u001b[0m\u001b[0;34m\u001b[0m\u001b[0m\n\u001b[1;32m     16\u001b[0m \u001b[0mnorm_factor_full\u001b[0m \u001b[0;34m=\u001b[0m \u001b[0;36m1\u001b[0m \u001b[0;34m/\u001b[0m\u001b[0;31m \u001b[0m\u001b[0;31m\\\u001b[0m\u001b[0;34m\u001b[0m\u001b[0;34m\u001b[0m\u001b[0m\n\u001b[0;32m---> 17\u001b[0;31m         \u001b[0mintegrate\u001b[0m\u001b[0;34m.\u001b[0m\u001b[0mquad\u001b[0m\u001b[0;34m(\u001b[0m\u001b[0moffset_model\u001b[0m\u001b[0;34m,\u001b[0m \u001b[0;36m0\u001b[0m\u001b[0;34m,\u001b[0m \u001b[0mmax_offset\u001b[0m\u001b[0;34m,\u001b[0m \u001b[0margs\u001b[0m\u001b[0;34m=\u001b[0m\u001b[0;34m(\u001b[0m\u001b[0mf_best\u001b[0m\u001b[0;34m,\u001b[0m \u001b[0msig1_best\u001b[0m\u001b[0;34m,\u001b[0m \u001b[0msig2_best\u001b[0m\u001b[0;34m)\u001b[0m\u001b[0;34m)\u001b[0m\u001b[0;34m[\u001b[0m\u001b[0;36m0\u001b[0m\u001b[0;34m]\u001b[0m\u001b[0;34m\u001b[0m\u001b[0;34m\u001b[0m\u001b[0m\n\u001b[0m\u001b[1;32m     18\u001b[0m plt.plot(x_axis, norm_factor_full*offset_model(x_axis, f_best, sig1_best, sig2_best), label=\\\n\u001b[1;32m     19\u001b[0m     f\"Model:\\nf_cen={np.round(f_best,3)}\\nsig1={np.round(sig1_best,3)}\\nsig2={np.round(sig2_best,3)}\")\n",
      "\u001b[0;31mNameError\u001b[0m: name 'max_offset' is not defined"
     ]
    },
    {
     "data": {
      "image/png": "[encoded data removed]",
      "text/plain": [
       "<Figure size 720x360 with 1 Axes>"
      ]
     },
     "metadata": {
      "needs_background": "light"
     },
     "output_type": "display_data"
    }
   ],
   "source": [
    "## Plot offset distribution (cross-match)\n",
    "plt.figure(figsize=(10,5))\n",
    "plt.title(f\"ACT-CAMIRA offset distribution (indep. cross-match; n = {len(physical_offsets)})\")\n",
    "\n",
    "## Data sample\n",
    "num_bins = 20\n",
    "max_offset = np.max(physical_offsets)\n",
    "bins = np.linspace(0, max_offset, num=num_bins)\n",
    "hist = plt.hist(physical_offsets, bins=bins, \\\n",
    "                label=f\"Data (excluding\\noffsets > {np.round(limit,2)})\", density=True)\n",
    "plt.xlabel(\"Physical offset (Mpc)\")\n",
    "plt.ylabel(\"(Normalized) number of clusters\")\n",
    "\n",
    "## Model\n",
    "x_axis = (hist[1][:-1] + hist[1][1:]) / 2 # midpoints of histogram bins\n",
    "# plot full model\n",
    "norm_factor_full = 1 / \\\n",
    "        integrate.quad(offset_model, 0, max_offset, args=(f_best, sig1_best, sig2_best))[0]\n",
    "plt.plot(x_axis, norm_factor_full*offset_model(x_axis, f_best, sig1_best, sig2_best), label=\\\n",
    "    f\"Model:\\nf_cen={np.round(f_best,3)}\\nsig1={np.round(sig1_best,3)}\\nsig2={np.round(sig2_best,3)}\")\n",
    "# plot the model's two components separately\n",
    "plt.plot(x_axis, norm_factor_full*f_best*prob_dens_well_centered(x_axis, sig1_best),\n",
    "         label=f\"Well-centered distro\")\n",
    "plt.plot(x_axis, norm_factor_full*(1-f_best)*prob_dens_mis_centered(x_axis, sig2_best), \n",
    "         label=f\"Miscentered distro\")\n",
    "\n",
    "plt.legend()\n",
    "plt.show()"
   ]
  },
  {
   "cell_type": "markdown",
   "id": "bca0b33d-cfaf-498e-9ffb-174595c9ed70",
   "metadata": {},
   "source": [
    "## Investigating why the well-centered fraction is low"
   ]
  },
  {
   "cell_type": "markdown",
   "id": "f90e2df3-b0e1-4ae2-816c-28ec30a27ec6",
   "metadata": {},
   "source": [
    "Below, we make fake distributions and check that the model recovers the well-centered fraction."
   ]
  },
  {
   "cell_type": "code",
   "execution_count": 216,
   "id": "7f9a768e-4865-4f18-96be-59713e704b97",
   "metadata": {
    "code_folding": [
     0
    ],
    "scrolled": true
   },
   "outputs": [
    {
     "name": "stdout",
     "output_type": "stream",
     "text": [
      "Initial obj: 9.170846701680917e-171\n",
      "\n",
      " final_simplex: (array([[0.46022196, 0.08346289, 0.66423919],\n",
      "       [0.46026881, 0.08346595, 0.66416856],\n",
      "       [0.46029849, 0.08345663, 0.66430119],\n",
      "       [0.46020704, 0.08345168, 0.66418825]]), array([9.36882645e-46, 9.36883815e-46, 9.36883894e-46, 9.36884040e-46]))\n",
      "           fun: 9.368826451721663e-46\n",
      "       message: 'Optimization terminated successfully.'\n",
      "          nfev: 110\n",
      "           nit: 61\n",
      "        status: 0\n",
      "       success: True\n",
      "             x: array([0.46022196, 0.08346289, 0.66423919])\n"
     ]
    }
   ],
   "source": [
    "## test model on fake distributions\n",
    "temp1 = np.ones(30) * 0.1\n",
    "temp2 = np.ones(20) * 0.2\n",
    "temp3 = np.ones(15) * 0.9\n",
    "temp4 = np.ones(35) * 1.3\n",
    "temp_offsets = np.concatenate((temp1, temp2, temp3, temp4))\n",
    "\n",
    "## Fit the model\n",
    "initial_guess = (0.68, 0.066, 0.37)\n",
    "# Nelder-Mead is the only method in scipy.optimize.minimize that yields reasonable results\n",
    "best_guess = minimize(fun=objective_fn, x0=initial_guess, args=(temp_offsets), \\\n",
    "                     method='Nelder-Mead')\n",
    "\n",
    "init_obj = objective_fn(initial_guess, offsets)\n",
    "print(f'Initial obj: {init_obj}\\n')\n",
    "\n",
    "f_best, sig1_best, sig2_best = best_guess.x\n",
    "print(best_guess)"
   ]
  },
  {
   "cell_type": "markdown",
   "id": "8c5bbb80",
   "metadata": {},
   "source": [
    "## Samples of ACT clusters with CAMIRA, SDSS, or DES positions"
   ]
  },
  {
   "cell_type": "markdown",
   "id": "c8232fef",
   "metadata": {
    "tags": []
   },
   "source": [
    "**Note about `optSource == 'CAMIRA'` sample:** There are 61 ACT clusters that are flagged as having their optical position coming from CAMIRA, and 56 of them have valid optical positions in the catalog. (The other 5 were probably added after using CAMIRA in scanning mode; i.e. they weren't originally in the catalog, but were added based on ACT information.)\n",
    "\n",
    "**Note about `optSource == 'DES'` sample:** 4/1064 of the clusters have a position, but no richness. If a richness-dependent offset model is being used, these clusters are omitted. "
   ]
  },
  {
   "cell_type": "code",
   "execution_count": 10,
   "id": "11efb5f5",
   "metadata": {},
   "outputs": [],
   "source": [
    "optSource = 'CAMIRA'"
   ]
  },
  {
   "cell_type": "code",
   "execution_count": 57,
   "id": "1e2112be",
   "metadata": {
    "code_folding": [
     0
    ],
    "jupyter": {
     "source_hidden": true
    },
    "tags": []
   },
   "outputs": [],
   "source": [
    "## Create optical and SZ position catalogs\n",
    "\n",
    "# get indices of the clusters with optical coordinates\n",
    "if optSource == 'CAMIRA':\n",
    "    opt_coord_locs = position_from_cam & (ACT_cat['opt_RADeg'] != -99)\n",
    "elif optSource == 'SDSS':\n",
    "    opt_coord_locs = position_from_sdss & (ACT_cat['opt_RADeg'] != -99)\n",
    "elif optSource == 'DES':\n",
    "    opt_coord_locs = position_from_des & (ACT_cat['opt_RADeg'] != -99) & \\\n",
    "        (ACT_cat['RMDESY3_LAMBDA_CHISQ'] != -99)\n",
    "else:\n",
    "    raise Exception('optSource must be CAMIRA, SDSS, or DES')\n",
    "    \n",
    "opt_ra = ACT_cat['opt_RADeg'][opt_coord_locs]\n",
    "opt_dec = ACT_cat['opt_decDeg'][opt_coord_locs]\n",
    "\n",
    "opt_coords = SkyCoord(ra=opt_ra * u.degree, \n",
    "                      dec=opt_dec * u.degree, \n",
    "                      frame='icrs')\n",
    "sz_coords = ACT_coords[opt_coord_locs]\n",
    "\n",
    "## Check that every cluster in the sample has a richness\n",
    "# print(f'Number in sample with coords: {np.sum(opt_coord_locs)}')\n",
    "# has_richness = ACT_cat[opt_coord_locs]['RMDESY3_LAMBDA_CHISQ'] > 0\n",
    "# print(f'Number in sample with richnesses: {np.sum(has_richness)}')\n",
    "# print('Clusters without richnesses:')\n",
    "# print(ACT_cat[opt_coord_locs][~has_richness])"
   ]
  },
  {
   "cell_type": "markdown",
   "id": "7f550821",
   "metadata": {
    "tags": []
   },
   "source": [
    "Check that the properties of this subsample are generally consistent with those of the full ACT sample. \n",
    "One observation: for CAMIRA, the `has_opt_coords` sample doesn't have large values of RM_LAMBDA and SNR."
   ]
  },
  {
   "cell_type": "code",
   "execution_count": 75,
   "id": "0dd3c141",
   "metadata": {
    "code_folding": [
     0
    ],
    "jupyter": {
     "outputs_hidden": true,
     "source_hidden": true
    },
    "tags": []
   },
   "outputs": [],
   "source": [
    "## histograms of subsample and sample properties\n",
    "\n",
    "# prop = 'RM_LAMBDA'\n",
    "# plt.figure(figsize=(10,5))\n",
    "# plt.title(f\"Normalized distributions of \" + prop + \" for has_opt_coords and full sample\")\n",
    "\n",
    "# num_bins = 15\n",
    "# bins = np.linspace(0, np.max(ACT_cat[prop]), num=num_bins)\n",
    "# plt.hist(ACT_cat[prop], bins=bins, alpha=0.5, label='Full ACT sample', density=True)\n",
    "# plt.hist(ACT_cat[opt_coord_locs][prop], bins=bins, alpha=0.5, \\\n",
    "#          label='Clusters with ' + optSource + ' positions', density=True)\n",
    "# plt.xlabel(prop)\n",
    "# plt.ylabel(\"Density\")\n",
    "\n",
    "# plt.legend()\n",
    "# plt.show()"
   ]
  },
  {
   "cell_type": "markdown",
   "id": "e2845de0",
   "metadata": {},
   "source": [
    "Fit the offset distribution."
   ]
  },
  {
   "cell_type": "code",
   "execution_count": 58,
   "id": "21518c8c",
   "metadata": {
    "code_folding": [
     0
    ]
   },
   "outputs": [],
   "source": [
    "## Calculate physical offsets\n",
    "h = 0.7\n",
    "cosmo = LambdaCDM(H0=100*h, Om0=0.3, Ode0=0.7)\n",
    "angular_sep = opt_coords.separation(sz_coords)\n",
    "redshifts = ACT_cat[opt_coord_locs]['redshift']\n",
    "physical_sep = get_physical_sep(cosmo, angular_sep, redshifts)\n",
    "physical_offsets = physical_sep.value # removes astropy units\n",
    "\n",
    "if optSource == 'CAMIRA':\n",
    "    richnesses = ACT_cat[opt_coord_locs]['CAMIRA_N_mem']\n",
    "elif optSource == 'SDSS':\n",
    "    richnesses = ACT_cat[opt_coord_locs]['RM_LAMBDA']\n",
    "elif optSource == 'DES':\n",
    "    richnesses = ACT_cat[opt_coord_locs]['RMDESY3_LAMBDA_CHISQ']"
   ]
  },
  {
   "cell_type": "code",
   "execution_count": 77,
   "id": "21b6d338",
   "metadata": {
    "code_folding": [
     0
    ],
    "scrolled": true
   },
   "outputs": [],
   "source": [
    "## Estimate f_centered with an arbitrary cutoff for being well-centered\n",
    "# def get_f_centered(well_centered_cutoff, matching_radius):\n",
    "#     '''\n",
    "    \n",
    "#     Returns an estimate of f_centered.\n",
    "    \n",
    "#     ARGUMENTS\n",
    "#     ---------\n",
    "#     well_centered_cutoff: upper offset limit for well-centered clusters\n",
    "#     matching_radius: upper offset limit for all clusters in sample\n",
    "    \n",
    "#     '''\n",
    "    \n",
    "#     num_well_centered = np.sum(offsets < well_centered_cutoff)\n",
    "#     num_within_rad = np.sum(offsets < matching_radius)\n",
    "    \n",
    "#     return np.round(num_well_centered / num_within_rad, 2)\n",
    "\n",
    "# well_centered_cutoff = 0.2 / h\n",
    "# matching_radii = [.6, .7, .8, .9, 1, 10]\n",
    "# print(f'Well-centered fraction (i.e. below {np.round(well_centered_cutoff, 2)} Mpc) for ' +\\\n",
    "#      optSource + ':')\n",
    "\n",
    "# for matching_rad in matching_radii:\n",
    "#     frac = get_f_centered(well_centered_cutoff, matching_rad)\n",
    "#     print(f'Matching radius = {matching_rad} Mpc: {frac}')"
   ]
  },
  {
   "cell_type": "code",
   "execution_count": 78,
   "id": "5d9eed6f",
   "metadata": {
    "code_folding": [
     0
    ]
   },
   "outputs": [],
   "source": [
    "## Remove an arbitrary number of large offsets\n",
    "# offsets.sort()\n",
    "# num_removed = 10\n",
    "# offsets = offsets[:-num_removed]"
   ]
  },
  {
   "cell_type": "code",
   "execution_count": 59,
   "id": "0ddc3321",
   "metadata": {
    "code_folding": [
     0
    ],
    "jupyter": {
     "outputs_hidden": true,
     "source_hidden": true
    },
    "scrolled": true,
    "tags": []
   },
   "outputs": [
    {
     "name": "stdout",
     "output_type": "stream",
     "text": [
      "      fun: -72.61049361627786\n",
      " hess_inv: <3x3 LbfgsInvHessProduct with dtype=float64>\n",
      "      jac: array([ 9.37916412e-05,  2.27373675e-04, -1.22213351e-04])\n",
      "  message: 'CONVERGENCE: REL_REDUCTION_OF_F_<=_FACTR*EPSMCH'\n",
      "     nfev: 120\n",
      "      nit: 16\n",
      "     njev: 30\n",
      "   status: 0\n",
      "  success: True\n",
      "        x: array([0.30017333, 0.04659832, 0.22713798])\n"
     ]
    }
   ],
   "source": [
    "## Optimize (has_opt_coords)\n",
    "initial_guess = (0.7, 0.07, 0.37)\n",
    "best_guess = minimize(fun=objective_fn, x0=initial_guess, args=(physical_offsets), \\\n",
    "                     method='L-BFGS-B', bounds=((0., 1), (1e-4, 0.3), (0.1, 1.)))\n",
    "\n",
    "# init_obj = objective_fn(initial_guess, offsets)\n",
    "# print(f'Initial obj: {init_obj}\\n')\n",
    "\n",
    "f_best, sig1_best, sig2_best = best_guess.x\n",
    "print(best_guess)"
   ]
  },
  {
   "cell_type": "code",
   "execution_count": 45,
   "id": "45fae3e6",
   "metadata": {
    "code_folding": [
     0
    ],
    "jupyter": {
     "outputs_hidden": true,
     "source_hidden": true
    },
    "scrolled": false,
    "tags": []
   },
   "outputs": [
    {
     "data": {
      "image/png": "[encoded data removed]",
      "text/plain": [
       "<Figure size 720x360 with 1 Axes>"
      ]
     },
     "metadata": {
      "needs_background": "light"
     },
     "output_type": "display_data"
    }
   ],
   "source": [
    "## Plot offset distro\n",
    "\n",
    "plt.figure(figsize=(10,5))\n",
    "\n",
    "plt.title(f\"ACT-optical offset distribution (optSource = {optSource}; Gaussian model)\")\n",
    "\n",
    "## Data sample\n",
    "num_bins = 16\n",
    "max_offset = np.max(physical_offsets)\n",
    "bins = np.linspace(0, max_offset, num=num_bins)\n",
    "hist = plt.hist(physical_offsets, bins=bins, label=f\"Data (n = {len(physical_offsets)})\", \\\n",
    "               density=True)\n",
    "plt.xlabel(\"Physical offset (Mpc)\")\n",
    "plt.ylabel(\"(Normalized) number of clusters\")\n",
    "\n",
    "## Model\n",
    "x_axis = (hist[1][:-1] + hist[1][1:]) / 2 # midpoints of histogram bins\n",
    "# plot full model\n",
    "norm_factor_full = 1 / \\\n",
    "        integrate.quad(offset_model, 0, max_offset, args=(f_best, sig1_best, sig2_best))[0]\n",
    "plt.plot(x_axis, norm_factor_full*offset_model(x_axis, f_best, sig1_best, sig2_best), label=\\\n",
    "    f\"Model:\\nf_cen={np.round(f_best,3)}\\nsig1={np.round(sig1_best,3)}\\nsig2={np.round(sig2_best,3)}\")\n",
    "# plot the model's two components separately\n",
    "plt.plot(x_axis, norm_factor_full*f_best*prob_dens_well_centered(x_axis, sig1_best),\n",
    "         label=f\"Well-centered distro\")\n",
    "plt.plot(x_axis, norm_factor_full*(1-f_best)*prob_dens_mis_centered(x_axis, sig2_best), \n",
    "         label=f\"Miscentered distro\")\n",
    "\n",
    "plt.legend()\n",
    "plt.show()"
   ]
  },
  {
   "cell_type": "markdown",
   "id": "1726f167-5b06-4333-85f4-99a9bafc8555",
   "metadata": {},
   "source": [
    "# Plotting info from TOPCAT "
   ]
  },
  {
   "cell_type": "markdown",
   "id": "f19c35ac-1523-4400-b7ef-eabbf2508a65",
   "metadata": {},
   "source": [
    "## Number of matches vs. matching radius"
   ]
  },
  {
   "cell_type": "markdown",
   "id": "ce1d3de7-2f9e-4552-a46e-ab006dbdaa7c",
   "metadata": {},
   "source": [
    "I got the data below via TOPCAT's table-matching feature. I selected \"Best match, symmetric\" and \"1 and 2\" for Match Selection and Join Type, respectively. Then, I plugged in different matching radii using the Max error option."
   ]
  },
  {
   "cell_type": "code",
   "execution_count": 2,
   "id": "d52c5706-369d-44d3-8b9d-997f1a266bcb",
   "metadata": {
    "code_folding": [
     0
    ],
    "jupyter": {
     "source_hidden": true
    },
    "tags": []
   },
   "outputs": [],
   "source": [
    "## Plotting number of matches vs. match radius\n",
    "# match_radius = [.1, .2, .3, .4, .5, \\\n",
    "#                 .6, .7, .8, .9, 1, \\\n",
    "#                1.1, 1.2, 1.3, 1.4, 1.5, \\\n",
    "#                2, 2.5, 3, 4, 5, 6, 7, \\\n",
    "#                10, 15] # arcmin\n",
    "# num_matches = [6, 34, 48, 71, 94, \\\n",
    "#                107, 123, 142, 149, 157, \\\n",
    "#               162, 167, 170, 175, 178,\n",
    "#               187, 190, 194, 201, 205, 210, 215, \\\n",
    "#               234, 247]\n",
    "\n",
    "# plt.scatter(match_radius, num_matches)\n",
    "# plt.xlabel('Matching radius (arcminutes)')\n",
    "# plt.ylabel('Number of matches')\n",
    "\n",
    "# plt.show()"
   ]
  },
  {
   "cell_type": "markdown",
   "id": "f52bc75c",
   "metadata": {},
   "source": [
    "# Plot clusters on the sky"
   ]
  },
  {
   "cell_type": "markdown",
   "id": "3a9cf510",
   "metadata": {},
   "source": [
    "Reference: https://het.as.utexas.edu/HET/Software/Astropy-1.0/coordinates/skycoord.html#example-1-plotting-random-data-in-aitoff-projection"
   ]
  },
  {
   "cell_type": "markdown",
   "id": "6092670f",
   "metadata": {},
   "source": [
    "## Plot full catalogs"
   ]
  },
  {
   "cell_type": "code",
   "execution_count": null,
   "id": "01ce7e69",
   "metadata": {
    "code_folding": [
     0
    ],
    "jupyter": {
     "outputs_hidden": true,
     "source_hidden": true
    },
    "tags": []
   },
   "outputs": [],
   "source": [
    "## ACT and HSC clusters\n",
    "\n",
    "fig = plt.figure(figsize=(20,13))\n",
    "fig.patch.set_facecolor('white')\n",
    "\n",
    "ax = plt.subplot(111, projection=\"aitoff\")\n",
    "ax.grid(True)\n",
    "ax.plot(act_ra, act_dec, 'o', markersize=2, alpha=0.3, label='ACT', zorder=1)\n",
    "ax.plot(hsc_ra, hsc_dec, 'o', markersize=2, alpha=0.3, label='HSC', zorder=1)\n",
    "\n",
    "ax.set_xlabel('Right Ascension', fontsize=20)\n",
    "ax.set_ylabel('Declination', fontsize=20)\n",
    "tick_labels_x = np.array([r'$150^\\degree$', r'$120^\\degree$', r'$90^\\degree$', r'$60^\\degree$', \n",
    "                        r'$30^\\degree$', r'$0^\\degree$', r'$330^\\degree$', r'$300^\\degree$',\n",
    "                        r'$270^\\degree$', r'$240^\\degree$', r'$210^\\degree$'])\n",
    "tick_labels_y = np.array([r'$-75^\\degree$', r'$-60^\\degree$', r'$-45^\\degree$', r'$-30^\\degree$', \n",
    "                        r'$-15^\\degree$', r'$0^\\degree$', r'$15^\\degree$', r'$30^\\degree$',\n",
    "                        r'$45^\\degree$', r'$60^\\degree$', r'$75^\\degree$'])\n",
    "ax.set_xticklabels(tick_labels_x, fontsize = 15, zorder = 5)\n",
    "ax.set_yticklabels(tick_labels_y, fontsize = 15, zorder = 5)\n",
    "\n",
    "ax.set_title(\"ACT and HSC clusters\", pad=20, fontsize=20)\n",
    "ax.legend(fontsize=15, markerscale=3)\n",
    "plt.savefig(\"/Figures/Catalog_Props/ACT_HSC_catalogs_on_sky.png\", bbox_inches='tight')\n",
    "plt.show()"
   ]
  },
  {
   "cell_type": "markdown",
   "id": "99775a5f",
   "metadata": {},
   "source": [
    "## Plot a random subset of ACT clusters"
   ]
  },
  {
   "cell_type": "markdown",
   "id": "572ddebe",
   "metadata": {},
   "source": [
    "(playing around with matplotlib)"
   ]
  },
  {
   "cell_type": "code",
   "execution_count": null,
   "id": "e1e5bb74",
   "metadata": {
    "code_folding": [
     0
    ],
    "jupyter": {
     "source_hidden": true
    },
    "tags": []
   },
   "outputs": [],
   "source": [
    "# size = len(act_ra)\n",
    "# rand_inds = np.random.uniform(size=size) > 0.98\n",
    "\n",
    "# fig = plt.figure(figsize=(16,10))\n",
    "\n",
    "# ax = plt.subplot(111, projection=\"aitoff\")\n",
    "# ax.set_facecolor('#C3FFFF')\n",
    "# plt.grid(True)\n",
    "# # unicode 00a9 = copyright symbol\n",
    "# plt.plot(act_ra[rand_inds], act_dec[rand_inds], marker='$\\u00A9$', \n",
    "#          markersize=20, linestyle='None', alpha=0.5, label='ACT', c='r')\n",
    "\n",
    "# plt.title(\"Random ~2% of ACT galaxy clusters\", pad=25)\n",
    "# plt.show()"
   ]
  },
  {
   "cell_type": "markdown",
   "id": "9d8dfe59",
   "metadata": {},
   "source": [
    "## Plot ACT clusters cross-matched with HSC, SDSS, and/or DES"
   ]
  },
  {
   "cell_type": "code",
   "execution_count": null,
   "id": "28d9ab53",
   "metadata": {
    "code_folding": [
     0
    ],
    "jupyter": {
     "outputs_hidden": true,
     "source_hidden": true
    },
    "scrolled": false,
    "tags": []
   },
   "outputs": [],
   "source": [
    "## Separate RM clusters based on if they have a counterpart:\n",
    "# 1. only in one catalog,\n",
    "# 2. in two catalogs, or \n",
    "# 3. in all three\n",
    "\n",
    "has_hsc_counterpart = ACT_cat['CAMIRA']\n",
    "has_sdss_counterpart = ACT_cat['RM'] \n",
    "has_des_counterpart = ACT_cat['RMDESY3']\n",
    "print('Number of ACT clusters cross-matched with CAMIRA (HSC): ' + \n",
    "      str(np.sum(has_hsc_counterpart)))\n",
    "print('Number of ACT clusters cross-matched with redMaPPer (SDSS and/or DES): ' + \n",
    "      str(np.sum(has_sdss_counterpart | has_des_counterpart)))\n",
    "print('Number of ACT clusters cross-matched with at least one of the catalogs: ' + \n",
    "      str(np.sum(has_hsc_counterpart | has_sdss_counterpart | has_des_counterpart)))\n",
    "\n",
    "print()\n",
    "\n",
    "hsc_only = has_hsc_counterpart & (~has_sdss_counterpart) & (~has_des_counterpart)\n",
    "sdss_only = (~has_hsc_counterpart) & has_sdss_counterpart & (~has_des_counterpart)\n",
    "des_only = (~has_hsc_counterpart) & (~has_sdss_counterpart) & has_des_counterpart\n",
    "\n",
    "hsc_sdss = has_hsc_counterpart & has_sdss_counterpart & (~has_des_counterpart)\n",
    "sdss_des = (~has_hsc_counterpart) & has_sdss_counterpart & has_des_counterpart\n",
    "hsc_des = has_hsc_counterpart & (~has_sdss_counterpart) & has_des_counterpart\n",
    "\n",
    "hsc_sdss_des = has_hsc_counterpart & has_sdss_counterpart & has_des_counterpart\n",
    "\n",
    "# 3-group Venn diagram showing #s of clusters in each category\n",
    "from matplotlib_venn import venn3_unweighted\n",
    "\n",
    "# order of subsets: A, B, AB, C, AC, BC, ABC\n",
    "subsets = (np.sum(hsc_only), np.sum(sdss_only), np.sum(hsc_sdss), \\\n",
    "          np.sum(des_only), np.sum(hsc_des), np.sum(sdss_des), \\\n",
    "          np.sum(hsc_sdss_des))\n",
    "\n",
    "plt.figure(figsize=(7,7))\n",
    "plt.title(\"Numbers of ACT clusters cross-matched with HSC, SDSS, and/or DES\")\n",
    "venn3_unweighted(subsets = subsets, \\\n",
    "      set_labels = ('HSC (CAMIRA)', 'SDSS (RM)', 'DES (RM)'), \\\n",
    "      alpha = 0.5)\n",
    "\n",
    "plt.savefig(\"/Figures/Catalog_Props/HSC_SDSS_DES_Venn.png\", bbox_inches='tight')\n",
    "plt.show()"
   ]
  },
  {
   "cell_type": "code",
   "execution_count": null,
   "id": "92877fce",
   "metadata": {
    "code_folding": [
     0
    ],
    "jupyter": {
     "outputs_hidden": true,
     "source_hidden": true
    },
    "tags": []
   },
   "outputs": [],
   "source": [
    "## Plot the different subsets\n",
    "\n",
    "plt.figure(figsize=(20,13))\n",
    "\n",
    "plt.subplot(111, projection=\"aitoff\")\n",
    "plt.grid(True)\n",
    "\n",
    "plt.plot(act_ra[hsc_only], act_dec[hsc_only], \n",
    "         'o', markersize=3, alpha=0.5, label='HSC only')\n",
    "plt.plot(act_ra[sdss_only], act_dec[sdss_only], \n",
    "         'v', markersize=3, alpha=0.5, label='SDSS only')\n",
    "plt.plot(act_ra[des_only], act_dec[des_only], \n",
    "         's', markersize=3, alpha=0.5, label='DES only')\n",
    "\n",
    "plt.plot(act_ra[hsc_sdss], act_dec[hsc_sdss], \n",
    "         '|', markersize=5, alpha=0.5, label='HSC+SDSS')\n",
    "plt.plot(act_ra[hsc_des], act_dec[hsc_des], \n",
    "         'x', markersize=5, alpha=0.5, label='HSC+DES')\n",
    "plt.plot(act_ra[sdss_des], act_dec[sdss_des], \n",
    "         '1', markersize=5, alpha=0.5, label='SDSS+DES')\n",
    "\n",
    "plt.plot(act_ra[hsc_sdss_des], act_dec[hsc_sdss_des], \n",
    "         '*', markersize=5, alpha=0.5, label='All 3')\n",
    "\n",
    "plt.xlabel('Right Ascension', fontsize=12)\n",
    "plt.ylabel('Declination', fontsize=12)\n",
    "\n",
    "plt.title(\"ACT clusters cross-matched with HSC, SDSS, and/or DES\", pad=40)\n",
    "plt.legend(fontsize=12, markerscale=3)\n",
    "plt.show()"
   ]
  },
  {
   "cell_type": "code",
   "execution_count": null,
   "id": "d32d7c2e",
   "metadata": {},
   "outputs": [],
   "source": []
  }
 ],
 "metadata": {
  "kernelspec": {
   "display_name": "Python 3",
   "language": "python",
   "name": "python3"
  },
  "language_info": {
   "codemirror_mode": {
    "name": "ipython",
    "version": 3
   },
   "file_extension": ".py",
   "mimetype": "text/x-python",
   "name": "python",
   "nbconvert_exporter": "python",
   "pygments_lexer": "ipython3",
   "version": "3.9.5"
  }
 },
 "nbformat": 4,
 "nbformat_minor": 5
}
