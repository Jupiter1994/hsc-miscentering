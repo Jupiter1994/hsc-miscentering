{
 "cells": [
  {
   "cell_type": "code",
   "execution_count": 2,
   "id": "521a71de",
   "metadata": {
    "code_folding": [],
    "jupyter": {
     "source_hidden": true
    },
    "tags": []
   },
   "outputs": [],
   "source": [
    "## Import packages\n",
    "import numpy as np\n",
    "from scipy.optimize import minimize\n",
    "from scipy import integrate\n",
    "\n",
    "from astropy.io import fits, ascii\n",
    "from astropy import units as u\n",
    "\n",
    "from astropy.coordinates import angles\n",
    "from astropy.coordinates import SkyCoord\n",
    "from astropy import constants as const\n",
    "from astropy.cosmology import LambdaCDM\n",
    "from astropy.table import Table\n",
    "from astropy.visualization import quantity_support\n",
    "quantity_support()\n",
    "\n",
    "import matplotlib.pyplot as plt"
   ]
  },
  {
   "cell_type": "markdown",
   "id": "b85286e7",
   "metadata": {},
   "source": [
    "# $f_\\text{cen}$ in previous studies"
   ]
  },
  {
   "cell_type": "markdown",
   "id": "d01c3db9",
   "metadata": {},
   "source": [
    "|         Study        | Optical |     SZ/X-ray    | Sample size | Well-centered fraction |\n",
    "|:--------------------:|:-------:|:---------------:|:-----------:|:----------------------:|\n",
    "|  Saro et al. (2015)  |   DES   |     SPT (SZ)    |      22     |           63%          |\n",
    "| Rykoff et al. (2016) |   DES   |   XMM (X-ray)   |      29     |           85%          |\n",
    "|  Oguri et al. (2018) |   HSC   |   XMM (X-ray)   |      50     |           68%          |\n",
    "|  Zhang et al. (2019) |   SDSS  | Chandra (X-ray) |     144     |          67.8%         |\n",
    "| Our study            |   HSC   |  ACT (SZ)       |     186     |          75.4%         |"
   ]
  },
  {
   "cell_type": "markdown",
   "id": "207a6f1f",
   "metadata": {},
   "source": [
    "# Load in cluster catalogs"
   ]
  },
  {
   "cell_type": "markdown",
   "id": "0661316f",
   "metadata": {},
   "source": [
    "## ACT catalog"
   ]
  },
  {
   "cell_type": "markdown",
   "id": "efb3c1e0",
   "metadata": {},
   "source": [
    "(Opening the catalog as a table; see: https://docs.astropy.org/en/stable/io/unified.html#fits)"
   ]
  },
  {
   "cell_type": "code",
   "execution_count": 3,
   "id": "cd8b4bc0",
   "metadata": {},
   "outputs": [
    {
     "name": "stdout",
     "output_type": "stream",
     "text": [
      "There are 4195 ACT clusters.\n"
     ]
    }
   ],
   "source": [
    "ACT_cat = Table.read('DR5_cluster-catalog_v1.1.fits', hdu = 1)\n",
    "\n",
    "column = np.asarray(ACT_cat['decDeg'])\n",
    "print(f'There are {len(column)} ACT clusters.')"
   ]
  },
  {
   "cell_type": "markdown",
   "id": "ea6bd0fc",
   "metadata": {},
   "source": [
    "## HSC catalog\n",
    "Each row has 6 values: RA (degrees), Dec (degrees), z_cl, N_mem, logMs, and z_bcg; in that order. z_bcg = -1.0 indicates that the cluster has no identified BCG.\n",
    "\n",
    "HSC_cat omits the last column of the data file, which lists the ID of a cluster."
   ]
  },
  {
   "cell_type": "code",
   "execution_count": 4,
   "id": "ce847339",
   "metadata": {
    "code_folding": []
   },
   "outputs": [
    {
     "name": "stdout",
     "output_type": "stream",
     "text": [
      "There are 5860 HSC clusters.\n"
     ]
    }
   ],
   "source": [
    "## filter out low-richness clusters\n",
    "use_starmask = True\n",
    "use_richness_cut = True\n",
    "\n",
    "if use_starmask:\n",
    "    HSC_cat_orig = np.loadtxt('camira_s19a_wide_sm_v1.txt', usecols=(0,1,2,3,4,5)) \n",
    "    HSC_cat_IDs_orig = np.loadtxt('camira_s19a_wide_sm_v1.txt', dtype='str', usecols=(6)) \n",
    "else:\n",
    "    HSC_cat_orig = np.loadtxt('camira_s19a_wide_v1.txt', usecols=(0,1,2,3,4,5)) \n",
    "    HSC_cat_IDs_orig = np.loadtxt('camira_s19a_wide_v1.txt', dtype='str', usecols=(6)) \n",
    "\n",
    "if use_richness_cut:\n",
    "    good_richness = HSC_cat_orig[:,3] > 15\n",
    "    HSC_cat = HSC_cat_orig[good_richness]\n",
    "    HSC_cat_IDs = HSC_cat_IDs_orig[good_richness]\n",
    "else:\n",
    "    HSC_cat = HSC_cat_orig\n",
    "    HSC_cat_IDs = HSC_cat_IDs_orig\n",
    "\n",
    "print(f'There are {HSC_cat.shape[0]} HSC clusters.')"
   ]
  },
  {
   "cell_type": "markdown",
   "id": "6d8720ac",
   "metadata": {},
   "source": [
    "## Create SkyCoords"
   ]
  },
  {
   "cell_type": "code",
   "execution_count": 5,
   "id": "2ab647b3",
   "metadata": {
    "code_folding": []
   },
   "outputs": [],
   "source": [
    "## SkyCoord objects for ACT and HSC\n",
    "ACT_coords = SkyCoord(ra=ACT_cat['RADeg'] * u.degree, \n",
    "                      dec=ACT_cat['decDeg'] * u.degree, \n",
    "                      frame='icrs')\n",
    "HSC_coords = SkyCoord(ra=HSC_cat[:,0] * u.degree, \n",
    "                      dec=HSC_cat[:,1] * u.degree, \n",
    "                      frame='icrs')\n",
    "\n",
    "# convert coords to (-pi, pi) radians\n",
    "act_ra = ACT_coords.ra.wrap_at(180 * u.deg).radian\n",
    "act_dec = ACT_coords.dec.radian\n",
    "hsc_ra = HSC_coords.ra.wrap_at(180 * u.deg).radian\n",
    "hsc_dec = HSC_coords.dec.radian"
   ]
  },
  {
   "cell_type": "markdown",
   "id": "6ed7e024",
   "metadata": {},
   "source": [
    "## Define some boolean masks and print catalog counts"
   ]
  },
  {
   "cell_type": "code",
   "execution_count": 6,
   "id": "77eaeff5",
   "metadata": {
    "code_folding": [
     0
    ],
    "jupyter": {
     "outputs_hidden": true,
     "source_hidden": true
    },
    "scrolled": true,
    "tags": []
   },
   "outputs": [
    {
     "name": "stdout",
     "output_type": "stream",
     "text": [
      "Number of ACT clusters in HSC footprint: 185\n",
      "Number of ACT clusters cross-matched with CAMIRA: 212\n",
      "Number of ACT clusters in HSC footprint (but not flagged as having an HSC counterpart): 17\n",
      "Number of ACT clusters with positions from CAMIRA: 61\n",
      "\n",
      "Number of ACT clusters in SDSS footprint: N/A\n",
      "Number of ACT clusters cross-matched with RM (SDSS): 992\n",
      "Number of ACT clusters with positions from RM (SDSS): 482\n",
      "\n",
      "Number of ACT clusters in DES footprint: 1845\n",
      "Number of ACT clusters cross-matched with RM (DES): 1689\n",
      "Number of ACT clusters with positions from RM (DES): 1206\n"
     ]
    }
   ],
   "source": [
    "## Some ACT catalog counts\n",
    "\n",
    "in_hsc_footprint = ACT_cat['footprint_HSCs19a']\n",
    "print('Number of ACT clusters in HSC footprint: ' + \n",
    "      str(np.sum(in_hsc_footprint)))\n",
    "\n",
    "has_hsc_counterpart = ACT_cat['CAMIRA']\n",
    "print('Number of ACT clusters cross-matched with CAMIRA: ' + \n",
    "      str(np.sum(has_hsc_counterpart)))\n",
    "\n",
    "print('Number of ACT clusters in HSC footprint (but not flagged as having an HSC counterpart): ' + \n",
    "      str(np.sum(in_hsc_footprint & ~has_hsc_counterpart)))\n",
    "\n",
    "position_from_cam = (ACT_cat['opt_positionSource'] == 'CAMIRA')\n",
    "print('Number of ACT clusters with positions from CAMIRA: ' + \n",
    "      str(np.sum(position_from_cam)))\n",
    "\n",
    "print()\n",
    "\n",
    "print('Number of ACT clusters in SDSS footprint: ' + \n",
    "      'N/A')\n",
    "\n",
    "has_sdss_counterpart = ACT_cat['RM'] \n",
    "print('Number of ACT clusters cross-matched with RM (SDSS): ' + \n",
    "      str(np.sum(has_sdss_counterpart)))\n",
    "\n",
    "position_from_sdss = (ACT_cat['opt_positionSource'] == 'RM')\n",
    "print('Number of ACT clusters with positions from RM (SDSS): ' + \n",
    "      str(np.sum(position_from_sdss)))\n",
    "\n",
    "print() \n",
    "\n",
    "in_des_footprint = ACT_cat['footprint_DESY3']\n",
    "print('Number of ACT clusters in DES footprint: ' + \n",
    "      str(np.sum(in_des_footprint)))\n",
    "\n",
    "has_des_counterpart = ACT_cat['RMDESY3']\n",
    "print('Number of ACT clusters cross-matched with RM (DES): ' + \n",
    "      str(np.sum(has_des_counterpart)))\n",
    "\n",
    "position_from_des = (ACT_cat['opt_positionSource'] == 'RMDESY3') | \\\n",
    "                    (ACT_cat['opt_positionSource'] == 'RMDESY3ACT')\n",
    "print('Number of ACT clusters with positions from RM (DES): ' + \n",
    "      str(np.sum(position_from_des)))"
   ]
  },
  {
   "cell_type": "markdown",
   "id": "a137009d",
   "metadata": {},
   "source": [
    "# Centering offsets (ACT-HSC)"
   ]
  },
  {
   "cell_type": "markdown",
   "id": "93b44e49-7c75-4e72-9296-3130e2ba3455",
   "metadata": {},
   "source": [
    "Below, `get_physical_sep` calculates the physical separation between two objects at the same redshift."
   ]
  },
  {
   "cell_type": "code",
   "execution_count": 7,
   "id": "1bbb64f1",
   "metadata": {
    "code_folding": [
     0
    ],
    "jupyter": {
     "source_hidden": true
    },
    "tags": []
   },
   "outputs": [],
   "source": [
    "def get_physical_sep(cosmo, theta, z):\n",
    "    '''\n",
    "    \n",
    "    For two objects at the same redshift, calculate their physical separation \n",
    "    R as R = theta * d_A, where theta is angular separation (in radians) and \n",
    "    d_A is angular distance.\n",
    "    \n",
    "    ARGUMENTS\n",
    "    ----------\n",
    "    cosmo: model for cosmology; e.g. astropy.cosmology.LambdaCDM(...)\n",
    "    theta: angular separation; should be a Quantity \n",
    "    z: redshift\n",
    "    \n",
    "    '''\n",
    "    \n",
    "    theta = theta.to(u.rad) / u.rad\n",
    "    return theta * cosmo.angular_diameter_distance(z)"
   ]
  },
  {
   "cell_type": "markdown",
   "id": "0e10faec",
   "metadata": {},
   "source": [
    "Note: Let $d_p$ be proper distance. Since $d_p \\propto c/H_0$, $d_p$ as a function of $h$ (using $h \\equiv \\frac{H_0}{100 \\text{ km/s/Mpc}}$) is $d_p(h) = h^{-1} d_p(h=1)$."
   ]
  },
  {
   "cell_type": "code",
   "execution_count": 38,
   "id": "6d7316b6",
   "metadata": {
    "code_folding": [
     19
    ],
    "jupyter": {
     "source_hidden": true
    },
    "tags": []
   },
   "outputs": [
    {
     "name": "stdout",
     "output_type": "stream",
     "text": [
      "1.0028237229131338 Mpc\n"
     ]
    }
   ],
   "source": [
    "## Testing get_physical_sep + cosmo.comoving_distance\n",
    "\n",
    "h = 0.7\n",
    "temp_cosmo = LambdaCDM(H0=100*h, Om0=0.3, Ode0=0.7)\n",
    "temp_angle = 2.5 * u.arcmin\n",
    "temp_z = 0.6\n",
    "print(get_physical_sep(temp_cosmo, temp_angle, temp_z))\n",
    "\n",
    "# theta_grid = np.linspace(0, 6, 50) * u.arcmin\n",
    "# temp_offsets = get_physical_sep(temp_cosmo, theta_grid, z=0.3)\n",
    "\n",
    "# fig = plt.figure(figsize=(10,7))\n",
    "# plt.plot(theta_grid, temp_offsets, label='fixed z')\n",
    "# plt.plot(theta_grid, np.ones(50) / h, label='offset=1 Mpc/h')\n",
    "# plt.xlabel('Angle (arcminutes)')\n",
    "\n",
    "# plt.legend()\n",
    "# plt.show()\n",
    "\n",
    "def LOS_distance_diff(cosmo, z1, z2):\n",
    "    '''\n",
    "\n",
    "    Returns the difference in line-of-sight distance between redshifts\n",
    "    z1 and z2. Assumes z2 > z1.\n",
    "    \n",
    "    '''\n",
    "    \n",
    "    return np.round(cosmo.comoving_distance(z2) - cosmo.comoving_distance(z1), 1)\n",
    "\n",
    "#LOS_distance_diff(temp_cosmo, .30, .32)"
   ]
  },
  {
   "cell_type": "code",
   "execution_count": 8,
   "id": "b3c024cf",
   "metadata": {
    "code_folding": [
     0
    ],
    "jupyter": {
     "source_hidden": true
    },
    "tags": []
   },
   "outputs": [],
   "source": [
    "## Plot physical offset as a function of (theta, z)\n",
    "\n",
    "# theta_grid = np.linspace(0., 5, 50)\n",
    "# z_grid = np.linspace(0, 1.4, 50)\n",
    "# theta_grid,z_grid = np.meshgrid(theta_grid, z_grid)\n",
    "# theta_grid *= u.arcmin\n",
    "\n",
    "# temp_offsets = get_physical_sep(temp_cosmo, theta_grid.ravel(), z_grid.ravel())\n",
    "# temp_offsets = temp_offsets.reshape(theta_grid.shape)\n",
    "\n",
    "# from mpl_toolkits.mplot3d import Axes3D\n",
    "\n",
    "# fig = plt.figure(figsize=(10,10))\n",
    "# ax = fig.add_subplot(111, projection='3d')\n",
    "\n",
    "# ax.plot_surface(X=theta_grid, Y=z_grid, Z=temp_offsets, label=\"Offsets\")\n",
    "# ax.plot_surface(X=theta_grid, Y=z_grid, Z=np.ones(temp_offsets.shape) / h, \\\n",
    "#                 label=\"Offset = 1 Mpc / h\")\n",
    "# ax.set_xlabel('theta (arcmin)')\n",
    "# ax.set_ylabel('redshift')\n",
    "# ax.set_zlabel('physical offset (Mpc)')\n",
    "\n",
    "# plt.show()"
   ]
  },
  {
   "cell_type": "markdown",
   "id": "a96655ca",
   "metadata": {},
   "source": [
    "# Modeling the offset distribution"
   ]
  },
  {
   "cell_type": "markdown",
   "id": "53bfa35a",
   "metadata": {},
   "source": [
    "See Oguri et al (2018), equation 9. Below, `offset_model` models the probability distribution of offsets, and `objective_fn` is the likelihood function."
   ]
  },
  {
   "cell_type": "code",
   "execution_count": 32,
   "id": "cb11e50f",
   "metadata": {
    "code_folding": [
     2,
     17,
     31,
     55,
     77,
     96
    ],
    "tags": []
   },
   "outputs": [],
   "source": [
    "def prob_dens_well_centered(x, sigma1):\n",
    "    '''\n",
    "    A model for the offset distribution for well-centered clusters. See\n",
    "    the documentation for offset_model for a description.\n",
    "    \n",
    "    \n",
    "    ARGUMENTS\n",
    "    ---------\n",
    "    x: physical offset\n",
    "    sigma1: characteristic offset for well-centered clusters\n",
    "    \n",
    "    '''\n",
    "    \n",
    "    return (x / sigma1**2) * np.exp(-x**2 / (2*sigma1**2))\n",
    "\n",
    "def prob_dens_mis_centered(x, sigma2):\n",
    "    '''\n",
    "    A model for the offset distribution for miscentered clusters. See\n",
    "    the documentation for offset_model for a description.\n",
    "    \n",
    "    ARGUMENTS\n",
    "    ---------\n",
    "    x: physical offset\n",
    "    sigma2: characteristic offset for miscentered clusters\n",
    "    \n",
    "    '''\n",
    "    \n",
    "    return (x / sigma2**2) * np.exp(-x**2 / (2*sigma2**2))\n",
    "\n",
    "def offset_model(x, f_cen, sigma1, sigma2):\n",
    "    '''\n",
    "    \n",
    "    A two-component model for the centering offset distribution. Returns \n",
    "    the probability density at a given offset. All arguments are in Mpc.\n",
    "    \n",
    "    This is equation 9 in the CAMIRA catalog paper (Oguri et al. 2018).\n",
    "    Both the well-centered population and the miscentered population are\n",
    "    modeled with a Rayleigh distribution.\n",
    "\n",
    "    ARGUMENTS\n",
    "    ---------\n",
    "    x: physical offset\n",
    "    f_cen: fraction of well-centered clusters\n",
    "    sigma1: characteristic offset for well-centered clusters\n",
    "    sigma2: characteristic offset for miscentered clusters\n",
    "    \n",
    "    '''\n",
    "    \n",
    "    prob_dens_well = prob_dens_well_centered(x, sigma1)\n",
    "    prob_dens_mis = prob_dens_mis_centered(x, sigma2)\n",
    "    \n",
    "    return f_cen * prob_dens_well + (1 - f_cen) * prob_dens_mis\n",
    "\n",
    "def offset_model_fixed_sig1(x, f_cen, sigma2, sigma1=0.1):\n",
    "    '''\n",
    "    \n",
    "    Same as offset_model, except sigma1 is a fixed value. \n",
    "    All arguments are in Mpc.\n",
    "    \n",
    "\n",
    "    ARGUMENTS\n",
    "    ---------\n",
    "    x: physical offset\n",
    "    f_cen: fraction of well-centered clusters\n",
    "    sigma2: characteristic offset for miscentered clusters\n",
    "    sigma1: characteristic offset for well-centered clusters; default\n",
    "    value is 0.1 Mpc\n",
    "    \n",
    "    '''\n",
    "    \n",
    "    prob_dens_well = prob_dens_well_centered(x, sigma1)\n",
    "    prob_dens_mis = prob_dens_mis_centered(x, sigma2)\n",
    "    \n",
    "    return f_cen * prob_dens_well + (1 - f_cen) * prob_dens_mis\n",
    "\n",
    "def objective_fn(params, offsets):\n",
    "    '''\n",
    "    \n",
    "    Given the model parameters and the set of offsets, compute\n",
    "    the objective as a log likelihood.\n",
    "    \n",
    "    ARGUMENTS\n",
    "    ----------\n",
    "    params: tunable parameters in offset_model\n",
    "    offsets: set of physical offsets (Mpc; same as offset_model)\n",
    "    \n",
    "    '''\n",
    "    \n",
    "    f_cen, sig1, sig2 = params\n",
    "    probs = offset_model(offsets, f_cen, sig1, sig2)\n",
    "    \n",
    "    obj = -np.sum(np.log(probs)) # maximizes log likelihood\n",
    "    return obj\n",
    "\n",
    "def objective_fn_fixed_sig1(params, offsets, fixed_sig1):\n",
    "    '''\n",
    "    \n",
    "    Given the model parameters and the set of offsets, compute\n",
    "    the objective as a log likelihood.\n",
    "    \n",
    "    ARGUMENTS\n",
    "    ----------\n",
    "    params: tunable parameters in offset_model\n",
    "    offsets: set of physical offsets (Mpc; same as offset_model)\n",
    "    fixed_sig1: fixed value of sigma1\n",
    "    \n",
    "    '''\n",
    "    \n",
    "    f_cen, sig2 = params\n",
    "    probs = offset_model_fixed_sig1(offsets, f_cen, sig2, sigma1=fixed_sig1)\n",
    "    \n",
    "    obj = -np.sum(np.log(probs)) # maximizes log likelihood\n",
    "    return obj"
   ]
  },
  {
   "cell_type": "markdown",
   "id": "d60a7440",
   "metadata": {
    "tags": []
   },
   "source": [
    "# Cross-matching HSC and ACT clusters"
   ]
  },
  {
   "cell_type": "markdown",
   "id": "95125053",
   "metadata": {},
   "source": [
    "Below, we perform a cross-match between the two catalogs."
   ]
  },
  {
   "cell_type": "markdown",
   "id": "33934786",
   "metadata": {},
   "source": [
    "## Create the sample"
   ]
  },
  {
   "cell_type": "code",
   "execution_count": 10,
   "id": "4ee77631",
   "metadata": {
    "code_folding": [
     15
    ]
   },
   "outputs": [],
   "source": [
    "# idx (length=4195) indexes into HSC_coords\n",
    "idx, d2d, d3d = ACT_coords.match_to_catalog_sky(HSC_coords)\n",
    "\n",
    "## Calculate physical offsets\n",
    "h = 0.7\n",
    "cosmo = LambdaCDM(H0=100*h, Om0=0.3, Ode0=0.7)\n",
    "\n",
    "angular_sep = ACT_coords.separation(HSC_coords[idx])\n",
    "# ACT_redshifts = ACT_cat['redshift']\n",
    "HSC_redshifts = HSC_cat[:,2][idx]\n",
    "physical_sep = get_physical_sep(cosmo, angular_sep, HSC_redshifts)\n",
    "\n",
    "# impose upper limit on offsets\n",
    "limit = 1 * u.Mpc / h\n",
    "\n",
    "def remove_duplicates(idx, d2d, d3d):\n",
    "    '''\n",
    "    This function aims to remove duplicates from the results of an \n",
    "    asymmetric cross-match.\n",
    "    \n",
    "    Given idx, d2d, and d3d from astropy's match_to_catalog_sky function,\n",
    "    return the 'good' indices in idx as a boolean array. (Here, 'bad' means\n",
    "    that an index in idx is matched to an object that already has a better \n",
    "    match in idx.)\n",
    "    \n",
    "    For example: if idx = (8, 8, 8) and d2d = (0.1, 0.3, 0.04), then we \n",
    "    accept the third element in idx and reject the two others. This \n",
    "    function then returns (False, False, True). \n",
    "    \n",
    "    ARGUMENTS\n",
    "    ---------\n",
    "    idx, d2d, d3d: returns of astropy's match_to_catalog_sky function\n",
    "    \n",
    "    '''\n",
    "    \n",
    "    unique_idx, counts = np.unique(idx, return_counts=True)\n",
    "    repeated_idxs = unique_idx[np.where(counts > 1)] # idxs appearing in idx multiple times\n",
    "    not_duplicate = np.ones(idx.shape)\n",
    "        \n",
    "    for rep_idx in repeated_idxs:\n",
    "        locs = np.where(idx == rep_idx)[0] # rep_idx's locations in idx (n=4195)\n",
    "        locs = locs[physical_sep[locs] < limit] # remove matches whose offsets are too large\n",
    "        if len(locs) < 2: continue\n",
    "        best_loc = locs[0]\n",
    "        \n",
    "        for loc in locs:\n",
    "            if d2d[loc] < d2d[best_loc]: best_loc = loc\n",
    "        for loc in locs:        \n",
    "            if loc != best_loc: not_duplicate[loc] = 0\n",
    "            print(f'Cluster matched with HSC idx {rep_idx} (d2d = {np.round(d2d[loc],3)}):')\n",
    "            print(ACT_cat[loc]['name'])\n",
    "            print(f'ACT index (ie loc in idx): {loc}')\n",
    "\n",
    "        print()\n",
    "    \n",
    "    return not_duplicate == 1"
   ]
  },
  {
   "cell_type": "markdown",
   "id": "636e083b",
   "metadata": {},
   "source": [
    "## Cross match with independent method"
   ]
  },
  {
   "cell_type": "code",
   "execution_count": 11,
   "id": "ac858af3",
   "metadata": {
    "code_folding": [],
    "scrolled": true
   },
   "outputs": [
    {
     "name": "stdout",
     "output_type": "stream",
     "text": [
      "List of duplicates:\n",
      "Cluster matched with HSC idx 5728 (d2d = 0.036 deg):\n",
      "ACT-CL J2343.7+0016\n",
      "ACT index (ie loc in idx): 4098\n",
      "Cluster matched with HSC idx 5728 (d2d = 0.01 deg):\n",
      "ACT-CL J2343.7+0018\n",
      "ACT index (ie loc in idx): 4099\n",
      "\n",
      "Number of ACT clusters within the preliminary matching radius: 193\n",
      "Size of final sample: 186\n"
     ]
    }
   ],
   "source": [
    "print('List of duplicates:')\n",
    "not_duplicate = remove_duplicates(idx, d2d, d3d)\n",
    "has_warning = (ACT_cat['warnings'] != '')\n",
    "within_radius = (physical_sep < limit)\n",
    "in_crossmatch = not_duplicate & ~has_warning & within_radius\n",
    "offsets_Mpc = physical_sep[in_crossmatch] # takes subset of all 4195 offsets\n",
    "\n",
    "print(f'Number of ACT clusters within the preliminary matching radius: {np.sum(within_radius)}')\n",
    "print(f'Size of final sample: {np.sum(in_crossmatch)}')"
   ]
  },
  {
   "cell_type": "markdown",
   "id": "bb2c831c",
   "metadata": {},
   "source": [
    "## Plot duplicates"
   ]
  },
  {
   "cell_type": "code",
   "execution_count": 12,
   "id": "b79a5a22",
   "metadata": {
    "code_folding": [
     0
    ]
   },
   "outputs": [],
   "source": [
    "## Plot duplicates in the sample\n",
    "\n",
    "# fig = plt.figure(figsize=(10,6))\n",
    "# fig.patch.set_facecolor('white')\n",
    "\n",
    "# pair1_act_inds = [4098, 4099]\n",
    "# pair1_hsc_ind = 5728\n",
    "\n",
    "# plt.plot(act_ra[pair1_act_inds[0]], act_dec[pair1_act_inds[0]], \n",
    "#         marker='.', markersize=20, linestyle='None', \\\n",
    "#         label=ACT_cat[pair1_act_inds[0]]['name'] + ' (rejected)', c='r')\n",
    "# plt.plot(act_ra[pair1_act_inds[1]], act_dec[pair1_act_inds[1]], \n",
    "#         marker='.', markersize=20, linestyle='None', \\\n",
    "#         label=ACT_cat[pair1_act_inds[1]]['name'] + ' (accepted)', c='g')\n",
    "# plt.plot(hsc_ra[pair1_hsc_ind], hsc_dec[pair1_hsc_ind], marker='x', markersize=20, \\\n",
    "#         linestyle='None', label=\"Match in HSC (\" + HSC_cat_IDs_orig[pair1_hsc_ind] + \")\", c='b')\n",
    "\n",
    "# plt.xlabel('RA (rad)')\n",
    "# plt.gca().invert_xaxis()\n",
    "# plt.ylabel('Dec (rad)')\n",
    "# plt.title('A pair of ACT clusters matched to the same HSC cluster', pad=25)\n",
    "\n",
    "# plt.legend()\n",
    "# plt.show()"
   ]
  },
  {
   "cell_type": "markdown",
   "id": "f0489bae-4285-48ad-b589-c8e1656ed01b",
   "metadata": {},
   "source": [
    "## Compute offsets and model the distribution"
   ]
  },
  {
   "cell_type": "code",
   "execution_count": 34,
   "id": "d4d1a5af",
   "metadata": {
    "code_folding": [
     0,
     5,
     21
    ],
    "scrolled": true,
    "tags": []
   },
   "outputs": [
    {
     "name": "stdout",
     "output_type": "stream",
     "text": [
      "      fun: -80.65445451897705\n",
      " hess_inv: <3x3 LbfgsInvHessProduct with dtype=float64>\n",
      "      jac: array([ 0.00013074,  0.00033396, -0.0003979 ])\n",
      "  message: 'CONVERGENCE: REL_REDUCTION_OF_F_<=_FACTR*EPSMCH'\n",
      "     nfev: 48\n",
      "      nit: 9\n",
      "     njev: 12\n",
      "   status: 0\n",
      "  success: True\n",
      "        x: array([0.61572568, 0.11841274, 0.33587734])\n"
     ]
    }
   ],
   "source": [
    "## optimization + tests for injecting/removing offsets\n",
    "\n",
    "# (a test on how f_cen varies) \n",
    "# remove the x largest offsets\n",
    "remove_offsets = False\n",
    "if remove_offsets:\n",
    "    num_removed = 5\n",
    "    \n",
    "    old_offsets_Mpc = sorted(offsets_Mpc)\n",
    "    offsets_Mpc = old_offsets_Mpc[:-num_removed]\n",
    "\n",
    "    f_excluded = num_removed / len(old_offsets_Mpc)\n",
    "    print(f'Percent of offsets excluded: {np.round(f_excluded * 100, 2)}%')\n",
    "\n",
    "## Fit the model\n",
    "physical_offsets = offsets_Mpc.value # \"offsets\" is unitless\n",
    "sample_size = len(physical_offsets)\n",
    "\n",
    "# (a test on how f_cen varies) \n",
    "# inject large offsets into the distribution\n",
    "inject_offsets = False\n",
    "if inject_offsets:\n",
    "    num_injected = 20\n",
    "    fake_offsets = np.linspace(0.5, 1.2, num=num_injected)\n",
    "    physical_offsets = np.concatenate((physical_offsets, fake_offsets))\n",
    "    print(f'len(physical_offsets): {len(physical_offsets)}')\n",
    "\n",
    "use_fixed_sig1 = False\n",
    "if use_fixed_sig1:\n",
    "    fixed_sig1 = 0.15\n",
    "    sig1_best = fixed_sig1\n",
    "    \n",
    "    initial_guess = (0.75, 0.17)\n",
    "    best_guess = minimize(fun=objective_fn_fixed_sig1, x0=initial_guess, \\\n",
    "                    args=(physical_offsets, fixed_sig1), method='L-BFGS-B', \\\n",
    "                          bounds=((0., 1), (0.01, 1.)))\n",
    "    f_best, sig2_best = best_guess.x\n",
    "else:\n",
    "    initial_guess = (0.75, 0.15, 0.35)\n",
    "    best_guess = minimize(fun=objective_fn, x0=initial_guess, args=(physical_offsets), \\\n",
    "                         method='L-BFGS-B', bounds=((0., 1), (1e-4, 0.3), (0.1, 1.)))\n",
    "    f_best, sig1_best, sig2_best = best_guess.x\n",
    "\n",
    "print(best_guess)"
   ]
  },
  {
   "cell_type": "code",
   "execution_count": 36,
   "id": "fb40510f",
   "metadata": {
    "code_folding": [],
    "scrolled": false
   },
   "outputs": [
    {
     "data": {
      "image/png": "[encoded data removed]",
      "text/plain": [
       "<Figure size 1800x1008 with 1 Axes>"
      ]
     },
     "metadata": {},
     "output_type": "display_data"
    }
   ],
   "source": [
    "## set global font size\n",
    "plt.rcParams.update({'font.size':24})\n",
    "\n",
    "## Plot offset distribution (cross-match)\n",
    "fig = plt.figure(figsize=(25,14))\n",
    "fig.patch.set_facecolor('white')\n",
    "\n",
    "plot_title = f\"ACT-HSC offset distribution (cross-match; n = {sample_size}\"\n",
    "if remove_offsets:\n",
    "    plot_title += f\"; {np.round(f_excluded * 100,1)}% excluded\"\n",
    "if inject_offsets:    \n",
    "    plot_title += f\"; {num_injected} injected\"\n",
    "plt.title(plot_title + \")\", pad=20)\n",
    "\n",
    "## Data sample\n",
    "num_bins = 20\n",
    "max_offset = np.max(physical_offsets)\n",
    "bins = np.linspace(0, max_offset, num=num_bins)\n",
    "hist = plt.hist(physical_offsets, bins=bins, \\\n",
    "                label=f\"Data\", density=True)\n",
    "plt.xlabel(\"Physical offset (Mpc)\", labelpad=10)\n",
    "plt.ylabel(\"Normalized number of clusters\", labelpad=10)\n",
    "\n",
    "## Model\n",
    "x_axis = (hist[1][:-1] + hist[1][1:]) / 2 # midpoints of histogram bins\n",
    "# plot full model\n",
    "norm_factor_full = 1 / \\\n",
    "        integrate.quad(offset_model, 0, max_offset, args=(f_best, sig1_best, sig2_best))[0]\n",
    "\n",
    "# plot the full model\n",
    "plt.plot(x_axis, norm_factor_full*offset_model(x_axis, f_best, sig1_best, sig2_best), \\\n",
    "    label=f\"Full model (f_cen={np.round(f_best,3)})\", color='black', linewidth=5)\n",
    "\n",
    "# plot the model's two components separately\n",
    "if use_fixed_sig1:\n",
    "    plt.plot(x_axis, norm_factor_full*f_best*prob_dens_well_centered(x_axis, sig1_best),\n",
    "         label=f\"Well-centered component ($\\sigma_1$={np.round(sig1_best,3)}, fixed)\", \\\n",
    "         color='purple', linestyle='--', linewidth=4)\n",
    "else:\n",
    "    plt.plot(x_axis, norm_factor_full*f_best*prob_dens_well_centered(x_axis, sig1_best),\n",
    "         label=f\"Well-centered component ($\\sigma_1$={np.round(sig1_best,3)})\", \\\n",
    "         color='purple', linestyle='--', linewidth=4)\n",
    "plt.plot(x_axis, norm_factor_full*(1-f_best)*prob_dens_mis_centered(x_axis, sig2_best), \n",
    "         label=f\"Miscentered component ($\\sigma_2$={np.round(sig2_best,3)})\", \\\n",
    "         color='red', linestyle=':', linewidth=5)\n",
    "\n",
    "plt.legend()\n",
    "plt.savefig(\"Figures/Modeling_Offset_Distro/Rayleigh_model/HSC_crossmatch.png\", bbox_inches='tight')\n",
    "plt.show()"
   ]
  },
  {
   "cell_type": "markdown",
   "id": "5262a4a8",
   "metadata": {},
   "source": [
    "# Get IDs of clusters in crossmatch"
   ]
  },
  {
   "cell_type": "markdown",
   "id": "a8879994",
   "metadata": {},
   "source": [
    "From below: Offsets for clusters only in my cm:\n",
    "[0.64867942 1.0849587  0.65074321 1.10470057 0.88377362] Mpc"
   ]
  },
  {
   "cell_type": "markdown",
   "id": "92502f8b",
   "metadata": {},
   "source": [
    "Useful lists:\n",
    "- List of ACT clusters in the crossmatch (len=186): `ACT_cat['name'][in_crossmatch]`\n",
    "- List of HSC IDs in the crossmatch (len=186): `HSC_cat_IDs[idx[in_crossmatch]]`\n",
    "- List of offsets in the crossmatch (len=186): `offsets_Mpc`"
   ]
  },
  {
   "cell_type": "code",
   "execution_count": 15,
   "id": "20997429",
   "metadata": {
    "scrolled": true
   },
   "outputs": [],
   "source": [
    "index_in_cm = np.where(np.isclose(offsets_Mpc / u.Mpc, 0.8838, atol=1e-3))[0][0]"
   ]
  },
  {
   "cell_type": "code",
   "execution_count": 16,
   "id": "b54891f7",
   "metadata": {},
   "outputs": [
    {
     "name": "stdout",
     "output_type": "stream",
     "text": [
      "Index: 154\n",
      "Physical separation: 0.8838 Mpc\n",
      "\n",
      "HSC name:\n",
      "C19a1sW11629\n",
      "ra, dec\n",
      "222.480008, 0.843226\n",
      "\n",
      "ACT name:\n",
      "ACT-CL J1450.0+0049\n",
      "ra, dec\n",
      "222.52333676219158, 0.8249908026061182\n"
     ]
    }
   ],
   "source": [
    "print(f'Index: {index_in_cm}')\n",
    "print(f'Physical separation: {np.round(offsets_Mpc[index_in_cm],4)}\\n')\n",
    "\n",
    "print('HSC name:')\n",
    "print(HSC_cat_IDs[idx[in_crossmatch]][index_in_cm])\n",
    "print('ra, dec')\n",
    "print(f\"{HSC_cat[idx[in_crossmatch]][index_in_cm][0]}\" + ', ' + f\"{HSC_cat[idx[in_crossmatch]][index_in_cm][1]}\")\n",
    "\n",
    "print()\n",
    "\n",
    "print('ACT name:')\n",
    "print(ACT_cat['name'][in_crossmatch][index_in_cm])\n",
    "print('ra, dec')\n",
    "print(f\"{ACT_cat['RADeg'][in_crossmatch][index_in_cm]}\" + ', ' + f\"{ACT_cat['decDeg'][in_crossmatch][index_in_cm]}\")"
   ]
  },
  {
   "cell_type": "code",
   "execution_count": 17,
   "id": "84407b24",
   "metadata": {},
   "outputs": [
    {
     "data": {
      "text/plain": [
       "array([222.480008,   0.843226,   0.382   ,  28.364   ,  12.302   ,\n",
       "        -1.      ])"
      ]
     },
     "execution_count": 17,
     "metadata": {},
     "output_type": "execute_result"
    }
   ],
   "source": [
    "HSC_cat[idx[in_crossmatch]][index_in_cm]"
   ]
  },
  {
   "cell_type": "markdown",
   "id": "5fa7c689",
   "metadata": {},
   "source": [
    "# Match with merging population"
   ]
  },
  {
   "cell_type": "markdown",
   "id": "17a7f692",
   "metadata": {},
   "source": [
    "In general, are miscentered (i.e. large offset) clusters merging? \n",
    "\n",
    "First, we assign the labels of \"well-centered\" and \"miscentered\" to the cross-match clusters. For example, assume $f_{cen}=0.75$. If a cluster's centering offset is in the 75th percentile of all offsets in the sample, then it is miscentered; otherwise, it is well-centered."
   ]
  },
  {
   "cell_type": "code",
   "execution_count": 18,
   "id": "a6c2b81e",
   "metadata": {},
   "outputs": [
    {
     "name": "stdout",
     "output_type": "stream",
     "text": [
      "well_centered_cutoff: 0.331 Mpc\n"
     ]
    }
   ],
   "source": [
    "well_centered_cutoff = np.percentile(physical_offsets, 100*f_best)\n",
    "print(f'well_centered_cutoff: {np.round(well_centered_cutoff, 3)} Mpc')\n",
    "is_well_centered = [(offset < well_centered_cutoff) for offset in physical_offsets]\n",
    "is_well_centered = np.asarray(is_well_centered)"
   ]
  },
  {
   "cell_type": "markdown",
   "id": "92c0557e",
   "metadata": {},
   "source": [
    "Then, we flag the merging clusters in the cross-match. ('cm' is an abbreviation for cross-match.)"
   ]
  },
  {
   "cell_type": "code",
   "execution_count": 19,
   "id": "4fad7060",
   "metadata": {
    "scrolled": true
   },
   "outputs": [],
   "source": [
    "HSC_cat_IDs_cm = HSC_cat_IDs[idx[in_crossmatch]]\n",
    "\n",
    "HSC_merging_cat = ascii.read('S19A_mergers_S21Amethod/combined/mergingcluster.dat')\n",
    "merging_cluster_IDs = set(HSC_merging_cat['col1'])\n",
    "\n",
    "# flag merging clusters in crossmatch\n",
    "is_merging_cm = [(ID in merging_cluster_IDs) for ID in HSC_cat_IDs_cm]\n",
    "is_merging_cm = np.asarray(is_merging_cm)\n",
    "# flag merging clusters in full HSC catalog\n",
    "is_merging_full = [(ID in merging_cluster_IDs) for ID in HSC_cat_IDs] \n",
    "is_merging_full = np.asarray(is_merging_full)"
   ]
  },
  {
   "cell_type": "code",
   "execution_count": 20,
   "id": "930f6258",
   "metadata": {},
   "outputs": [
    {
     "name": "stdout",
     "output_type": "stream",
     "text": [
      "Fraction of well-centered clusters that are merging: 0.1\n",
      "Fraction of miscentered clusters that are merging: 0.22\n",
      "Fraction of clusters in cross-match that are merging: 0.13\n",
      "Fraction of clusters in HSC catalog that are merging: 0.16\n",
      "(Note: this HSC catalog has use_starmask=True and use_richness_cut=True.)\n"
     ]
    }
   ],
   "source": [
    "is_well_centered_merging = is_well_centered & is_merging_cm\n",
    "is_miscentered_merging = ~is_well_centered & is_merging_cm\n",
    "\n",
    "merging_frac_well = np.sum(is_well_centered_merging) / np.sum(is_well_centered)\n",
    "merging_frac_mis = np.sum(is_miscentered_merging) / np.sum(~is_well_centered)\n",
    "merging_frac_cm = np.sum(is_merging_cm) / sample_size\n",
    "merging_frac_full = np.sum(is_merging_full) / len(is_merging_full)\n",
    "\n",
    "print(f'Fraction of well-centered clusters that are merging: {np.round(merging_frac_well, 2)}') \n",
    "print(f'Fraction of miscentered clusters that are merging: {np.round(merging_frac_mis, 2)}') \n",
    "print(f'Fraction of clusters in cross-match that are merging: {np.round(merging_frac_cm, 2)}') \n",
    "print(f'Fraction of clusters in HSC catalog that are merging: {np.round(merging_frac_full, 2)}') \n",
    "print(f'(Note: this HSC catalog has use_starmask={use_starmask} and use_richness_cut={use_richness_cut}.)')"
   ]
  },
  {
   "cell_type": "code",
   "execution_count": 21,
   "id": "025a305b",
   "metadata": {},
   "outputs": [
    {
     "name": "stdout",
     "output_type": "stream",
     "text": [
      "Fraction of merging clusters (in the cross-match) that are miscentered: 0.42\n"
     ]
    }
   ],
   "source": [
    "mis_frac_of_merging = np.sum(is_miscentered_merging) / np.sum(is_merging_cm)\n",
    "\n",
    "print(f'Fraction of merging clusters (in the cross-match) that are miscentered: {np.round(mis_frac_of_merging, 2)}') "
   ]
  },
  {
   "cell_type": "code",
   "execution_count": 22,
   "id": "334cd016",
   "metadata": {},
   "outputs": [
    {
     "name": "stdout",
     "output_type": "stream",
     "text": [
      "Number of well-centered merging clusters: 14\n",
      "Number of well-centered clusters: 140\n",
      "Number of miscentered merging clusters: 10\n",
      "Number of miscentered clusters: 46\n"
     ]
    }
   ],
   "source": [
    "print(f'Number of well-centered merging clusters: {np.sum(is_well_centered & is_merging_cm)}')\n",
    "print(f'Number of well-centered clusters: {np.sum(is_well_centered)}')\n",
    "print(f'Number of miscentered merging clusters: {np.sum(~is_well_centered & is_merging_cm)}')\n",
    "print(f'Number of miscentered clusters: {np.sum(~is_well_centered)}')"
   ]
  },
  {
   "cell_type": "markdown",
   "id": "4463a72f",
   "metadata": {},
   "source": [
    "## Summary table"
   ]
  },
  {
   "cell_type": "markdown",
   "id": "f98f68d6",
   "metadata": {},
   "source": [
    "|               | Merging | Not merging | Total |\n",
    "|---------------|:-------:|:-----------:|:-----:|\n",
    "| Well-centered | 14      | 126         | 140   |\n",
    "| Miscentered   | 10      | 36          | 46    |\n",
    "| Total         | 24      | 162         | 186   |"
   ]
  },
  {
   "cell_type": "markdown",
   "id": "be5f7a87",
   "metadata": {},
   "source": [
    "# Tests on cross-match"
   ]
  },
  {
   "cell_type": "markdown",
   "id": "f5a6b199",
   "metadata": {},
   "source": [
    "### ACT completeness wrt HSC"
   ]
  },
  {
   "cell_type": "markdown",
   "id": "7fbcd661",
   "metadata": {},
   "source": [
    "We calculate the fraction of HSC clusters with ACT counterparts (as a function of HSC richness); in other words, we want to characterize how well ACT detects HSC clusters.\n",
    "\n",
    "Steps:\n",
    "- create new HSC cluster catalog that excludes clusters outside of ACT's footprint\n",
    "- flag which HSC clusters have ACT counterparts\n",
    "- preliminary plot: make 1D scatter-plot of HSC clusters (with richness on the y-axis); green=has match, red=none\n",
    "- more formal plot: create richness bins; within each bin, count the # of clusters with matches"
   ]
  },
  {
   "cell_type": "markdown",
   "id": "4fca5af1",
   "metadata": {},
   "source": [
    "We create `HSC_cat_more`, which adds two columns to `HSC_cat`: the 7th column indicates if the HSC cluster is in ACT's footprint (we do this imprecisely), and the 8th column indicates if the HSC cluster has a match in ACT."
   ]
  },
  {
   "cell_type": "code",
   "execution_count": 23,
   "id": "b1e79dba",
   "metadata": {},
   "outputs": [],
   "source": [
    "HSC_in_ACT_area = (HSC_cat[:,1] < 30)\n",
    "HSC_in_ACT_area = np.expand_dims(HSC_in_ACT_area, axis=1)\n",
    "HSC_has_match = [ind in set(idx[in_crossmatch]) for ind in list(range(len(HSC_cat)))]\n",
    "HSC_has_match = np.expand_dims(HSC_has_match, axis=1)\n",
    "                             \n",
    "HSC_cat_more = np.hstack((HSC_cat, HSC_in_ACT_area, HSC_has_match))"
   ]
  },
  {
   "cell_type": "code",
   "execution_count": 24,
   "id": "179b8160",
   "metadata": {
    "code_folding": [],
    "scrolled": true
   },
   "outputs": [
    {
     "data": {
      "image/png": "[encoded data removed]",
      "text/plain": [
       "<Figure size 1440x144 with 1 Axes>"
      ]
     },
     "metadata": {
      "needs_background": "light"
     },
     "output_type": "display_data"
    }
   ],
   "source": [
    "## Plot every HSC richness in the ACT footprint; green data points correspond to\n",
    "## clusters with an ACT match, red data points correspond to those without one.\n",
    "richnesses_in_area = HSC_cat_more[:,3][HSC_cat_more[:,6] == 1]\n",
    "richnesses_in_area_and_match = HSC_cat_more[:,3]\\\n",
    "        [(HSC_cat_more[:,7] == 1) & (HSC_cat_more[:,6] == 1)]\n",
    "\n",
    "in_area_and_match = HSC_cat_more[:,7][HSC_cat_more[:,6] == 1]\n",
    "\n",
    "fig = plt.figure(figsize=(20,2))\n",
    "plt.scatter(richnesses_in_area, np.zeros_like(richnesses_in_area), s=4, alpha=0.7, \\\n",
    "            c=in_area_and_match, cmap='RdYlGn')\n",
    "plt.xlabel('HSC richness', size=15)\n",
    "plt.show()"
   ]
  },
  {
   "cell_type": "code",
   "execution_count": 25,
   "id": "f911d149",
   "metadata": {
    "code_folding": [
     0
    ]
   },
   "outputs": [],
   "source": [
    "## Plot histograms of 1. all richnesses in the ACT area and 2. richnesses of cross-match clusters in the area\n",
    "\n",
    "# fig = plt.figure(figsize=(10,6))\n",
    "\n",
    "# bins = plt.hist(richnesses_in_area, label='# of HSC clusters (ACT footprint only)')\n",
    "# plt.hist(richnesses_in_area_and_match, bins = bins[1], label='# of HSC clusters (in footprint + has match)')\n",
    "# plt.xlabel('HSC richness')\n",
    "# plt.ylabel('# of clusters')\n",
    "# plt.yscale('log')\n",
    "\n",
    "# plt.legend()\n",
    "# plt.show()"
   ]
  },
  {
   "cell_type": "code",
   "execution_count": 26,
   "id": "c8b33538",
   "metadata": {
    "code_folding": [
     0
    ]
   },
   "outputs": [],
   "source": [
    "def get_completeness(min_lambda, max_lambda):\n",
    "    '''\n",
    "    Given the set of HSC clusters in the ACT footprint that have richness \n",
    "    in the range [min_lambda, max_lambda], return the fraction of them that \n",
    "    has a match in the ACT catalog. (This is an estimate of ACT's completeness \n",
    "    for certain richnesses.)\n",
    "    \n",
    "    PARAMETERS\n",
    "    ----------\n",
    "    min_lambda: minimum bound on HSC richness\n",
    "    max_lambda: maximum bound on HSC richness\n",
    "    \n",
    "    '''\n",
    "    \n",
    "    in_richness_range = (HSC_cat_more[:, 3] >= min_lambda) & \\\n",
    "        (HSC_cat_more[:, 3] <= max_lambda) & (HSC_cat_more[:, 6] == True)\n",
    "    \n",
    "    has_match = (HSC_cat_more[:, 7] == True) & in_richness_range\n",
    "    \n",
    "    if np.sum(in_richness_range) > 0:\n",
    "        return np.sum(has_match) / np.sum(in_richness_range)\n",
    "    else:\n",
    "        print(f\"Warning: There aren't any HSC clusters in the richness range ({min_lambda}, {max_lambda}).\")\n",
    "        print(\"Returning 0.\")\n",
    "        return 0"
   ]
  },
  {
   "cell_type": "code",
   "execution_count": 31,
   "id": "d139ae91",
   "metadata": {},
   "outputs": [
    {
     "name": "stdout",
     "output_type": "stream",
     "text": [
      "Listing completeness fractions for given richness ranges:\n",
      "(15, 25): 0.0062\n",
      "(25, 35): 0.0625\n",
      "(35, 45): 0.1667\n",
      "(45, 55): 0.3205\n",
      "(55, 65): 0.4839\n",
      "(65, 75): 0.6471\n",
      "(75, 85): 0.7778\n",
      "(85, 95): 0.6667\n",
      "(95, 105): 1.0\n",
      "(105, 115): 1.0\n",
      "(115, 125): 1.0\n"
     ]
    },
    {
     "data": {
      "image/png": "[encoded data removed]",
      "text/plain": [
       "<Figure size 720x432 with 1 Axes>"
      ]
     },
     "metadata": {
      "needs_background": "light"
     },
     "output_type": "display_data"
    }
   ],
   "source": [
    "plt.figure(figsize=(10,6))\n",
    "\n",
    "# x_locs = []\n",
    "# fracs = []\n",
    "step = 10\n",
    "\n",
    "print('Listing completeness fractions for given richness ranges:')\n",
    "for min_lambda in range(15, 125, step):\n",
    "    frac = get_completeness(min_lambda, min_lambda+step)\n",
    "    print(f'({min_lambda}, {min_lambda+step}): {np.round(frac,4)}')\n",
    "    \n",
    "    plt.bar(min_lambda + step/2, frac, color='blue', width=4)\n",
    "#     x_locs.append(min_lambda + step/2)\n",
    "#     fracs.append(frac)\n",
    "    \n",
    "#plt.hist(fracs, bins=range(15, 125, step))\n",
    "\n",
    "plt.rcParams.update({'font.size':14})\n",
    "\n",
    "\n",
    "plt.xlabel('HSC Richness ($\\lambda$)')    \n",
    "plt.ylabel('Fraction')\n",
    "plt.title('Fraction of HSC Clusters with ACT Counterparts (Bin Size = 10)')\n",
    "plt.show()"
   ]
  },
  {
   "cell_type": "markdown",
   "id": "b1dfe672",
   "metadata": {},
   "source": [
    "### Test ACT's cross-matching (nemo)"
   ]
  },
  {
   "cell_type": "code",
   "execution_count": 30,
   "id": "2de24e30",
   "metadata": {
    "code_folding": [
     0,
     9
    ]
   },
   "outputs": [],
   "source": [
    "def _posRecFitFunc(snr, snrFold, pedestal, norm):\n",
    "    \"\"\"Fitting function used for position recovery offset (') in terms of fixed_SNR - see\n",
    "    positionRecovery/positionRecoveryTestDriver.py.\n",
    "    \n",
    "    NOTE: Don't use this directly - call checkCrossMatch instead.\n",
    "    \n",
    "    \"\"\"\n",
    "    return norm*np.exp(-snr/snrFold)+pedestal\n",
    "    \n",
    "def checkCrossMatch(distArcmin, fixedSNR, z = None, addRMpc = 0.5, fitSNRFold = 1.164, fitPedestal = 0.685,\n",
    "                    fitNorm = 38.097):\n",
    "    \"\"\"Checks the cross match offset between a cluster detection and an external catalog using a model derived\n",
    "    from source injection sims (see :func:`nemo.maps.positionRecoveryAnalysis`). The position recovery test\n",
    "    itself only accounts for the effect of noise fluctuations in the maps on the recovered SZ cluster\n",
    "    positions.\n",
    "    \n",
    "    Args:\n",
    "        distArcmin (:obj:`bool`): Distance of the potential cross match from the ACT position in arcmin.\n",
    "        fixed_SNR (:obj:`float`): Signal-to-noise at reference filter scale (fixed_SNR) in ACT catalog.\n",
    "        z (:obj:`float`, optional): If given, addRMpc will be converted to arcmin at this redshift, and then added\n",
    "            in quadrature to the cross matching radius from the position recovery model.\n",
    "        addRMpc (:obj:`float`, optional): Accounts for additional positional uncertainty (probably unknown) \n",
    "            in the external cross match catalog. This will be added in quadrature.\n",
    "        fitSNRFold (:obj:`float`, optional): Model fit parameter - e-folding \n",
    "            (see :func:`nemo.maps.positionRecoveryAnalysis`).\n",
    "        fitPedestal (:obj:`float`, optional): Model fit parameter - pedestal level\n",
    "            (see :func:`nemo.maps.positionRecoveryAnalysis`).\n",
    "        fitNorm (:obj:`float`, optional): Model fit parameter - normalization\n",
    "            (see :func:`nemo.maps.positionRecoveryAnalysis`).\n",
    "    \n",
    "    Returns:\n",
    "        True if distArcmin < model offset (+ optional addRMpc in arcmin at z), False if not.\n",
    "    Note:\n",
    "        The default values for the fit parameters are from a run on the f090, f150 ACT DR5 co-added maps\n",
    "        (as used in the `ACT DR5 cluster catalog paper <https://ui.adsabs.harvard.edu/abs/2020arXiv200911043H/abstract>`_),\n",
    "        and describe a function that recovers 99.7% of the inserted model clusters in \n",
    "        source injection simulations.\n",
    "        \n",
    "    \"\"\"\n",
    "    \n",
    "    maxRadiusArcmin=_posRecFitFunc(fixedSNR, fitSNRFold, fitPedestal, fitNorm)\n",
    "    addArcmin=0.0\n",
    "    if z is not None and z > 0:\n",
    "        cosmo = LambdaCDM(H0=70, Om0=0.3, Ode0=0.7)\n",
    "        d_A = cosmo.angular_diameter_distance(z).value # angular distance in Mpc\n",
    "        addArcmin=np.degrees(addRMpc/d_A)*60.0\n",
    "    maxRadiusArcmin=np.sqrt(maxRadiusArcmin**2 + addArcmin**2)\n",
    "    if distArcmin < maxRadiusArcmin:\n",
    "        return True\n",
    "    else:\n",
    "        return False"
   ]
  },
  {
   "cell_type": "code",
   "execution_count": 52,
   "id": "dd2f2320",
   "metadata": {},
   "outputs": [],
   "source": [
    "in_nemo_crossmatch_hsc = np.empty_like(in_crossmatch)\n",
    "in_nemo_crossmatch_act = np.empty_like(in_crossmatch)"
   ]
  },
  {
   "cell_type": "code",
   "execution_count": 83,
   "id": "22570e47",
   "metadata": {
    "code_folding": [],
    "scrolled": false
   },
   "outputs": [
    {
     "name": "stdout",
     "output_type": "stream",
     "text": [
      "Redshift used: ACT\n",
      "Size of (prelim) sample after nemo's cross-matching: 185\n",
      "Size of (final) sample after duplicate and warning cuts: 181\n"
     ]
    }
   ],
   "source": [
    "## Perform cross-match with nemo (ie ACT's method)\n",
    "\n",
    "ACT_cat_size = len(ACT_cat['fixed_SNR'])\n",
    "crossMatchMask = np.empty([ACT_cat_size])\n",
    "if type(d2d) == angles.Angle:\n",
    "    print('Converting offsets to dimensionless values.')\n",
    "    d2d = d2d.to(u.arcmin).value\n",
    "\n",
    "    \n",
    "dd = 0\n",
    "redshift_used = 'ACT'\n",
    "print('Redshift used: ' + redshift_used)\n",
    "in_nemo_crossmatch = np.empty_like(in_crossmatch)\n",
    "\n",
    "for i in range(ACT_cat_size):\n",
    "    if redshift_used == 'ACT':\n",
    "        in_nemo_crossmatch[i] = checkCrossMatch(d2d[i], ACT_cat['fixed_SNR'][i], \\\n",
    "                                        z=ACT_cat['redshift'][i])\n",
    "    elif redshift_used == 'HSC':\n",
    "        in_nemo_crossmatch[i] = checkCrossMatch(d2d[i], ACT_cat['fixed_SNR'][i], \\\n",
    "                                        z=HSC_cat[:,2][idx][i])\n",
    "    else:\n",
    "        raise ValueError('Invalid value for redshift_used')\n",
    "        \n",
    "print(f\"Size of (prelim) sample after nemo's cross-matching: {np.sum(in_nemo_crossmatch)}\")\n",
    "\n",
    "in_nemo_cm_prelim = in_nemo_crossmatch\n",
    "in_nemo_crossmatch = in_nemo_cm_prelim & not_duplicate & ~has_warning\n",
    "\n",
    "if redshift_used == 'ACT':\n",
    "    in_nemo_crossmatch_act = in_nemo_crossmatch\n",
    "elif redshift_used == 'HSC':\n",
    "    in_nemo_crossmatch_hsc = in_nemo_crossmatch\n",
    "    \n",
    "offsets_Mpc = physical_sep[in_nemo_crossmatch] \n",
    "print(f\"Size of (final) sample after duplicate and warning cuts: {len(offsets_Mpc)}\")"
   ]
  },
  {
   "cell_type": "code",
   "execution_count": 95,
   "id": "36d3d039",
   "metadata": {},
   "outputs": [
    {
     "name": "stdout",
     "output_type": "stream",
     "text": [
      "HSC and ACT redshifts yield same cm: True\n",
      "Number of ACT clusters only in my cm: 5\n",
      "Number of ACT clusters only in nemo's cm: 0\n",
      "Offsets for clusters only in my cm:\n",
      "[0.64867942 1.0849587  0.65074321 1.10470057 0.88377362] Mpc\n"
     ]
    }
   ],
   "source": [
    "## whether we use HSC or ACT redshifts, nemo yields the same crossmatch\n",
    "print('HSC and ACT redshifts yield same cm: ' + \\\n",
    "      str((in_nemo_crossmatch_act == in_nemo_crossmatch_hsc).all()))\n",
    "\n",
    "## compare nemo's cross-match with mine\n",
    "only_in_one_cm = in_crossmatch ^ in_nemo_crossmatch\n",
    "print(\"Number of ACT clusters only in my cm: \" + \\\n",
    "      str(np.sum(only_in_one_cm & in_crossmatch)))\n",
    "print(\"Number of ACT clusters only in nemo's cm: \" + \\\n",
    "      str(np.sum(only_in_one_cm & in_nemo_crossmatch)))\n",
    "\n",
    "my_offsets_copy = physical_sep[in_crossmatch]\n",
    "print(\"Offsets for clusters only in my cm:\")\n",
    "print(physical_sep[np.where(only_in_one_cm)])"
   ]
  },
  {
   "cell_type": "code",
   "execution_count": 102,
   "id": "cfb8589a",
   "metadata": {},
   "outputs": [
    {
     "name": "stdout",
     "output_type": "stream",
     "text": [
      "11 largest offsets in my cross-match:\n",
      "[0.64867942 0.65074321 0.65482031 0.6802847  0.71557545 0.72107255\n",
      " 0.88377362 0.9361401  1.02423542 1.0849587  1.10470057] Mpc\n"
     ]
    }
   ],
   "source": [
    "my_offsets_copy.sort()\n",
    "print('11 largest offsets in my cross-match:')\n",
    "print(my_offsets_copy[-11:])"
   ]
  },
  {
   "cell_type": "code",
   "execution_count": 109,
   "id": "d5e2e2eb",
   "metadata": {},
   "outputs": [
    {
     "data": {
      "text/plain": [
       "array([142.592902,   2.306781,   0.5318  ,  75.698   ,  12.744   ,\n",
       "        -1.      ])"
      ]
     },
     "execution_count": 109,
     "metadata": {},
     "output_type": "execute_result"
    }
   ],
   "source": [
    "# do the scanning mode clusters have the same optical centers between HSC and ACT?\n",
    "np.where(ACT_cat[within_radius]['warnings'] != '')\n",
    "HSC_cat[idx[within_radius][80]]"
   ]
  },
  {
   "cell_type": "markdown",
   "id": "8c5bbb80",
   "metadata": {},
   "source": [
    "## Samples of ACT clusters with CAMIRA, SDSS, or DES positions"
   ]
  },
  {
   "cell_type": "markdown",
   "id": "c8232fef",
   "metadata": {
    "tags": []
   },
   "source": [
    "**Note about `optSource == 'CAMIRA'` sample:** There are 61 ACT clusters that are flagged as having their optical position coming from CAMIRA, and 56 of them have valid optical positions in the catalog. (The other 5 were probably added after using CAMIRA in scanning mode; i.e. they weren't originally in the catalog, but were added based on ACT information.)\n",
    "\n",
    "**Note about `optSource == 'DES'` sample:** 4/1064 of the clusters have a position, but no richness. If a richness-dependent offset model is being used, these clusters are omitted. "
   ]
  },
  {
   "cell_type": "code",
   "execution_count": null,
   "id": "11efb5f5",
   "metadata": {},
   "outputs": [],
   "source": [
    "optSource = 'CAMIRA'"
   ]
  },
  {
   "cell_type": "code",
   "execution_count": null,
   "id": "1e2112be",
   "metadata": {
    "code_folding": [
     0
    ],
    "jupyter": {
     "source_hidden": true
    },
    "tags": []
   },
   "outputs": [],
   "source": [
    "## Create optical and SZ position catalogs\n",
    "\n",
    "# get indices of the clusters with optical coordinates\n",
    "if optSource == 'CAMIRA':\n",
    "    opt_coord_locs = position_from_cam & (ACT_cat['opt_RADeg'] != -99)\n",
    "elif optSource == 'SDSS':\n",
    "    opt_coord_locs = position_from_sdss & (ACT_cat['opt_RADeg'] != -99)\n",
    "elif optSource == 'DES':\n",
    "    opt_coord_locs = position_from_des & (ACT_cat['opt_RADeg'] != -99) & \\\n",
    "        (ACT_cat['RMDESY3_LAMBDA_CHISQ'] != -99)\n",
    "else:\n",
    "    raise Exception('optSource must be CAMIRA, SDSS, or DES')\n",
    "    \n",
    "opt_ra = ACT_cat['opt_RADeg'][opt_coord_locs]\n",
    "opt_dec = ACT_cat['opt_decDeg'][opt_coord_locs]\n",
    "\n",
    "opt_coords = SkyCoord(ra=opt_ra * u.degree, \n",
    "                      dec=opt_dec * u.degree, \n",
    "                      frame='icrs')\n",
    "sz_coords = ACT_coords[opt_coord_locs]\n",
    "\n",
    "## Check that every cluster in the sample has a richness\n",
    "# print(f'Number in sample with coords: {np.sum(opt_coord_locs)}')\n",
    "# has_richness = ACT_cat[opt_coord_locs]['RMDESY3_LAMBDA_CHISQ'] > 0\n",
    "# print(f'Number in sample with richnesses: {np.sum(has_richness)}')\n",
    "# print('Clusters without richnesses:')\n",
    "# print(ACT_cat[opt_coord_locs][~has_richness])"
   ]
  },
  {
   "cell_type": "markdown",
   "id": "7f550821",
   "metadata": {
    "tags": []
   },
   "source": [
    "Check that the properties of this subsample are generally consistent with those of the full ACT sample. \n",
    "One observation: for CAMIRA, the `has_opt_coords` sample doesn't have large values of RM_LAMBDA and SNR."
   ]
  },
  {
   "cell_type": "code",
   "execution_count": null,
   "id": "0dd3c141",
   "metadata": {
    "code_folding": [
     0
    ],
    "jupyter": {
     "outputs_hidden": true,
     "source_hidden": true
    },
    "tags": []
   },
   "outputs": [],
   "source": [
    "## histograms of subsample and sample properties\n",
    "\n",
    "# prop = 'RM_LAMBDA'\n",
    "# plt.figure(figsize=(10,5))\n",
    "# plt.title(f\"Normalized distributions of \" + prop + \" for has_opt_coords and full sample\")\n",
    "\n",
    "# num_bins = 15\n",
    "# bins = np.linspace(0, np.max(ACT_cat[prop]), num=num_bins)\n",
    "# plt.hist(ACT_cat[prop], bins=bins, alpha=0.5, label='Full ACT sample', density=True)\n",
    "# plt.hist(ACT_cat[opt_coord_locs][prop], bins=bins, alpha=0.5, \\\n",
    "#          label='Clusters with ' + optSource + ' positions', density=True)\n",
    "# plt.xlabel(prop)\n",
    "# plt.ylabel(\"Density\")\n",
    "\n",
    "# plt.legend()\n",
    "# plt.show()"
   ]
  },
  {
   "cell_type": "markdown",
   "id": "e2845de0",
   "metadata": {},
   "source": [
    "Fit the offset distribution."
   ]
  },
  {
   "cell_type": "code",
   "execution_count": null,
   "id": "21518c8c",
   "metadata": {
    "code_folding": [
     0
    ]
   },
   "outputs": [],
   "source": [
    "## Calculate physical offsets\n",
    "h = 0.7\n",
    "cosmo = LambdaCDM(H0=100*h, Om0=0.3, Ode0=0.7)\n",
    "angular_sep = opt_coords.separation(sz_coords)\n",
    "redshifts = ACT_cat[opt_coord_locs]['redshift']\n",
    "physical_sep = get_physical_sep(cosmo, angular_sep, redshifts)\n",
    "physical_offsets = physical_sep.value # removes astropy units\n",
    "\n",
    "if optSource == 'CAMIRA':\n",
    "    richnesses = ACT_cat[opt_coord_locs]['CAMIRA_N_mem']\n",
    "elif optSource == 'SDSS':\n",
    "    richnesses = ACT_cat[opt_coord_locs]['RM_LAMBDA']\n",
    "elif optSource == 'DES':\n",
    "    richnesses = ACT_cat[opt_coord_locs]['RMDESY3_LAMBDA_CHISQ']"
   ]
  },
  {
   "cell_type": "code",
   "execution_count": null,
   "id": "21b6d338",
   "metadata": {
    "code_folding": [
     0
    ],
    "scrolled": true
   },
   "outputs": [],
   "source": [
    "## Estimate f_centered with an arbitrary cutoff for being well-centered\n",
    "# def get_f_centered(well_centered_cutoff, matching_radius):\n",
    "#     '''\n",
    "    \n",
    "#     Returns an estimate of f_centered.\n",
    "    \n",
    "#     ARGUMENTS\n",
    "#     ---------\n",
    "#     well_centered_cutoff: upper offset limit for well-centered clusters\n",
    "#     matching_radius: upper offset limit for all clusters in sample\n",
    "    \n",
    "#     '''\n",
    "    \n",
    "#     num_well_centered = np.sum(offsets < well_centered_cutoff)\n",
    "#     num_within_rad = np.sum(offsets < matching_radius)\n",
    "    \n",
    "#     return np.round(num_well_centered / num_within_rad, 2)\n",
    "\n",
    "# well_centered_cutoff = 0.2 / h\n",
    "# matching_radii = [.6, .7, .8, .9, 1, 10]\n",
    "# print(f'Well-centered fraction (i.e. below {np.round(well_centered_cutoff, 2)} Mpc) for ' +\\\n",
    "#      optSource + ':')\n",
    "\n",
    "# for matching_rad in matching_radii:\n",
    "#     frac = get_f_centered(well_centered_cutoff, matching_rad)\n",
    "#     print(f'Matching radius = {matching_rad} Mpc: {frac}')"
   ]
  },
  {
   "cell_type": "code",
   "execution_count": null,
   "id": "5d9eed6f",
   "metadata": {
    "code_folding": [
     0
    ]
   },
   "outputs": [],
   "source": [
    "## Remove an arbitrary number of large offsets\n",
    "# offsets.sort()\n",
    "# num_removed = 10\n",
    "# offsets = offsets[:-num_removed]"
   ]
  },
  {
   "cell_type": "code",
   "execution_count": null,
   "id": "0ddc3321",
   "metadata": {
    "code_folding": [
     0
    ],
    "jupyter": {
     "outputs_hidden": true,
     "source_hidden": true
    },
    "scrolled": true,
    "tags": []
   },
   "outputs": [],
   "source": [
    "## Optimize (has_opt_coords)\n",
    "initial_guess = (0.7, 0.07, 0.37)\n",
    "best_guess = minimize(fun=objective_fn, x0=initial_guess, args=(physical_offsets), \\\n",
    "                     method='L-BFGS-B', bounds=((0., 1), (1e-4, 0.3), (0.1, 1.)))\n",
    "\n",
    "# init_obj = objective_fn(initial_guess, offsets)\n",
    "# print(f'Initial obj: {init_obj}\\n')\n",
    "\n",
    "f_best, sig1_best, sig2_best = best_guess.x\n",
    "print(best_guess)"
   ]
  },
  {
   "cell_type": "code",
   "execution_count": null,
   "id": "45fae3e6",
   "metadata": {
    "code_folding": [
     0
    ],
    "jupyter": {
     "outputs_hidden": true,
     "source_hidden": true
    },
    "scrolled": false,
    "tags": []
   },
   "outputs": [],
   "source": [
    "## Plot offset distro\n",
    "\n",
    "plt.figure(figsize=(10,5))\n",
    "\n",
    "plt.title(f\"ACT-optical offset distribution (optSource = {optSource}; Gaussian model)\")\n",
    "\n",
    "## Data sample\n",
    "num_bins = 40\n",
    "max_offset = np.max(physical_offsets)\n",
    "bins = np.linspace(0, max_offset, num=num_bins)\n",
    "hist = plt.hist(physical_offsets, bins=bins, label=f\"Data (n = {len(physical_offsets)})\", \\\n",
    "               density=True)\n",
    "plt.xlabel(\"Physical offset (Mpc)\")\n",
    "plt.ylabel(\"(Normalized) number of clusters\")\n",
    "\n",
    "## Model\n",
    "x_axis = (hist[1][:-1] + hist[1][1:]) / 2 # midpoints of histogram bins\n",
    "# plot full model\n",
    "norm_factor_full = 1 / \\\n",
    "        integrate.quad(offset_model, 0, max_offset, args=(f_best, sig1_best, sig2_best))[0]\n",
    "plt.plot(x_axis, norm_factor_full*offset_model(x_axis, f_best, sig1_best, sig2_best), label=\\\n",
    "    f\"Model:\\nf_cen={np.round(f_best,3)}\\nsig1={np.round(sig1_best,3)}\\nsig2={np.round(sig2_best,3)}\")\n",
    "# plot the model's two components separately\n",
    "plt.plot(x_axis, norm_factor_full*f_best*prob_dens_well_centered(x_axis, sig1_best),\n",
    "         label=f\"Well-centered distro\")\n",
    "plt.plot(x_axis, norm_factor_full*(1-f_best)*prob_dens_mis_centered(x_axis, sig2_best), \n",
    "         label=f\"Miscentered distro\")\n",
    "\n",
    "plt.legend()\n",
    "plt.show()"
   ]
  },
  {
   "cell_type": "markdown",
   "id": "b76cca4d",
   "metadata": {},
   "source": [
    "# Compute SZ positional uncertainty"
   ]
  },
  {
   "cell_type": "markdown",
   "id": "dfeffc2a",
   "metadata": {},
   "source": [
    "**NOTE:** This version of `compute_ang_scale_size` is incorrect. It's based on the quantity $r_s$, but this is different from the FWHM of the SZ signal."
   ]
  },
  {
   "cell_type": "code",
   "execution_count": null,
   "id": "2fa1e331",
   "metadata": {
    "code_folding": [
     0,
     27,
     52
    ]
   },
   "outputs": [],
   "source": [
    "def compute_R_500(M_500, z, cosmo):\n",
    "    '''\n",
    "    \n",
    "    Compute the radius corresponding to a density contrast of 500 (R_500). \n",
    "    The returned value is a Quantity object.\n",
    "    \n",
    "    We use the following formula:\n",
    "    \n",
    "    3 * M_500 / (4 * pi * R_500^3) = 500 * rho_crit(z)\n",
    "    \n",
    "    where rho_crit(z) is a function of redshift.\n",
    "    \n",
    "    ARGUMENTS\n",
    "    ---------\n",
    "    M_500: mass for density contrast of 500; an astropy Quantity object\n",
    "    z: redshift; unitless\n",
    "    cosmo: model for cosmology; e.g. astropy.cosmology.LambdaCDM(...)\n",
    "    \n",
    "    '''\n",
    "    \n",
    "    if (type(M_500) != u.quantity.Quantity):\n",
    "        raise TypeError('M_500 should be a Quantity object')\n",
    "\n",
    "    rho_crit = cosmo.critical_density(z)\n",
    "    \n",
    "    return np.cbrt(3 * M_500 / (4 * np.pi) / (500 * rho_crit)).to(u.Mpc)\n",
    "    \n",
    "def compute_ang_scale_size(template_name, cosmo):\n",
    "    '''\n",
    "    \n",
    "    Given the name of the matched filter template from the ACT catalog, \n",
    "    compute the angular scale size of the matched filter.\n",
    "    \n",
    "    ARGUMENTS\n",
    "    ---------\n",
    "    template_name: name of the matched filter template (e.g. 'Arnaud_M1e14_z0p2');\n",
    "    this comes from the 'template' column in the ACT catalog\n",
    "    cosmo: model for cosmology; e.g. astropy.cosmology.LambdaCDM(...)\n",
    "    \n",
    "    '''\n",
    "    \n",
    "    M_500 = float(template_name[8:12]) * const.M_sun\n",
    "    z = float(template_name[14] + '.' + template_name[16])\n",
    "    \n",
    "    R_500 = compute_R_500(M_500, z, cosmo)\n",
    "    c_500 = 1.177 # see Arnaud 2010\n",
    "    r_s = R_500 / c_500\n",
    "    d_A = cosmo.angular_diameter_distance(z)\n",
    "    theta_c = (r_s / d_A).to(u.dimensionless_unscaled) * u.rad\n",
    "    \n",
    "    return theta_c.to(u.arcmin)\n",
    "\n",
    "def compute_SZ_pos_uncertainty(theta_beam, theta_c, SNR):\n",
    "    '''\n",
    "    \n",
    "    Compute the positional uncertainty of an SZ signal. We use\n",
    "    the following formula:\n",
    "    \n",
    "    uncertainty = sqrt(theta_beam^2 + theta_c^2) / SNR\n",
    "    \n",
    "    ARGUMENTS\n",
    "    ---------\n",
    "    theta_beam: beam size; should be given in arcmin\n",
    "    theta_c: angular core radius/scale size; should be given in arcmin\n",
    "    SNR: signal-to-noise\n",
    "    \n",
    "    '''\n",
    "    \n",
    "    return np.sqrt(theta_beam * theta_beam + theta_c * theta_c) / SNR"
   ]
  },
  {
   "cell_type": "markdown",
   "id": "69514562",
   "metadata": {},
   "source": [
    "## Test the uncertainty function"
   ]
  },
  {
   "cell_type": "markdown",
   "id": "6b56fb97",
   "metadata": {},
   "source": [
    "Note: the scale size should increase with mass and decrease with distance."
   ]
  },
  {
   "cell_type": "code",
   "execution_count": null,
   "id": "8c172150",
   "metadata": {
    "code_folding": [
     0
    ]
   },
   "outputs": [],
   "source": [
    "## compute uncertainty\n",
    "h = 0.7\n",
    "cosmo = LambdaCDM(H0=100*h, Om0=0.3, Ode0=0.7)\n",
    "\n",
    "templates = np.unique(ACT_cat['template'], return_index=False)\n",
    "theta_cs = [compute_ang_scale_size(template, cosmo).value for template in templates]\n",
    "theta_cs = np.asarray(theta_cs)\n",
    "\n",
    "theta_beams = np.repeat(2.2, 16)\n",
    "SNRs = np.repeat(5, 16)\n",
    "\n",
    "print('Positional uncertainties (arcmin):')\n",
    "print(compute_SZ_pos_uncertainty(theta_beams, theta_cs, SNRs))\n",
    "\n",
    "# for template in templates:\n",
    "#     theta_c = compute_ang_scale_size(template, cosmo)\n",
    "#     print('Angular scale size for ' + template + f': {np.round(theta_c,2)}')"
   ]
  },
  {
   "cell_type": "markdown",
   "id": "1726f167-5b06-4333-85f4-99a9bafc8555",
   "metadata": {},
   "source": [
    "# Plotting info from TOPCAT "
   ]
  },
  {
   "cell_type": "markdown",
   "id": "f19c35ac-1523-4400-b7ef-eabbf2508a65",
   "metadata": {},
   "source": [
    "## Number of matches vs. matching radius"
   ]
  },
  {
   "cell_type": "markdown",
   "id": "ce1d3de7-2f9e-4552-a46e-ab006dbdaa7c",
   "metadata": {},
   "source": [
    "I got the data below via TOPCAT's table-matching feature. I selected \"Best match, symmetric\" and \"1 and 2\" for Match Selection and Join Type, respectively. Then, I plugged in different matching radii using the Max error option."
   ]
  },
  {
   "cell_type": "code",
   "execution_count": null,
   "id": "d52c5706-369d-44d3-8b9d-997f1a266bcb",
   "metadata": {
    "code_folding": [
     0
    ],
    "jupyter": {
     "source_hidden": true
    },
    "tags": []
   },
   "outputs": [],
   "source": [
    "## Plotting number of matches vs. match radius\n",
    "# match_radius = [.1, .2, .3, .4, .5, \\\n",
    "#                 .6, .7, .8, .9, 1, \\\n",
    "#                1.1, 1.2, 1.3, 1.4, 1.5, \\\n",
    "#                2, 2.5, 3, 4, 5, 6, 7, \\\n",
    "#                10, 15] # arcmin\n",
    "# num_matches = [6, 34, 48, 71, 94, \\\n",
    "#                107, 123, 142, 149, 157, \\\n",
    "#               162, 167, 170, 175, 178,\n",
    "#               187, 190, 194, 201, 205, 210, 215, \\\n",
    "#               234, 247]\n",
    "\n",
    "# plt.scatter(match_radius, num_matches)\n",
    "# plt.xlabel('Matching radius (arcminutes)')\n",
    "# plt.ylabel('Number of matches')\n",
    "\n",
    "# plt.show()"
   ]
  },
  {
   "cell_type": "markdown",
   "id": "f52bc75c",
   "metadata": {},
   "source": [
    "# Plot clusters on the sky"
   ]
  },
  {
   "cell_type": "markdown",
   "id": "3a9cf510",
   "metadata": {},
   "source": [
    "Reference: https://het.as.utexas.edu/HET/Software/Astropy-1.0/coordinates/skycoord.html#example-1-plotting-random-data-in-aitoff-projection"
   ]
  },
  {
   "cell_type": "markdown",
   "id": "6092670f",
   "metadata": {},
   "source": [
    "## Plot full catalogs"
   ]
  },
  {
   "cell_type": "code",
   "execution_count": null,
   "id": "9533cefe",
   "metadata": {
    "code_folding": [
     0
    ],
    "jupyter": {
     "outputs_hidden": true,
     "source_hidden": true
    },
    "scrolled": true,
    "tags": []
   },
   "outputs": [],
   "source": [
    "## ACT and HSC clusters\n",
    "\n",
    "fig = plt.figure(figsize=(20,13))\n",
    "fig.patch.set_facecolor('white')\n",
    "\n",
    "ax = plt.subplot(111, projection=\"aitoff\")\n",
    "ax.grid(True)\n",
    "# since the x-axis is reversed, we take the negative of the RA values\n",
    "ax.plot(-act_ra, act_dec, 'o', markersize=3, alpha=0.3, label='ACT', zorder=1)\n",
    "ax.plot(-hsc_ra, hsc_dec, 'o', markersize=3, alpha=0.1, label='HSC', zorder=1)\n",
    "\n",
    "ax.set_xlabel('Right Ascension', fontsize=20)\n",
    "ax.set_ylabel('Declination', fontsize=20)\n",
    "tick_labels_x = np.array([r'$150^\\degree$', r'$120^\\degree$', r'$90^\\degree$', r'$60^\\degree$', \n",
    "                        r'$30^\\degree$', r'$0^\\degree$', r'$330^\\degree$', r'$300^\\degree$',\n",
    "                        r'$270^\\degree$', r'$240^\\degree$', r'$210^\\degree$'])\n",
    "tick_labels_y = np.array([r'$-75^\\degree$', r'$-60^\\degree$', r'$-45^\\degree$', r'$-30^\\degree$', \n",
    "                        r'$-15^\\degree$', r'$0^\\degree$', r'$15^\\degree$', r'$30^\\degree$',\n",
    "                        r'$45^\\degree$', r'$60^\\degree$', r'$75^\\degree$'])\n",
    "ax.set_xticklabels(tick_labels_x, fontsize = 15, zorder = 5)\n",
    "ax.set_yticklabels(tick_labels_y, fontsize = 15, zorder = 5)\n",
    "\n",
    "ax.set_title(\"ACT and HSC clusters\", pad=20, fontsize=20)\n",
    "ax.legend(fontsize=15, markerscale=3)\n",
    "#plt.savefig(\"Figures/Catalog_Props/ACT_HSC_catalogs_on_sky.png\", bbox_inches='tight')\n",
    "plt.show()"
   ]
  },
  {
   "cell_type": "code",
   "execution_count": 186,
   "id": "06b4898f",
   "metadata": {
    "code_folding": [],
    "jupyter": {
     "outputs_hidden": true,
     "source_hidden": true
    },
    "tags": []
   },
   "outputs": [
    {
     "data": {
      "image/png": "[encoded data removed]",
      "text/plain": [
       "<Figure size 1440x936 with 1 Axes>"
      ]
     },
     "metadata": {},
     "output_type": "display_data"
    }
   ],
   "source": [
    "## ACT clusters flagged as being in HSC footprint and/or having an HSC counterpart\n",
    "\n",
    "fig = plt.figure(figsize=(20,13))\n",
    "fig.patch.set_facecolor('white')\n",
    "\n",
    "ax = plt.subplot(111, projection=\"aitoff\")\n",
    "ax.grid(True)\n",
    "# since the x-axis is reversed, we take the negative of the RA values\n",
    "ax.plot(-act_ra[in_hsc_footprint], act_dec[in_hsc_footprint], 'o', markersize=5, alpha=0.3, \\\n",
    "        label='ACT [in_hsc_footprint]', zorder=1)\n",
    "ax.plot(-act_ra[has_hsc_counterpart], act_dec[has_hsc_counterpart], 'x', markersize=5, alpha=0.3, \\\n",
    "        label='ACT [has_hsc_counterpart]', zorder=1)\n",
    "\n",
    "ax.set_xlabel('Right Ascension', fontsize=20)\n",
    "ax.set_ylabel('Declination', fontsize=20)\n",
    "tick_labels_x = np.array([r'$150^\\degree$', r'$120^\\degree$', r'$90^\\degree$', r'$60^\\degree$', \n",
    "                        r'$30^\\degree$', r'$0^\\degree$', r'$330^\\degree$', r'$300^\\degree$',\n",
    "                        r'$270^\\degree$', r'$240^\\degree$', r'$210^\\degree$'])\n",
    "tick_labels_y = np.array([r'$-75^\\degree$', r'$-60^\\degree$', r'$-45^\\degree$', r'$-30^\\degree$', \n",
    "                        r'$-15^\\degree$', r'$0^\\degree$', r'$15^\\degree$', r'$30^\\degree$',\n",
    "                        r'$45^\\degree$', r'$60^\\degree$', r'$75^\\degree$'])\n",
    "ax.set_xticklabels(tick_labels_x, fontsize = 15, zorder = 5)\n",
    "ax.set_yticklabels(tick_labels_y, fontsize = 15, zorder = 5)\n",
    "\n",
    "ax.set_title(\"ACT clusters\", pad=20, fontsize=20)\n",
    "ax.legend(fontsize=15, markerscale=3)\n",
    "#plt.savefig(\"Figures/Catalog_Props/ACT_HSC_catalogs_on_sky.png\", bbox_inches='tight')\n",
    "plt.show()"
   ]
  },
  {
   "cell_type": "markdown",
   "id": "99775a5f",
   "metadata": {},
   "source": [
    "## Plot a random subset of ACT clusters"
   ]
  },
  {
   "cell_type": "markdown",
   "id": "572ddebe",
   "metadata": {},
   "source": [
    "(playing around with matplotlib)"
   ]
  },
  {
   "cell_type": "code",
   "execution_count": null,
   "id": "e1e5bb74",
   "metadata": {
    "code_folding": [
     0
    ],
    "jupyter": {
     "source_hidden": true
    },
    "tags": []
   },
   "outputs": [],
   "source": [
    "# size = len(act_ra)\n",
    "# rand_inds = np.random.uniform(size=size) > 0.98\n",
    "\n",
    "# fig = plt.figure(figsize=(16,10))\n",
    "\n",
    "# ax = plt.subplot(111, projection=\"aitoff\")\n",
    "# ax.set_facecolor('#C3FFFF')\n",
    "# plt.grid(True)\n",
    "# # unicode 00a9 = copyright symbol\n",
    "# plt.plot(act_ra[rand_inds], act_dec[rand_inds], marker='$\\u00A9$', \n",
    "#          markersize=20, linestyle='None', alpha=0.5, label='ACT', c='r')\n",
    "\n",
    "# plt.title(\"Random ~2% of ACT galaxy clusters\", pad=25)\n",
    "# plt.show()"
   ]
  },
  {
   "cell_type": "markdown",
   "id": "9d8dfe59",
   "metadata": {},
   "source": [
    "## Plot ACT clusters cross-matched with HSC, SDSS, and/or DES"
   ]
  },
  {
   "cell_type": "code",
   "execution_count": null,
   "id": "28d9ab53",
   "metadata": {
    "code_folding": [
     0
    ],
    "jupyter": {
     "outputs_hidden": true,
     "source_hidden": true
    },
    "scrolled": false,
    "tags": []
   },
   "outputs": [],
   "source": [
    "## Separate RM clusters based on if they have a counterpart:\n",
    "# 1. only in one catalog,\n",
    "# 2. in two catalogs, or \n",
    "# 3. in all three\n",
    "\n",
    "has_hsc_counterpart = ACT_cat['CAMIRA']\n",
    "has_sdss_counterpart = ACT_cat['RM'] \n",
    "has_des_counterpart = ACT_cat['RMDESY3']\n",
    "print('Number of ACT clusters cross-matched with CAMIRA (HSC): ' + \n",
    "      str(np.sum(has_hsc_counterpart)))\n",
    "print('Number of ACT clusters cross-matched with redMaPPer (SDSS and/or DES): ' + \n",
    "      str(np.sum(has_sdss_counterpart | has_des_counterpart)))\n",
    "print('Number of ACT clusters cross-matched with at least one of the catalogs: ' + \n",
    "      str(np.sum(has_hsc_counterpart | has_sdss_counterpart | has_des_counterpart)))\n",
    "\n",
    "print()\n",
    "\n",
    "hsc_only = has_hsc_counterpart & (~has_sdss_counterpart) & (~has_des_counterpart)\n",
    "sdss_only = (~has_hsc_counterpart) & has_sdss_counterpart & (~has_des_counterpart)\n",
    "des_only = (~has_hsc_counterpart) & (~has_sdss_counterpart) & has_des_counterpart\n",
    "\n",
    "hsc_sdss = has_hsc_counterpart & has_sdss_counterpart & (~has_des_counterpart)\n",
    "sdss_des = (~has_hsc_counterpart) & has_sdss_counterpart & has_des_counterpart\n",
    "hsc_des = has_hsc_counterpart & (~has_sdss_counterpart) & has_des_counterpart\n",
    "\n",
    "hsc_sdss_des = has_hsc_counterpart & has_sdss_counterpart & has_des_counterpart\n",
    "\n",
    "# 3-group Venn diagram showing #s of clusters in each category\n",
    "from matplotlib_venn import venn3_unweighted\n",
    "\n",
    "# order of subsets: A, B, AB, C, AC, BC, ABC\n",
    "subsets = (np.sum(hsc_only), np.sum(sdss_only), np.sum(hsc_sdss), \\\n",
    "          np.sum(des_only), np.sum(hsc_des), np.sum(sdss_des), \\\n",
    "          np.sum(hsc_sdss_des))\n",
    "\n",
    "plt.figure(figsize=(7,7))\n",
    "plt.title(\"Numbers of ACT clusters cross-matched with HSC, SDSS, and/or DES\")\n",
    "venn3_unweighted(subsets = subsets, \\\n",
    "      set_labels = ('HSC (CAMIRA)', 'SDSS (RM)', 'DES (RM)'), \\\n",
    "      alpha = 0.5)\n",
    "\n",
    "plt.savefig(\"Figures/Catalog_Props/HSC_SDSS_DES_Venn.png\", bbox_inches='tight')\n",
    "plt.show()"
   ]
  },
  {
   "cell_type": "code",
   "execution_count": null,
   "id": "92877fce",
   "metadata": {
    "code_folding": [
     0
    ],
    "jupyter": {
     "outputs_hidden": true,
     "source_hidden": true
    },
    "tags": []
   },
   "outputs": [],
   "source": [
    "## Plot the different subsets\n",
    "\n",
    "plt.figure(figsize=(20,13))\n",
    "\n",
    "plt.subplot(111, projection=\"aitoff\")\n",
    "plt.grid(True)\n",
    "\n",
    "plt.plot(act_ra[hsc_only], act_dec[hsc_only], \n",
    "         'o', markersize=3, alpha=0.5, label='HSC only')\n",
    "plt.plot(act_ra[sdss_only], act_dec[sdss_only], \n",
    "         'v', markersize=3, alpha=0.5, label='SDSS only')\n",
    "plt.plot(act_ra[des_only], act_dec[des_only], \n",
    "         's', markersize=3, alpha=0.5, label='DES only')\n",
    "\n",
    "plt.plot(act_ra[hsc_sdss], act_dec[hsc_sdss], \n",
    "         '|', markersize=5, alpha=0.5, label='HSC+SDSS')\n",
    "plt.plot(act_ra[hsc_des], act_dec[hsc_des], \n",
    "         'x', markersize=5, alpha=0.5, label='HSC+DES')\n",
    "plt.plot(act_ra[sdss_des], act_dec[sdss_des], \n",
    "         '1', markersize=5, alpha=0.5, label='SDSS+DES')\n",
    "\n",
    "plt.plot(act_ra[hsc_sdss_des], act_dec[hsc_sdss_des], \n",
    "         '*', markersize=5, alpha=0.5, label='All 3')\n",
    "\n",
    "plt.xlabel('Right Ascension', fontsize=12)\n",
    "plt.ylabel('Declination', fontsize=12)\n",
    "\n",
    "plt.title(\"ACT clusters cross-matched with HSC, SDSS, and/or DES\", pad=40)\n",
    "plt.legend(fontsize=12, markerscale=3)\n",
    "plt.show()"
   ]
  },
  {
   "cell_type": "code",
   "execution_count": null,
   "id": "d32d7c2e",
   "metadata": {},
   "outputs": [],
   "source": []
  }
 ],
 "metadata": {
  "kernelspec": {
   "display_name": "Python 3",
   "language": "python",
   "name": "python3"
  },
  "language_info": {
   "codemirror_mode": {
    "name": "ipython",
    "version": 3
   },
   "file_extension": ".py",
   "mimetype": "text/x-python",
   "name": "python",
   "nbconvert_exporter": "python",
   "pygments_lexer": "ipython3",
   "version": "3.9.5"
  }
 },
 "nbformat": 4,
 "nbformat_minor": 5
}
