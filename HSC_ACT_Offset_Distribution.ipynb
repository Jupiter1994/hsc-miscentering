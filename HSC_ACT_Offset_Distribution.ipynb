{
 "cells": [
  {
   "cell_type": "markdown",
   "id": "cff8bd8d",
   "metadata": {},
   "source": [
    "# HSC-ACT Offset Distribution"
   ]
  },
  {
   "cell_type": "markdown",
   "id": "a7cb5092",
   "metadata": {},
   "source": [
    "With the HSC-ACT crossmatch catalog, one can fit the offsets distribution."
   ]
  },
  {
   "cell_type": "code",
   "execution_count": null,
   "id": "70921bf2",
   "metadata": {
    "code_folding": [
     0
    ]
   },
   "outputs": [],
   "source": [
    "## Import packages\n",
    "import numpy as np\n",
    "from scipy.optimize import minimize\n",
    "from scipy import integrate\n",
    "\n",
    "from astropy.table import Table\n",
    "from astropy.io import fits, ascii\n",
    "\n",
    "import matplotlib.pyplot as plt"
   ]
  },
  {
   "cell_type": "markdown",
   "id": "e715b2e0",
   "metadata": {},
   "source": [
    "## Get list of offsets"
   ]
  },
  {
   "cell_type": "code",
   "execution_count": null,
   "id": "684599c7",
   "metadata": {},
   "outputs": [],
   "source": [
    "# read in the crossmatch catalog\n",
    "cm_catalog = Table.read('HSC_ACT_crossmatch.fits', hdu=1)\n",
    "# read in \"Cause of miscentering\" column\n",
    "cause_of_misc = cm_catalog['Cause of miscentering']"
   ]
  },
  {
   "cell_type": "code",
   "execution_count": null,
   "id": "777c15e0",
   "metadata": {
    "scrolled": true
   },
   "outputs": [],
   "source": [
    "# create a flag indicating if a miscentered cluster should be excluded in the fitted distribution\n",
    "shape = (len(cm_catalog))\n",
    "\n",
    "reasons_for_exclusion = {'Artifact', 'Misidentified CG', 'Deblending', 'False match', \n",
    "                         'False signal', 'Star'}\n",
    "exclude_from_distro = [(cause in reasons_for_exclusion) for cause in cause_of_misc]\n",
    "exclude_from_distro = np.array(exclude_from_distro)"
   ]
  },
  {
   "cell_type": "code",
   "execution_count": null,
   "id": "4425aca8",
   "metadata": {},
   "outputs": [],
   "source": [
    "offsets_fiducial = cm_catalog['Offset (Mpc)']\n",
    "\n",
    "exclude_clusters = True\n",
    "if exclude_clusters:\n",
    "    offsets = offsets_fiducial[~exclude_from_distro]\n",
    "else:\n",
    "    offsets = offsets_fiducial"
   ]
  },
  {
   "cell_type": "markdown",
   "id": "e9271b5a",
   "metadata": {},
   "source": [
    "## Create offsets model"
   ]
  },
  {
   "cell_type": "code",
   "execution_count": null,
   "id": "4a1dd77e",
   "metadata": {
    "code_folding": [
     0,
     15,
     29,
     39,
     63,
     85,
     113,
     132,
     153
    ]
   },
   "outputs": [],
   "source": [
    "def prob_dens_well_centered(x, sigma1):\n",
    "    '''\n",
    "    A model for the offset distribution for well-centered clusters. See\n",
    "    the documentation for offset_model for a description.\n",
    "    \n",
    "    \n",
    "    ARGUMENTS\n",
    "    ---------\n",
    "    x: physical offset\n",
    "    sigma1: characteristic offset for well-centered clusters\n",
    "    \n",
    "    '''\n",
    "    \n",
    "    return (x / sigma1**2) * np.exp(-x**2 / (2*sigma1**2))\n",
    "\n",
    "def prob_dens_mis_centered(x, sigma2):\n",
    "    '''\n",
    "    A model for the offset distribution for miscentered clusters. See\n",
    "    the documentation for offset_model for a description.\n",
    "    \n",
    "    ARGUMENTS\n",
    "    ---------\n",
    "    x: physical offset\n",
    "    sigma2: characteristic offset for miscentered clusters\n",
    "    \n",
    "    '''\n",
    "    \n",
    "    return (x / sigma2**2) * np.exp(-x**2 / (2*sigma2**2))\n",
    "\n",
    "def prob_dens_linear(x, slope=0.5):\n",
    "    '''\n",
    "    A linear component of the offsets model that represents random \n",
    "    superpositions of ACT and HSC clusters. \n",
    "    \n",
    "    \n",
    "    '''\n",
    "    \n",
    "    return slope*x\n",
    "\n",
    "def offset_model(x, f_cen, sigma1, sigma2):\n",
    "    '''\n",
    "    \n",
    "    A two-component model for the centering offset distribution. Returns \n",
    "    the probability density at a given offset. All arguments are in Mpc.\n",
    "    \n",
    "    This is equation 9 in the CAMIRA catalog paper (Oguri et al. 2018).\n",
    "    Both the well-centered population and the miscentered population are\n",
    "    modeled with a Rayleigh distribution.\n",
    "\n",
    "    ARGUMENTS\n",
    "    ---------\n",
    "    x: physical offset\n",
    "    f_cen: fraction of well-centered clusters\n",
    "    sigma1: characteristic offset for well-centered clusters\n",
    "    sigma2: characteristic offset for miscentered clusters\n",
    "    \n",
    "    '''\n",
    "    \n",
    "    prob_dens_well = prob_dens_well_centered(x, sigma1)\n",
    "    prob_dens_mis = prob_dens_mis_centered(x, sigma2)\n",
    "    \n",
    "    return f_cen * prob_dens_well + (1 - f_cen) * prob_dens_mis\n",
    "\n",
    "def offset_model_fixed_sig1(x, f_cen, sigma2, sigma1=0.1):\n",
    "    '''\n",
    "    \n",
    "    Same as offset_model, except sigma1 is a fixed value. \n",
    "    All arguments are in Mpc.\n",
    "    \n",
    "\n",
    "    ARGUMENTS\n",
    "    ---------\n",
    "    x: physical offset\n",
    "    f_cen: fraction of well-centered clusters\n",
    "    sigma2: characteristic offset for miscentered clusters\n",
    "    sigma1: characteristic offset for well-centered clusters; default\n",
    "    value is 0.1 Mpc\n",
    "    \n",
    "    '''\n",
    "    \n",
    "    prob_dens_well = prob_dens_well_centered(x, sigma1)\n",
    "    prob_dens_mis = prob_dens_mis_centered(x, sigma2)\n",
    "    \n",
    "    return f_cen * prob_dens_well + (1 - f_cen) * prob_dens_mis\n",
    "\n",
    "def offset_model_fixed_sig1_3comp(x, f_cen, sigma2, slope, sigma1=0.15):\n",
    "    '''\n",
    "    \n",
    "    3-component model of the offsets distribution. The well-centered \n",
    "    population is modeled with a Rayleigh distribution with (fixed) sigma1,\n",
    "    the miscentered population is a Rayleigh distribution with sigma2, and\n",
    "    the random superposition population is linear.\n",
    "    \n",
    "    All arguments are in Mpc.\n",
    "    \n",
    "\n",
    "    ARGUMENTS\n",
    "    ---------\n",
    "    x: physical offset\n",
    "    f_cen: fraction of well-centered clusters\n",
    "    slope: characteristic slope of random superposition population\n",
    "    sigma2: characteristic offset for miscentered clusters\n",
    "    sigma1: characteristic offset for well-centered clusters; default\n",
    "    value is 0.1 Mpc\n",
    "    \n",
    "    '''\n",
    "    \n",
    "    prob_dens_well = prob_dens_well_centered(x, sigma1)\n",
    "    prob_dens_mis = prob_dens_mis_centered(x, sigma2)\n",
    "    prob_dens_random = prob_dens_linear(x, slope)\n",
    "    \n",
    "    return f_cen * prob_dens_well + (1 - f_cen) * prob_dens_mis + prob_dens_random\n",
    "\n",
    "def objective_fn(params, offsets):\n",
    "    '''\n",
    "    \n",
    "    Given the model parameters and the set of offsets, compute\n",
    "    the objective as a log likelihood.\n",
    "    \n",
    "    ARGUMENTS\n",
    "    ----------\n",
    "    params: tunable parameters in offset_model\n",
    "    offsets: set of physical offsets (Mpc; same as offset_model)\n",
    "    \n",
    "    '''\n",
    "    \n",
    "    f_cen, sig1, sig2 = params\n",
    "    probs = offset_model(offsets, f_cen, sig1, sig2)\n",
    "    \n",
    "    obj = -np.sum(np.log(probs)) # goal: *minimize* log likelihood\n",
    "    return obj\n",
    "\n",
    "def objective_fn_fixed_sig1(params, offsets, fixed_sig1):\n",
    "    '''\n",
    "    \n",
    "    Given the parameters for the 2-component model (with fixed sig1) and \n",
    "    the set of offsets, compute the objective as a log likelihood.\n",
    "    \n",
    "    ARGUMENTS\n",
    "    ----------\n",
    "    params: tunable parameters in offset_model\n",
    "    offsets: set of physical offsets (Mpc; same as offset_model)\n",
    "    fixed_sig1: fixed value of sigma1\n",
    "    \n",
    "    '''\n",
    "    \n",
    "    f_cen, sig2 = params\n",
    "    \n",
    "    probs = offset_model_fixed_sig1(offsets, f_cen, sig2, sigma1=fixed_sig1)\n",
    "    \n",
    "    obj = -np.sum(np.log(probs)) # goal: *minimize* log likelihood\n",
    "    return obj\n",
    "\n",
    "def objective_fn_fixed_sig1_3comp(params, offsets, fixed_sig1):\n",
    "    '''\n",
    "    \n",
    "    Given the parameters for the 3-component model and the set of offsets, \n",
    "    compute the objective as a log likelihood.\n",
    "    \n",
    "    ARGUMENTS\n",
    "    ----------\n",
    "    params: tunable parameters in offset_model\n",
    "    offsets: set of physical offsets (Mpc; same as offset_model)\n",
    "    fixed_sig1: fixed value of sigma1\n",
    "    \n",
    "    '''\n",
    "    \n",
    "    f_cen, sig2, slope = params\n",
    "    \n",
    "    probs = offset_model_fixed_sig1_3comp(offsets, f_cen, sig2, slope, sigma1=fixed_sig1)\n",
    "    \n",
    "    obj = -np.sum(np.log(probs)) # goal: *minimize* log likelihood\n",
    "    return obj"
   ]
  },
  {
   "cell_type": "markdown",
   "id": "f65371a0",
   "metadata": {},
   "source": [
    "## Fit distribution to model"
   ]
  },
  {
   "cell_type": "code",
   "execution_count": null,
   "id": "9886a308",
   "metadata": {
    "code_folding": [
     10
    ]
   },
   "outputs": [],
   "source": [
    "use_fixed_sig1 = True\n",
    "use_3comp = False\n",
    "\n",
    "if use_fixed_sig1:\n",
    "    fixed_sig1 = 0.15\n",
    "    sig1_best = fixed_sig1\n",
    "    \n",
    "    if use_3comp:\n",
    "        initial_guess = (0.75, 0.17, 0.1)\n",
    "        best_guess = minimize(fun=objective_fn_fixed_sig1_3comp, x0=initial_guess, \\\n",
    "                        args=(offsets, fixed_sig1), method='L-BFGS-B', \\\n",
    "                              bounds=((0., 1), (0.01, 1.), (0., 0.2)))\n",
    "        f_best, sig2_best, slope_best = best_guess.x\n",
    "    else:\n",
    "        initial_guess = (0.75, 0.17)\n",
    "        best_guess = minimize(fun=objective_fn_fixed_sig1, x0=initial_guess, \\\n",
    "                    args=(offsets, fixed_sig1), method='L-BFGS-B', \\\n",
    "                          bounds=((0., 1), (0.01, 1.)))\n",
    "        f_best, sig2_best = best_guess.x\n",
    "else:\n",
    "    initial_guess = (0.75, 0.15, 0.35)\n",
    "    best_guess = minimize(fun=objective_fn, x0=initial_guess, args=(offsets), \\\n",
    "                         method='L-BFGS-B', bounds=((0., 1), (1e-4, 0.3), (0.1, 1.)))\n",
    "    f_best, sig1_best, sig2_best = best_guess.x\n",
    "\n",
    "print(best_guess)"
   ]
  },
  {
   "cell_type": "markdown",
   "id": "79695edf",
   "metadata": {},
   "source": [
    "## Plot distribution and model together"
   ]
  },
  {
   "cell_type": "code",
   "execution_count": null,
   "id": "5e33ee21",
   "metadata": {},
   "outputs": [],
   "source": [
    "## set global font size\n",
    "plt.rcParams.update({'font.size':32})\n",
    "\n",
    "## Plot offset distribution (cross-match)\n",
    "fig = plt.figure(figsize=(25,14))\n",
    "fig.patch.set_facecolor('white')\n",
    "\n",
    "use_title = False\n",
    "if use_title:\n",
    "    plot_title = f\"ACT-HSC offset distribution\"\n",
    "    plt.suptitle(plot_title, fontsize=30, y=0.95)\n",
    "\n",
    "    plot_subtitle = f'n = {len(offsets)}'\n",
    "    if exclude_clusters:\n",
    "        plot_subtitle += '; clusters with an identifiable, non-astrophysical source of miscentering are excluded.'\n",
    "    plt.title(plot_subtitle, fontsize=24, pad=10)\n",
    "\n",
    "## Data sample\n",
    "num_bins = 20\n",
    "max_offset = np.max(offsets)\n",
    "bins = np.linspace(0, max_offset, num=num_bins)\n",
    "hist = plt.hist(offsets, bins=bins, \\\n",
    "                label=f\"Offset distribution\", density=True)\n",
    "plt.xlabel(\"Physical offset (Mpc)\", labelpad=10)\n",
    "plt.ylabel(\"Normalized number of clusters\", labelpad=10)\n",
    "\n",
    "## Model\n",
    "x_axis = (hist[1][:-1] + hist[1][1:]) / 2 # midpoints of histogram bins\n",
    "# plot full model\n",
    "norm_factor_full = 1 / \\\n",
    "        integrate.quad(offset_model, 0, max_offset, args=(f_best, sig1_best, sig2_best))[0]\n",
    "\n",
    "# plot the full model\n",
    "if use_3comp:\n",
    "    model = norm_factor_full*offset_model_fixed_sig1_3comp(x_axis, f_best, sig2_best,\\\n",
    "                                                        slope_best, fixed_sig1)\n",
    "else:\n",
    "    model = norm_factor_full*offset_model_fixed_sig1(x_axis, f_best, sig2_best,\\\n",
    "                                                        fixed_sig1)\n",
    "    \n",
    "plt.plot(x_axis, model, \\\n",
    "    label=f\"Full model (f_cen={np.round(f_best,3)})\", color='black', linewidth=5)\n",
    "\n",
    "# plot the model's components separately\n",
    "if use_fixed_sig1:\n",
    "    plt.plot(x_axis, norm_factor_full*f_best*prob_dens_well_centered(x_axis, sig1_best),\n",
    "         label=f\"Well-centered component ($\\sigma_1$={np.round(sig1_best,3)}, fixed)\", \\\n",
    "         color='purple', linestyle='--', linewidth=4)\n",
    "else:\n",
    "    plt.plot(x_axis, norm_factor_full*f_best*prob_dens_well_centered(x_axis, sig1_best),\n",
    "         label=f\"Well-centered component ($\\sigma_1$={np.round(sig1_best,3)})\", \\\n",
    "         color='purple', linestyle='--', linewidth=4)\n",
    "\n",
    "plt.plot(x_axis, norm_factor_full*(1-f_best)*prob_dens_mis_centered(x_axis, sig2_best), \n",
    "         label=f\"Miscentered component ($\\sigma_2$={np.round(sig2_best,3)})\", \\\n",
    "         color='red', linestyle=':', linewidth=5)\n",
    "\n",
    "if use_3comp:\n",
    "    plt.plot(x_axis, prob_dens_linear(x_axis, slope_best), \n",
    "         label=f\"Linear component (slope={np.round(slope_best,3)})\", \\\n",
    "         color='green', linestyle='--', linewidth=5)\n",
    "\n",
    "plt.legend()\n",
    "plt.savefig(\"Figures/MNRAS_Paper_Figures/Model/cleaned_distro.png\", bbox_inches='tight')\n",
    "plt.show()"
   ]
  },
  {
   "cell_type": "markdown",
   "id": "07da04b8",
   "metadata": {},
   "source": [
    "## Analyze fit"
   ]
  },
  {
   "cell_type": "markdown",
   "id": "a568e42b",
   "metadata": {},
   "source": [
    "We assign the labels of \"well-centered\" and \"miscentered\" to the cross-match clusters. \n",
    "\n",
    "\n",
    "Below, the cutoff for well-centered vs. miscentered is determined. For example: Assume $f_{cen}=0.75$. If a cluster's centering offset is above the 75th percentile of all offsets in the sample, then it is miscentered; otherwise, it is well-centered."
   ]
  },
  {
   "cell_type": "code",
   "execution_count": null,
   "id": "c4e97d3b",
   "metadata": {
    "scrolled": true
   },
   "outputs": [],
   "source": [
    "well_centered_cutoff = np.percentile(offsets, 100*f_best)\n",
    "print(f'well_centered_cutoff: {np.round(well_centered_cutoff, 3)} Mpc')\n",
    "is_well_centered = [(offset < well_centered_cutoff) for offset in offsets]\n",
    "is_well_centered = np.asarray(is_well_centered)"
   ]
  },
  {
   "cell_type": "markdown",
   "id": "83fa590d",
   "metadata": {},
   "source": [
    "Below, we determine the number of clusters whose offset falls between 331 and 373 kpc. (The 331 kpc came from the fiducial crossmatch, and the 373 kpc comes from this \"cleaned\" crossmatch.)"
   ]
  },
  {
   "cell_type": "code",
   "execution_count": null,
   "id": "d524c8ba",
   "metadata": {},
   "outputs": [],
   "source": [
    "# offsets_sorted = np.sort(offsets)\n",
    "cutoff1 = 0.331\n",
    "cutoff2 = 0.373\n",
    "\n",
    "between_cutoffs = (offsets > cutoff1) & (offsets < cutoff2)\n",
    "#offsets[between_cutoffs]\n",
    "\n",
    "# examine miscentering causes of the clusters in this offset range\n",
    "between_cutoffs_fiducial = (offsets_fiducial > cutoff1) & (offsets_fiducial < cutoff2)\n",
    "# print clusters in cleaned sample in this offset range\n",
    "cm_catalog[between_cutoffs_fiducial & ~exclude_from_distro]"
   ]
  },
  {
   "cell_type": "code",
   "execution_count": null,
   "id": "9a31d7b5",
   "metadata": {},
   "outputs": [],
   "source": [
    "# examine miscentered clusters in cleaned sample\n",
    "is_miscentered_cleaned = (offsets_fiducial > cutoff2) & ~exclude_from_distro\n",
    "cm_catalog[is_miscentered_cleaned]"
   ]
  },
  {
   "cell_type": "code",
   "execution_count": null,
   "id": "13c9eda4",
   "metadata": {},
   "outputs": [],
   "source": []
  }
 ],
 "metadata": {
  "kernelspec": {
   "display_name": "Python 3",
   "language": "python",
   "name": "python3"
  },
  "language_info": {
   "codemirror_mode": {
    "name": "ipython",
    "version": 3
   },
   "file_extension": ".py",
   "mimetype": "text/x-python",
   "name": "python",
   "nbconvert_exporter": "python",
   "pygments_lexer": "ipython3",
   "version": "3.9.5"
  }
 },
 "nbformat": 4,
 "nbformat_minor": 5
}
